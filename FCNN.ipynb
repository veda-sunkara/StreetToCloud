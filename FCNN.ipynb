{
  "nbformat": 4,
  "nbformat_minor": 0,
  "metadata": {
    "colab": {
      "name": "FCNN.ipynb",
      "provenance": [],
      "collapsed_sections": [],
      "authorship_tag": "ABX9TyODSJufYoaSMLcDVvPFUiJV",
      "include_colab_link": true
    },
    "kernelspec": {
      "name": "python3",
      "display_name": "Python 3"
    }
  },
  "cells": [
    {
      "cell_type": "markdown",
      "metadata": {
        "id": "view-in-github",
        "colab_type": "text"
      },
      "source": [
        "<a href=\"https://colab.research.google.com/github/veda-sunkara/StreetToCloud/blob/master/FCNN.ipynb\" target=\"_parent\"><img src=\"https://colab.research.google.com/assets/colab-badge.svg\" alt=\"Open In Colab\"/></a>"
      ]
    },
    {
      "cell_type": "code",
      "metadata": {
        "id": "VcOjpP5AxuiV",
        "colab_type": "code",
        "colab": {}
      },
      "source": [
        "LR = 1e-3\n",
        "EPOCHS = 1000\n",
        "EPOCHS_PER_UPDATE = 1\n",
        "RUNNAME = \"1e3_flood_0\""
      ],
      "execution_count": null,
      "outputs": []
    },
    {
      "cell_type": "code",
      "metadata": {
        "id": "xwLbvKsGE_Qm",
        "colab_type": "code",
        "colab": {}
      },
      "source": [
        "from google.colab import auth\n",
        "auth.authenticate_user()\n",
        "\n",
        "!curl https://sdk.cloud.google.com | bash\n",
        "\n",
        "!gcloud init"
      ],
      "execution_count": null,
      "outputs": []
    },
    {
      "cell_type": "code",
      "metadata": {
        "id": "265yaPPqfMBO",
        "colab_type": "code",
        "colab": {}
      },
      "source": [
        "!cd /home"
      ],
      "execution_count": null,
      "outputs": []
    },
    {
      "cell_type": "code",
      "metadata": {
        "id": "tXOFDO5QM9L2",
        "colab_type": "code",
        "colab": {}
      },
      "source": [
        "import torch\n",
        "from torchvision import transforms\n",
        "import torchvision.transforms.functional as F\n",
        "import random\n",
        "\n",
        "class InMemoryDataset(torch.utils.data.Dataset):\n",
        "  \n",
        "  def __init__(self, data_list, preprocess_func):\n",
        "    self.data_list = data_list\n",
        "    self.preprocess_func = preprocess_func\n",
        "  \n",
        "  def __getitem__(self, i):\n",
        "    return self.preprocess_func(self.data_list[i])\n",
        "  \n",
        "  def __len__(self):\n",
        "    return len(self.data_list)\n",
        "\n",
        "\n",
        "def processAndAugment(data):\n",
        "  (x,y) = data\n",
        "  im,label = x.copy(), y.copy()\n",
        "\n",
        "  # convert to PIL for easier transforms\n",
        "  im1 = Image.fromarray(im[0])\n",
        "  im2 = Image.fromarray(im[1])\n",
        "  label = Image.fromarray(label.squeeze())\n",
        "\n",
        "  # Get params for random transforms\n",
        "  i, j, h, w = transforms.RandomCrop.get_params(im1, (256, 256))\n",
        "  \n",
        "  im1 = F.crop(im1, i, j, h, w)\n",
        "  im2 = F.crop(im2, i, j, h, w)\n",
        "  label = F.crop(label, i, j, h, w)\n",
        "  if random.random() > 0.5:\n",
        "    im1 = F.hflip(im1)\n",
        "    im2 = F.hflip(im2)\n",
        "    label = F.hflip(label)\n",
        "  if random.random() > 0.5:\n",
        "    im1 = F.vflip(im1)\n",
        "    im2 = F.vflip(im2)\n",
        "    label = F.vflip(label)\n",
        "  \n",
        "  norm = transforms.Normalize([0.6851, 0.5235], [0.0820, 0.1102])\n",
        "  im = torch.stack([transforms.ToTensor()(im1).squeeze(), transforms.ToTensor()(im2).squeeze()])\n",
        "  im = norm(im)\n",
        "  label = transforms.ToTensor()(label).squeeze()\n",
        "  if torch.sum(label.gt(.003) * label.lt(.004)):\n",
        "    label *= 255\n",
        "  label = label.round()\n",
        "\n",
        "  return im, label\n",
        "\n",
        "\n",
        "def processTestIm(data):\n",
        "  (x,y) = data\n",
        "  im,label = x.copy(), y.copy()\n",
        "  norm = transforms.Normalize([0.6851, 0.5235], [0.0820, 0.1102])\n",
        "  #label[0][0][0] = 255\n",
        "  \n",
        "  # convert to PIL for easier transforms\n",
        "  im_c1 = Image.fromarray(im[0]).resize((512,512))\n",
        "  im_c2 = Image.fromarray(im[1]).resize((512,512))\n",
        "  label = Image.fromarray(label.squeeze()).resize((512,512))\n",
        "\n",
        "  im_c1s = [F.crop(im_c1, 0, 0, 256, 256), F.crop(im_c1, 0, 256, 256, 256),\n",
        "            F.crop(im_c1, 256, 0, 256, 256), F.crop(im_c1, 256, 256, 256, 256)]\n",
        "  im_c2s = [F.crop(im_c2, 0, 0, 256, 256), F.crop(im_c2, 0, 256, 256, 256),\n",
        "            F.crop(im_c2, 256, 0, 256, 256), F.crop(im_c2, 256, 256, 256, 256)]\n",
        "  labels = [F.crop(label, 0, 0, 256, 256), F.crop(label, 0, 256, 256, 256),\n",
        "            F.crop(label, 256, 0, 256, 256), F.crop(label, 256, 256, 256, 256)]\n",
        "\n",
        "\n",
        "  ims = [torch.stack((transforms.ToTensor()(x).squeeze(),\n",
        "                    transforms.ToTensor()(y).squeeze()))\n",
        "                    for (x,y) in zip(im_c1s, im_c2s)]\n",
        "  ims = [norm(im) for im in ims]\n",
        "  ims = torch.stack(ims)\n",
        "  labels = [(transforms.ToTensor()(label).squeeze()) for label in labels]\n",
        "  labels = torch.stack(labels)\n",
        "  if torch.sum(labels.gt(.003) * labels.lt(.004)):\n",
        "    labels *= 255\n",
        "  labels = labels.round()\n",
        "  return ims, labels"
      ],
      "execution_count": null,
      "outputs": []
    },
    {
      "cell_type": "code",
      "metadata": {
        "id": "QIBBqZanOGab",
        "colab_type": "code",
        "colab": {}
      },
      "source": [
        "!pip install rasterio\n",
        "\n",
        "!gsutil cp gs://cnn_chips/permanent_water_data.csv .\n",
        "!gsutil cp gs://cnn_chips/permanent_water_test_data.csv .\n",
        "!gsutil cp gs://cnn_chips/permanent_water_train_data.csv .\n",
        "!gsutil cp gs://cnn_chips/permanent_water_validation_data.csv ."
      ],
      "execution_count": null,
      "outputs": []
    },
    {
      "cell_type": "code",
      "metadata": {
        "id": "7PxA9idPPKJ1",
        "colab_type": "code",
        "colab": {}
      },
      "source": [
        "import csv\n",
        "from PIL import Image\n",
        "import rasterio\n",
        "import numpy as np\n",
        "import os\n",
        "BASEDIR = ''\n",
        "\n",
        "def getArr(fname):\n",
        "  return rasterio.open(BASEDIR + fname).read()\n",
        "\n",
        "\n",
        "def download_perm_water_data_from_file(fname):\n",
        "  with open(fname) as f:\n",
        "    data_fnames = [tuple(line) for line in csv.reader(f)]\n",
        "  i = 0\n",
        "  data = []\n",
        "  for (x,y) in data_fnames:\n",
        "    arr_x, arr_y = getArr(x), getArr(y)\n",
        "    if np.sum((arr_x != arr_x)) == 0:\n",
        "      ignore = (arr_y == -1)\n",
        "      ignore = ((np.uint8(ignore) * -1) * 256) + 1\n",
        "      arr_y *= ignore\n",
        "      data.append((arr_x, arr_y))\n",
        "      i+=1\n",
        "      print(i)\n",
        "    else:\n",
        "      print(\"skipping nan\")\n",
        "  return data\n",
        "\n",
        "def download_perm_train_data():\n",
        "  TRAINING_DATA_FILE = BASEDIR + 'permanent_water_train_data.csv'\n",
        "  return download_perm_water_data_from_file(TRAINING_DATA_FILE)\n",
        "\n",
        "def download_perm_valid_data():\n",
        "  VALID_DATA_FILE = BASEDIR + 'permanent_water_validation_data.csv'\n",
        "  return download_perm_water_data_from_file(VALID_DATA_FILE)\n",
        "\n",
        "def download_perm_test_data():\n",
        "  TEST_DATA_FILE = BASEDIR + 'permanent_water_test_data.csv'\n",
        "  return download_perm_water_data_from_file(TEST_DATA_FILE)"
      ],
      "execution_count": null,
      "outputs": []
    },
    {
      "cell_type": "code",
      "metadata": {
        "id": "cjrtUiwpPS3O",
        "colab_type": "code",
        "colab": {}
      },
      "source": [
        "!mkdir /files3\n",
        "!mkdir /files3/S1\n",
        "!mkdir /files3/NoQC"
      ],
      "execution_count": null,
      "outputs": []
    },
    {
      "cell_type": "code",
      "metadata": {
        "id": "73h6qgMsSBOg",
        "colab_type": "code",
        "colab": {}
      },
      "source": [
        "!gsutil -m rsync gs://cnn_chips/S1 /files3/S1/\n",
        "!gsutil -m rsync gs://cnn_chips/NoQC /files3/NoQC/"
      ],
      "execution_count": null,
      "outputs": []
    },
    {
      "cell_type": "code",
      "metadata": {
        "id": "SwpVipZNScc8",
        "colab_type": "code",
        "colab": {}
      },
      "source": [
        "!echo \"deb http://packages.cloud.google.com/apt gcsfuse-bionic main\" > /etc/apt/sources.list.d/gcsfuse.list\n",
        "!curl https://packages.cloud.google.com/apt/doc/apt-key.gpg | apt-key add -\n",
        "!apt -qq update\n",
        "!apt -qq install gcsfuse\n",
        "\n",
        "!sudo mkdir files4\n",
        "!gcsfuse --implicit-dirs cnn_chips files4"
      ],
      "execution_count": null,
      "outputs": []
    },
    {
      "cell_type": "code",
      "metadata": {
        "id": "QtBqkzsLSm3x",
        "colab_type": "code",
        "colab": {}
      },
      "source": [
        "from time import time\n",
        "\n",
        "def getArrFlood(fname):\n",
        "  return rasterio.open(fname).read()\n",
        "\n",
        "def download_flood_water_data_from_list(l):\n",
        "  i= 0\n",
        "  tot_nan = 0\n",
        "  tot_good = 0\n",
        "  flood_data = []\n",
        "  for (im_fname, mask_fname) in l:\n",
        "    if not os.path.exists(os.path.join(\"files3/\", im_fname)):\n",
        "      print(os.path.join(\"files3/\", im_fname))\n",
        "      continue\n",
        "    arr_x = np.nan_to_num(getArrFlood(os.path.join(\"files3/\", im_fname)))\n",
        "    arr_y = getArrFlood(os.path.join(\"files3/\", mask_fname))\n",
        "    ignore = (arr_y == -1)\n",
        "    ignore = ((np.uint8(ignore) * -1) * 256) + 1\n",
        "    arr_y *= ignore\n",
        "    arr_y = np.uint8(getArrFlood(os.path.join(\"files3/\", mask_fname)))\n",
        "    if np.sum((arr_y != arr_y)) == 0:\n",
        "      arr_x = np.clip(arr_x, -50, 1)\n",
        "      arr_x = (arr_x + 50) / 51\n",
        "      if i % 100 == 0:\n",
        "        print(i)\n",
        "        print(im_fname, mask_fname)\n",
        "      i += 1\n",
        "      flood_data.append((arr_x,arr_y))\n",
        "    else:\n",
        "      print(\"skipping nan\")\n",
        "  print(i)\n",
        "  return flood_data\n",
        "\n",
        "\n",
        "def load_flood_train_data():\n",
        "  basedir = \"files4/\"\n",
        "  fname = \"files3/flood_train_data.csv\"\n",
        "  with open(fname) as f:\n",
        "    fname = [tuple(line) for line in csv.reader(f)]\n",
        "  return download_flood_water_data_from_list(fname)\n",
        "\n",
        "def load_weak_flood_train_data():\n",
        "  basedir = \"files4/\"\n",
        "  files = [(os.path.join(\"S1_NoQC\", x[1]), os.path.join(\"NoQC\", x[0])) for x in zip(sorted(os.listdir(\"files3/NoQC\")), sorted(os.listdir(\"files3/S1_NoQC\")))]\n",
        "  files = [x for x in files if \"Bolivia\" not in x[0]]\n",
        "  print(files[0:10])\n",
        "  return download_flood_water_data_from_list(files)\n",
        "\n",
        "def load_flood_valid_data():\n",
        "  basedir = \"files4/\"\n",
        "  fname = \"files3/flood_valid_data.csv\"\n",
        "  with open(fname) as f:\n",
        "    fname = [tuple(line) for line in csv.reader(f)]\n",
        "  print(fname, \"files!\")\n",
        "  return download_flood_water_data_from_list(fname)\n",
        "\n",
        "def load_flood_test_data():\n",
        "  basedir = \"files4/\"\n",
        "  fname = \"files3/flood_test_data.csv\"\n",
        "  with open(fname) as f:\n",
        "    fname = [tuple(line) for line in csv.reader(f)]\n",
        "  return download_flood_water_data_from_list(fname)\n",
        "\n",
        "def load_flood_bolivia_test_data():\n",
        "  basedir = \"files4/\"\n",
        "  fname = \"files3/flood_bolivia_data.csv\"\n",
        "  with open(fname) as f:\n",
        "    fname = [tuple(line) for line in csv.reader(f)]\n",
        "  return download_flood_water_data_from_list(fname)"
      ],
      "execution_count": null,
      "outputs": []
    },
    {
      "cell_type": "code",
      "metadata": {
        "id": "Vs7RpoyDTgLJ",
        "colab_type": "code",
        "colab": {}
      },
      "source": [
        "cd ../../"
      ],
      "execution_count": null,
      "outputs": []
    },
    {
      "cell_type": "code",
      "metadata": {
        "id": "l3RucO3iTk6W",
        "colab_type": "code",
        "colab": {}
      },
      "source": [
        "train_data = download_perm_train_data()\n",
        "train_dataset = InMemoryDataset(train_data, processAndAugment)\n",
        "train_loader = torch.utils.data.DataLoader(train_dataset, batch_size=16, shuffle=True, sampler=None,\n",
        "                  batch_sampler=None, num_workers=0, collate_fn=None,\n",
        "                  pin_memory=True, drop_last=False, timeout=0,\n",
        "                  worker_init_fn=None)\n",
        "train_iter = iter(train_loader)"
      ],
      "execution_count": null,
      "outputs": []
    }
  ]
}