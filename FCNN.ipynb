{
  "nbformat": 4,
  "nbformat_minor": 0,
  "metadata": {
    "colab": {
      "name": "FCNN.ipynb",
      "provenance": [],
      "collapsed_sections": [],
      "authorship_tag": "ABX9TyP8jtYAYnelj9mDJTvH517z",
      "include_colab_link": true
    },
    "kernelspec": {
      "name": "python3",
      "display_name": "Python 3"
    }
  },
  "cells": [
    {
      "cell_type": "markdown",
      "metadata": {
        "id": "view-in-github",
        "colab_type": "text"
      },
      "source": [
        "<a href=\"https://colab.research.google.com/github/veda-sunkara/StreetToCloud/blob/master/FCNN.ipynb\" target=\"_parent\"><img src=\"https://colab.research.google.com/assets/colab-badge.svg\" alt=\"Open In Colab\"/></a>"
      ]
    },
    {
      "cell_type": "code",
      "metadata": {
        "id": "VcOjpP5AxuiV",
        "colab_type": "code",
        "colab": {}
      },
      "source": [
        "LR = 1e-3\n",
        "EPOCHS = 1000\n",
        "EPOCHS_PER_UPDATE = 1\n",
        "RUNNAME = \"1e3_flood_0\""
      ],
      "execution_count": 15,
      "outputs": []
    },
    {
      "cell_type": "code",
      "metadata": {
        "id": "xwLbvKsGE_Qm",
        "colab_type": "code",
        "colab": {
          "base_uri": "https://localhost:8080/",
          "height": 1000
        },
        "outputId": "52c61237-a23b-4a3f-d980-1e8148d358d1"
      },
      "source": [
        "from google.colab import auth\n",
        "auth.authenticate_user()\n",
        "\n",
        "!curl https://sdk.cloud.google.com | bash\n",
        "\n",
        "!gcloud init"
      ],
      "execution_count": 16,
      "outputs": [
        {
          "output_type": "stream",
          "text": [
            "  % Total    % Received % Xferd  Average Speed   Time    Time     Time  Current\n",
            "                                 Dload  Upload   Total   Spent    Left  Speed\n",
            "\r  0     0    0     0    0     0      0      0 --:--:-- --:--:-- --:--:--     0\r100   443  100   443    0     0  19260      0 --:--:-- --:--:-- --:--:-- 19260\n",
            "Downloading Google Cloud SDK install script: https://dl.google.com/dl/cloudsdk/channels/rapid/install_google_cloud_sdk.bash\n",
            "\r######################################################################## 100.0%\n",
            "Running install script from: /tmp/tmp.uKwmrnLjd5/install_google_cloud_sdk.bash\n",
            "which curl\n",
            "curl -# -f https://dl.google.com/dl/cloudsdk/channels/rapid/google-cloud-sdk.tar.gz\n",
            "######################################################################## 100.0%\n",
            "\n",
            "mkdir -p /root\n",
            "\"/root/google-cloud-sdk\" already exists and may contain out of date files.\n",
            "Remove /root/google-cloud-sdk or select a new installation directory, then run again.\n",
            "Welcome! This command will take you through the configuration of gcloud.\n",
            "\n",
            "Settings from your current configuration [default] are:\n",
            "component_manager:\n",
            "  disable_update_check: 'True'\n",
            "compute:\n",
            "  gce_metadata_read_timeout_sec: '0'\n",
            "core:\n",
            "  account: veda@cloudtostreet.info\n",
            "  project: cloudtostreet\n",
            "\n",
            "Pick configuration to use:\n",
            " [1] Re-initialize this configuration [default] with new settings \n",
            " [2] Create a new configuration\n",
            "Please enter your numeric choice:  1\n",
            "\n",
            "Your current configuration has been set to: [default]\n",
            "\n",
            "You can skip diagnostics next time by using the following flag:\n",
            "  gcloud init --skip-diagnostics\n",
            "\n",
            "Network diagnostic detects and fixes local network connection issues.\n",
            "Reachability Check passed.\n",
            "Network diagnostic passed (1/1 checks passed).\n",
            "\n",
            "Choose the account you would like to use to perform operations for \n",
            "this configuration:\n",
            " [1] veda@cloudtostreet.info\n",
            " [2] Log in with a new account\n",
            "Please enter your numeric choice:  1\n",
            "\n",
            "You are logged in as: [veda@cloudtostreet.info].\n",
            "\n",
            "Pick cloud project to use: \n",
            " [1] adb-tamil-nadu\n",
            " [2] argentina-flood-database\n",
            " [3] c2s-dash\n",
            " [4] c2s-demos\n",
            " [5] c2s-ee-cloud\n",
            " [6] cloudtostreet\n",
            " [7] cloudtostreet-254015\n",
            " [8] congo-nrt-floodmapping\n",
            " [9] daring-elysium-255318\n",
            " [10] eastern-nile-flood-database\n",
            " [11] ee-tyler-c2s\n",
            " [12] ee-ujjwal\n",
            " [13] ee-veda\n",
            " [14] entro-floodmapping\n",
            " [15] ghana-floodmapping\n",
            " [16] global-flood-database\n",
            " [17] india-flooding-1512072143056\n",
            " [18] machine-learning-fusion\n",
            " [19] md2gslides-286218\n",
            " [20] nel-floodmapping\n",
            " [21] nile-flood-database\n",
            " [22] nleach\n",
            " [23] nrt-development\n",
            " [24] quickstart-1591038960991\n",
            " [25] somalia-flood-monitoring\n",
            " [26] sri-lanka-floodmapping\n",
            " [27] sys-53883967533812341460235306\n",
            " [28] the-gambia-floodmapping\n",
            " [29] vibrant-magpie-277622\n",
            " [30] wb-cities\n",
            " [31] willisre\n",
            " [32] wired-armor-255317\n",
            " [33] Create a new project\n",
            "Please enter numeric choice or text value (must exactly match list \n",
            "item):  6\n",
            "\n",
            "Your current project has been set to: [cloudtostreet].\n",
            "\n",
            "Do you want to configure a default Compute Region and Zone? (Y/n)?  n\n",
            "\n",
            "Your Google Cloud SDK is configured and ready to use!\n",
            "\n",
            "* Commands that require authentication will use veda@cloudtostreet.info by default\n",
            "* Commands will reference project `cloudtostreet` by default\n",
            "Run `gcloud help config` to learn how to change individual settings\n",
            "\n",
            "This gcloud configuration is called [default]. You can create additional configurations if you work with multiple accounts and/or projects.\n",
            "Run `gcloud topic configurations` to learn more.\n",
            "\n",
            "Some things to try next:\n",
            "\n",
            "* Run `gcloud --help` to see the Cloud Platform services you can interact with. And run `gcloud help COMMAND` to get help on any gcloud command.\n",
            "* Run `gcloud topic --help` to learn about advanced features of the SDK like arg files and output formatting\n"
          ],
          "name": "stdout"
        }
      ]
    },
    {
      "cell_type": "code",
      "metadata": {
        "id": "tXOFDO5QM9L2",
        "colab_type": "code",
        "colab": {}
      },
      "source": [
        "import torch\n",
        "from torchvision import transforms\n",
        "import torchvision.transforms.functional as F\n",
        "import random\n",
        "\n",
        "class InMemoryDataset(torch.utils.data.Dataset):\n",
        "  \n",
        "  def __init__(self, data_list, preprocess_func):\n",
        "    self.data_list = data_list\n",
        "    self.preprocess_func = preprocess_func\n",
        "  \n",
        "  def __getitem__(self, i):\n",
        "    return self.preprocess_func(self.data_list[i])\n",
        "  \n",
        "  def __len__(self):\n",
        "    return len(self.data_list)\n",
        "\n",
        "\n",
        "def processAndAugment(data):\n",
        "  (x,y) = data\n",
        "  im,label = x.copy(), y.copy()\n",
        "\n",
        "  # convert to PIL for easier transforms\n",
        "  im1 = Image.fromarray(im[0])\n",
        "  im2 = Image.fromarray(im[1])\n",
        "  label = Image.fromarray(label.squeeze())\n",
        "\n",
        "  # Get params for random transforms\n",
        "  i, j, h, w = transforms.RandomCrop.get_params(im1, (256, 256))\n",
        "  \n",
        "  im1 = F.crop(im1, i, j, h, w)\n",
        "  im2 = F.crop(im2, i, j, h, w)\n",
        "  label = F.crop(label, i, j, h, w)\n",
        "  if random.random() > 0.5:\n",
        "    im1 = F.hflip(im1)\n",
        "    im2 = F.hflip(im2)\n",
        "    label = F.hflip(label)\n",
        "  if random.random() > 0.5:\n",
        "    im1 = F.vflip(im1)\n",
        "    im2 = F.vflip(im2)\n",
        "    label = F.vflip(label)\n",
        "  \n",
        "  norm = transforms.Normalize([0.6851, 0.5235], [0.0820, 0.1102])\n",
        "  im = torch.stack([transforms.ToTensor()(im1).squeeze(), transforms.ToTensor()(im2).squeeze()])\n",
        "  im = norm(im)\n",
        "  label = transforms.ToTensor()(label).squeeze()\n",
        "  if torch.sum(label.gt(.003) * label.lt(.004)):\n",
        "    label *= 255\n",
        "  label = label.round()\n",
        "\n",
        "  return im, label\n",
        "\n",
        "\n",
        "def processTestIm(data):\n",
        "  (x,y) = data\n",
        "  im,label = x.copy(), y.copy()\n",
        "  norm = transforms.Normalize([0.6851, 0.5235], [0.0820, 0.1102])\n",
        "  #label[0][0][0] = 255\n",
        "  \n",
        "  # convert to PIL for easier transforms\n",
        "  im_c1 = Image.fromarray(im[0]).resize((512,512))\n",
        "  im_c2 = Image.fromarray(im[1]).resize((512,512))\n",
        "  label = Image.fromarray(label.squeeze()).resize((512,512))\n",
        "\n",
        "  im_c1s = [F.crop(im_c1, 0, 0, 256, 256), F.crop(im_c1, 0, 256, 256, 256),\n",
        "            F.crop(im_c1, 256, 0, 256, 256), F.crop(im_c1, 256, 256, 256, 256)]\n",
        "  im_c2s = [F.crop(im_c2, 0, 0, 256, 256), F.crop(im_c2, 0, 256, 256, 256),\n",
        "            F.crop(im_c2, 256, 0, 256, 256), F.crop(im_c2, 256, 256, 256, 256)]\n",
        "  labels = [F.crop(label, 0, 0, 256, 256), F.crop(label, 0, 256, 256, 256),\n",
        "            F.crop(label, 256, 0, 256, 256), F.crop(label, 256, 256, 256, 256)]\n",
        "\n",
        "\n",
        "  ims = [torch.stack((transforms.ToTensor()(x).squeeze(),\n",
        "                    transforms.ToTensor()(y).squeeze()))\n",
        "                    for (x,y) in zip(im_c1s, im_c2s)]\n",
        "  ims = [norm(im) for im in ims]\n",
        "  ims = torch.stack(ims)\n",
        "  labels = [(transforms.ToTensor()(label).squeeze()) for label in labels]\n",
        "  labels = torch.stack(labels)\n",
        "  if torch.sum(labels.gt(.003) * labels.lt(.004)):\n",
        "    labels *= 255\n",
        "  labels = labels.round()\n",
        "  return ims, labels"
      ],
      "execution_count": 17,
      "outputs": []
    },
    {
      "cell_type": "code",
      "metadata": {
        "id": "QIBBqZanOGab",
        "colab_type": "code",
        "colab": {
          "base_uri": "https://localhost:8080/",
          "height": 374
        },
        "outputId": "e60c7de6-e192-4611-e972-8b65835610f0"
      },
      "source": [
        "!pip install rasterio\n",
        "\n",
        "!gsutil cp gs://cnn_chips/permanent_water_data.csv .\n",
        "!gsutil cp gs://cnn_chips/permanent_water_test_data.csv .\n",
        "!gsutil cp gs://cnn_chips/permanent_water_train_data.csv .\n",
        "!gsutil cp gs://cnn_chips/permanent_water_validation_data.csv ."
      ],
      "execution_count": 18,
      "outputs": [
        {
          "output_type": "stream",
          "text": [
            "Requirement already satisfied: rasterio in /usr/local/lib/python3.6/dist-packages (1.1.6)\n",
            "Requirement already satisfied: attrs in /usr/local/lib/python3.6/dist-packages (from rasterio) (20.2.0)\n",
            "Requirement already satisfied: snuggs>=1.4.1 in /usr/local/lib/python3.6/dist-packages (from rasterio) (1.4.7)\n",
            "Requirement already satisfied: affine in /usr/local/lib/python3.6/dist-packages (from rasterio) (2.3.0)\n",
            "Requirement already satisfied: click<8,>=4.0 in /usr/local/lib/python3.6/dist-packages (from rasterio) (7.1.2)\n",
            "Requirement already satisfied: numpy in /usr/local/lib/python3.6/dist-packages (from rasterio) (1.18.5)\n",
            "Requirement already satisfied: click-plugins in /usr/local/lib/python3.6/dist-packages (from rasterio) (1.1.1)\n",
            "Requirement already satisfied: cligj>=0.5 in /usr/local/lib/python3.6/dist-packages (from rasterio) (0.5.0)\n",
            "Requirement already satisfied: pyparsing>=2.1.6 in /usr/local/lib/python3.6/dist-packages (from snuggs>=1.4.1->rasterio) (2.4.7)\n",
            "Copying gs://cnn_chips/permanent_water_data.csv...\n",
            "/ [1 files][102.2 KiB/102.2 KiB]                                                \n",
            "Operation completed over 1 objects/102.2 KiB.                                    \n",
            "Copying gs://cnn_chips/permanent_water_test_data.csv...\n",
            "/ [1 files][ 20.5 KiB/ 20.5 KiB]                                                \n",
            "Operation completed over 1 objects/20.5 KiB.                                     \n",
            "Copying gs://cnn_chips/permanent_water_train_data.csv...\n",
            "/ [1 files][ 61.2 KiB/ 61.2 KiB]                                                \n",
            "Operation completed over 1 objects/61.2 KiB.                                     \n",
            "Copying gs://cnn_chips/permanent_water_validation_data.csv...\n",
            "/ [1 files][ 20.5 KiB/ 20.5 KiB]                                                \n",
            "Operation completed over 1 objects/20.5 KiB.                                     \n"
          ],
          "name": "stdout"
        }
      ]
    },
    {
      "cell_type": "code",
      "metadata": {
        "id": "7PxA9idPPKJ1",
        "colab_type": "code",
        "colab": {}
      },
      "source": [
        "import csv\n",
        "from PIL import Image\n",
        "import rasterio\n",
        "import numpy as np\n",
        "import os\n",
        "BASEDIR = ''\n",
        "\n",
        "def getArr(fname):\n",
        "  return rasterio.open(BASEDIR + fname).read()\n",
        "\n",
        "\n",
        "def download_perm_water_data_from_file(fname):\n",
        "  with open(fname) as f:\n",
        "    data_fnames = [tuple(line) for line in csv.reader(f)]\n",
        "  i = 0\n",
        "  data = []\n",
        "  for (x,y) in data_fnames:\n",
        "    arr_x, arr_y = getArr(x), getArr(y)\n",
        "    if np.sum((arr_x != arr_x)) == 0:\n",
        "      ignore = (arr_y == -1)\n",
        "      ignore = ((np.uint8(ignore) * -1) * 256) + 1\n",
        "      arr_y *= ignore\n",
        "      data.append((arr_x, arr_y))\n",
        "      i+=1\n",
        "      print(i)\n",
        "    else:\n",
        "      print(\"skipping nan\")\n",
        "  return data\n",
        "\n",
        "def download_perm_train_data():\n",
        "  TRAINING_DATA_FILE = BASEDIR + 'permanent_water_train_data.csv'\n",
        "  return download_perm_water_data_from_file(TRAINING_DATA_FILE)\n",
        "\n",
        "def download_perm_valid_data():\n",
        "  VALID_DATA_FILE = BASEDIR + 'permanent_water_validation_data.csv'\n",
        "  return download_perm_water_data_from_file(VALID_DATA_FILE)\n",
        "\n",
        "def download_perm_test_data():\n",
        "  TEST_DATA_FILE = BASEDIR + 'permanent_water_test_data.csv'\n",
        "  return download_perm_water_data_from_file(TEST_DATA_FILE)"
      ],
      "execution_count": 19,
      "outputs": []
    },
    {
      "cell_type": "code",
      "metadata": {
        "id": "cjrtUiwpPS3O",
        "colab_type": "code",
        "colab": {
          "base_uri": "https://localhost:8080/",
          "height": 68
        },
        "outputId": "6e899834-ea47-400e-b4b6-f9c8e6e4d80b"
      },
      "source": [
        "!cd /home\n",
        "\n",
        "!mkdir /files3\n",
        "!mkdir /files3/S1\n",
        "!mkdir /files3/NoQC"
      ],
      "execution_count": 20,
      "outputs": [
        {
          "output_type": "stream",
          "text": [
            "mkdir: cannot create directory ‘/files3’: File exists\n",
            "mkdir: cannot create directory ‘/files3/S1’: File exists\n",
            "mkdir: cannot create directory ‘/files3/NoQC’: File exists\n"
          ],
          "name": "stdout"
        }
      ]
    },
    {
      "cell_type": "code",
      "metadata": {
        "id": "73h6qgMsSBOg",
        "colab_type": "code",
        "colab": {
          "base_uri": "https://localhost:8080/",
          "height": 170
        },
        "outputId": "937d92ec-91eb-4b3d-a122-8c2193d32fd0"
      },
      "source": [
        "!gsutil -m rsync gs://cnn_chips/S1 /files3/S1/\n",
        "!gsutil -m rsync gs://cnn_chips/NoQC /files3/NoQC/"
      ],
      "execution_count": 21,
      "outputs": [
        {
          "output_type": "stream",
          "text": [
            "Building synchronization state...\n",
            "Starting synchronization...\n",
            "Building synchronization state...\n",
            "Starting synchronization...\n",
            "Copying gs://cnn_chips/NoQC/...\n",
            "Skipping attempt to download to filename ending with slash\n",
            "(/files3/NoQC/). This typically happens when using gsutil to download\n",
            "from a subdirectory created by the Cloud Console\n",
            "(https://cloud.google.com/console)/ [0/1 files][    0.0 B/   11.0 B]   0% Done                                    \n"
          ],
          "name": "stdout"
        }
      ]
    },
    {
      "cell_type": "code",
      "metadata": {
        "id": "SwpVipZNScc8",
        "colab_type": "code",
        "colab": {
          "base_uri": "https://localhost:8080/",
          "height": 221
        },
        "outputId": "34374c6e-b12a-4539-8a73-012c43601738"
      },
      "source": [
        "!echo \"deb http://packages.cloud.google.com/apt gcsfuse-bionic main\" > /etc/apt/sources.list.d/gcsfuse.list\n",
        "!curl https://packages.cloud.google.com/apt/doc/apt-key.gpg | apt-key add -\n",
        "!apt -qq update\n",
        "!apt -qq install gcsfuse\n",
        "\n",
        "!sudo mkdir files4\n",
        "!gcsfuse --implicit-dirs cnn_chips files4"
      ],
      "execution_count": 22,
      "outputs": [
        {
          "output_type": "stream",
          "text": [
            "  % Total    % Received % Xferd  Average Speed   Time    Time     Time  Current\n",
            "                                 Dload  Upload   Total   Spent    Left  Speed\n",
            "\r  0     0    0     0    0     0      0      0 --:--:-- --:--:-- --:--:--     0\r100   653  100   653    0     0  21766      0 --:--:-- --:--:-- --:--:-- 21766\n",
            "OK\n",
            "12 packages can be upgraded. Run 'apt list --upgradable' to see them.\n",
            "gcsfuse is already the newest version (0.30.0).\n",
            "0 upgraded, 0 newly installed, 0 to remove and 12 not upgraded.\n",
            "Using mount point: /files4\n",
            "Opening GCS connection...\n",
            "Opening bucket...\n",
            "Mounting file system...\n",
            "File system has been successfully mounted.\n"
          ],
          "name": "stdout"
        }
      ]
    },
    {
      "cell_type": "code",
      "metadata": {
        "id": "QtBqkzsLSm3x",
        "colab_type": "code",
        "colab": {}
      },
      "source": [
        "from time import time\n",
        "\n",
        "def getArrFlood(fname):\n",
        "  return rasterio.open(fname).read()\n",
        "\n",
        "def download_flood_water_data_from_list(l):\n",
        "  i= 0\n",
        "  tot_nan = 0\n",
        "  tot_good = 0\n",
        "  flood_data = []\n",
        "  for (im_fname, mask_fname) in l:\n",
        "    if not os.path.exists(os.path.join(\"files3/\", im_fname)):\n",
        "      print(os.path.join(\"files3/\", im_fname))\n",
        "      continue\n",
        "    arr_x = np.nan_to_num(getArrFlood(os.path.join(\"files3/\", im_fname)))\n",
        "    arr_y = getArrFlood(os.path.join(\"files3/\", mask_fname))\n",
        "    ignore = (arr_y == -1)\n",
        "    ignore = ((np.uint8(ignore) * -1) * 256) + 1\n",
        "    arr_y *= ignore\n",
        "    arr_y = np.uint8(getArrFlood(os.path.join(\"files3/\", mask_fname)))\n",
        "    if np.sum((arr_y != arr_y)) == 0:\n",
        "      arr_x = np.clip(arr_x, -50, 1)\n",
        "      arr_x = (arr_x + 50) / 51\n",
        "      if i % 100 == 0:\n",
        "        print(i)\n",
        "        print(im_fname, mask_fname)\n",
        "      i += 1\n",
        "      flood_data.append((arr_x,arr_y))\n",
        "    else:\n",
        "      print(\"skipping nan\")\n",
        "  print(i)\n",
        "  return flood_data\n",
        "\n",
        "\n",
        "def load_flood_train_data():\n",
        "  basedir = \"files4/\"\n",
        "  fname = \"files3/flood_train_data.csv\"\n",
        "  with open(fname) as f:\n",
        "    fname = [tuple(line) for line in csv.reader(f)]\n",
        "  return download_flood_water_data_from_list(fname)\n",
        "\n",
        "def load_weak_flood_train_data():\n",
        "  basedir = \"files4/\"\n",
        "  files = [(os.path.join(\"S1_NoQC\", x[1]), os.path.join(\"NoQC\", x[0])) for x in zip(sorted(os.listdir(\"files3/NoQC\")), sorted(os.listdir(\"files3/S1_NoQC\")))]\n",
        "  files = [x for x in files if \"Bolivia\" not in x[0]]\n",
        "  print(files[0:10])\n",
        "  return download_flood_water_data_from_list(files)\n",
        "\n",
        "def load_flood_valid_data():\n",
        "  basedir = \"files4/\"\n",
        "  fname = \"files3/flood_valid_data.csv\"\n",
        "  with open(fname) as f:\n",
        "    fname = [tuple(line) for line in csv.reader(f)]\n",
        "  print(fname, \"files!\")\n",
        "  return download_flood_water_data_from_list(fname)\n",
        "\n",
        "def load_flood_test_data():\n",
        "  basedir = \"files4/\"\n",
        "  fname = \"files3/flood_test_data.csv\"\n",
        "  with open(fname) as f:\n",
        "    fname = [tuple(line) for line in csv.reader(f)]\n",
        "  return download_flood_water_data_from_list(fname)\n",
        "\n",
        "def load_flood_bolivia_test_data():\n",
        "  basedir = \"files4/\"\n",
        "  fname = \"files3/flood_bolivia_data.csv\"\n",
        "  with open(fname) as f:\n",
        "    fname = [tuple(line) for line in csv.reader(f)]\n",
        "  return download_flood_water_data_from_list(fname)"
      ],
      "execution_count": 23,
      "outputs": []
    },
    {
      "cell_type": "code",
      "metadata": {
        "id": "Vs7RpoyDTgLJ",
        "colab_type": "code",
        "colab": {}
      },
      "source": [
        "cd ../../"
      ],
      "execution_count": 23,
      "outputs": []
    },
    {
      "cell_type": "code",
      "metadata": {
        "id": "l3RucO3iTk6W",
        "colab_type": "code",
        "colab": {
          "base_uri": "https://localhost:8080/",
          "height": 613
        },
        "outputId": "4c081a70-7f26-4bf7-d8ab-b4f0d68059a6"
      },
      "source": [
        "train_data = download_perm_train_data()\n",
        "train_dataset = InMemoryDataset(train_data, processAndAugment)\n",
        "train_loader = torch.utils.data.DataLoader(train_dataset, batch_size=16, shuffle=True, sampler=None,\n",
        "                  batch_sampler=None, num_workers=0, collate_fn=None,\n",
        "                  pin_memory=True, drop_last=False, timeout=0,\n",
        "                  worker_init_fn=None)\n",
        "train_iter = iter(train_loader)"
      ],
      "execution_count": 26,
      "outputs": [
        {
          "output_type": "error",
          "ename": "RasterioIOError",
          "evalue": "ignored",
          "traceback": [
            "\u001b[0;31m---------------------------------------------------------------------------\u001b[0m",
            "\u001b[0;31mCPLE_OpenFailedError\u001b[0m                      Traceback (most recent call last)",
            "\u001b[0;32mrasterio/_base.pyx\u001b[0m in \u001b[0;36mrasterio._base.DatasetBase.__init__\u001b[0;34m()\u001b[0m\n",
            "\u001b[0;32mrasterio/_shim.pyx\u001b[0m in \u001b[0;36mrasterio._shim.open_dataset\u001b[0;34m()\u001b[0m\n",
            "\u001b[0;32mrasterio/_err.pyx\u001b[0m in \u001b[0;36mrasterio._err.exc_wrap_pointer\u001b[0;34m()\u001b[0m\n",
            "\u001b[0;31mCPLE_OpenFailedError\u001b[0m: sentinel_4_673_high_density_120.94158929849634_40.69811721457736.tif: No such file or directory",
            "\nDuring handling of the above exception, another exception occurred:\n",
            "\u001b[0;31mRasterioIOError\u001b[0m                           Traceback (most recent call last)",
            "\u001b[0;32m<ipython-input-26-e3bad7d9ad7c>\u001b[0m in \u001b[0;36m<module>\u001b[0;34m()\u001b[0m\n\u001b[0;32m----> 1\u001b[0;31m \u001b[0mtrain_data\u001b[0m \u001b[0;34m=\u001b[0m \u001b[0mdownload_perm_train_data\u001b[0m\u001b[0;34m(\u001b[0m\u001b[0;34m)\u001b[0m\u001b[0;34m\u001b[0m\u001b[0;34m\u001b[0m\u001b[0m\n\u001b[0m\u001b[1;32m      2\u001b[0m \u001b[0mtrain_dataset\u001b[0m \u001b[0;34m=\u001b[0m \u001b[0mInMemoryDataset\u001b[0m\u001b[0;34m(\u001b[0m\u001b[0mtrain_data\u001b[0m\u001b[0;34m,\u001b[0m \u001b[0mprocessAndAugment\u001b[0m\u001b[0;34m)\u001b[0m\u001b[0;34m\u001b[0m\u001b[0;34m\u001b[0m\u001b[0m\n\u001b[1;32m      3\u001b[0m train_loader = torch.utils.data.DataLoader(train_dataset, batch_size=16, shuffle=True, sampler=None,\n\u001b[1;32m      4\u001b[0m                   \u001b[0mbatch_sampler\u001b[0m\u001b[0;34m=\u001b[0m\u001b[0;32mNone\u001b[0m\u001b[0;34m,\u001b[0m \u001b[0mnum_workers\u001b[0m\u001b[0;34m=\u001b[0m\u001b[0;36m0\u001b[0m\u001b[0;34m,\u001b[0m \u001b[0mcollate_fn\u001b[0m\u001b[0;34m=\u001b[0m\u001b[0;32mNone\u001b[0m\u001b[0;34m,\u001b[0m\u001b[0;34m\u001b[0m\u001b[0;34m\u001b[0m\u001b[0m\n\u001b[1;32m      5\u001b[0m                   \u001b[0mpin_memory\u001b[0m\u001b[0;34m=\u001b[0m\u001b[0;32mTrue\u001b[0m\u001b[0;34m,\u001b[0m \u001b[0mdrop_last\u001b[0m\u001b[0;34m=\u001b[0m\u001b[0;32mFalse\u001b[0m\u001b[0;34m,\u001b[0m \u001b[0mtimeout\u001b[0m\u001b[0;34m=\u001b[0m\u001b[0;36m0\u001b[0m\u001b[0;34m,\u001b[0m\u001b[0;34m\u001b[0m\u001b[0;34m\u001b[0m\u001b[0m\n",
            "\u001b[0;32m<ipython-input-19-1f5994b80f73>\u001b[0m in \u001b[0;36mdownload_perm_train_data\u001b[0;34m()\u001b[0m\n\u001b[1;32m     30\u001b[0m \u001b[0;32mdef\u001b[0m \u001b[0mdownload_perm_train_data\u001b[0m\u001b[0;34m(\u001b[0m\u001b[0;34m)\u001b[0m\u001b[0;34m:\u001b[0m\u001b[0;34m\u001b[0m\u001b[0;34m\u001b[0m\u001b[0m\n\u001b[1;32m     31\u001b[0m   \u001b[0mTRAINING_DATA_FILE\u001b[0m \u001b[0;34m=\u001b[0m \u001b[0mBASEDIR\u001b[0m \u001b[0;34m+\u001b[0m \u001b[0;34m'permanent_water_train_data.csv'\u001b[0m\u001b[0;34m\u001b[0m\u001b[0;34m\u001b[0m\u001b[0m\n\u001b[0;32m---> 32\u001b[0;31m   \u001b[0;32mreturn\u001b[0m \u001b[0mdownload_perm_water_data_from_file\u001b[0m\u001b[0;34m(\u001b[0m\u001b[0mTRAINING_DATA_FILE\u001b[0m\u001b[0;34m)\u001b[0m\u001b[0;34m\u001b[0m\u001b[0;34m\u001b[0m\u001b[0m\n\u001b[0m\u001b[1;32m     33\u001b[0m \u001b[0;34m\u001b[0m\u001b[0m\n\u001b[1;32m     34\u001b[0m \u001b[0;32mdef\u001b[0m \u001b[0mdownload_perm_valid_data\u001b[0m\u001b[0;34m(\u001b[0m\u001b[0;34m)\u001b[0m\u001b[0;34m:\u001b[0m\u001b[0;34m\u001b[0m\u001b[0;34m\u001b[0m\u001b[0m\n",
            "\u001b[0;32m<ipython-input-19-1f5994b80f73>\u001b[0m in \u001b[0;36mdownload_perm_water_data_from_file\u001b[0;34m(fname)\u001b[0m\n\u001b[1;32m     16\u001b[0m   \u001b[0mdata\u001b[0m \u001b[0;34m=\u001b[0m \u001b[0;34m[\u001b[0m\u001b[0;34m]\u001b[0m\u001b[0;34m\u001b[0m\u001b[0;34m\u001b[0m\u001b[0m\n\u001b[1;32m     17\u001b[0m   \u001b[0;32mfor\u001b[0m \u001b[0;34m(\u001b[0m\u001b[0mx\u001b[0m\u001b[0;34m,\u001b[0m\u001b[0my\u001b[0m\u001b[0;34m)\u001b[0m \u001b[0;32min\u001b[0m \u001b[0mdata_fnames\u001b[0m\u001b[0;34m:\u001b[0m\u001b[0;34m\u001b[0m\u001b[0;34m\u001b[0m\u001b[0m\n\u001b[0;32m---> 18\u001b[0;31m     \u001b[0marr_x\u001b[0m\u001b[0;34m,\u001b[0m \u001b[0marr_y\u001b[0m \u001b[0;34m=\u001b[0m \u001b[0mgetArr\u001b[0m\u001b[0;34m(\u001b[0m\u001b[0mx\u001b[0m\u001b[0;34m)\u001b[0m\u001b[0;34m,\u001b[0m \u001b[0mgetArr\u001b[0m\u001b[0;34m(\u001b[0m\u001b[0my\u001b[0m\u001b[0;34m)\u001b[0m\u001b[0;34m\u001b[0m\u001b[0;34m\u001b[0m\u001b[0m\n\u001b[0m\u001b[1;32m     19\u001b[0m     \u001b[0;32mif\u001b[0m \u001b[0mnp\u001b[0m\u001b[0;34m.\u001b[0m\u001b[0msum\u001b[0m\u001b[0;34m(\u001b[0m\u001b[0;34m(\u001b[0m\u001b[0marr_x\u001b[0m \u001b[0;34m!=\u001b[0m \u001b[0marr_x\u001b[0m\u001b[0;34m)\u001b[0m\u001b[0;34m)\u001b[0m \u001b[0;34m==\u001b[0m \u001b[0;36m0\u001b[0m\u001b[0;34m:\u001b[0m\u001b[0;34m\u001b[0m\u001b[0;34m\u001b[0m\u001b[0m\n\u001b[1;32m     20\u001b[0m       \u001b[0mignore\u001b[0m \u001b[0;34m=\u001b[0m \u001b[0;34m(\u001b[0m\u001b[0marr_y\u001b[0m \u001b[0;34m==\u001b[0m \u001b[0;34m-\u001b[0m\u001b[0;36m1\u001b[0m\u001b[0;34m)\u001b[0m\u001b[0;34m\u001b[0m\u001b[0;34m\u001b[0m\u001b[0m\n",
            "\u001b[0;32m<ipython-input-19-1f5994b80f73>\u001b[0m in \u001b[0;36mgetArr\u001b[0;34m(fname)\u001b[0m\n\u001b[1;32m      7\u001b[0m \u001b[0;34m\u001b[0m\u001b[0m\n\u001b[1;32m      8\u001b[0m \u001b[0;32mdef\u001b[0m \u001b[0mgetArr\u001b[0m\u001b[0;34m(\u001b[0m\u001b[0mfname\u001b[0m\u001b[0;34m)\u001b[0m\u001b[0;34m:\u001b[0m\u001b[0;34m\u001b[0m\u001b[0;34m\u001b[0m\u001b[0m\n\u001b[0;32m----> 9\u001b[0;31m   \u001b[0;32mreturn\u001b[0m \u001b[0mrasterio\u001b[0m\u001b[0;34m.\u001b[0m\u001b[0mopen\u001b[0m\u001b[0;34m(\u001b[0m\u001b[0mBASEDIR\u001b[0m \u001b[0;34m+\u001b[0m \u001b[0mfname\u001b[0m\u001b[0;34m)\u001b[0m\u001b[0;34m.\u001b[0m\u001b[0mread\u001b[0m\u001b[0;34m(\u001b[0m\u001b[0;34m)\u001b[0m\u001b[0;34m\u001b[0m\u001b[0;34m\u001b[0m\u001b[0m\n\u001b[0m\u001b[1;32m     10\u001b[0m \u001b[0;34m\u001b[0m\u001b[0m\n\u001b[1;32m     11\u001b[0m \u001b[0;34m\u001b[0m\u001b[0m\n",
            "\u001b[0;32m/usr/local/lib/python3.6/dist-packages/rasterio/env.py\u001b[0m in \u001b[0;36mwrapper\u001b[0;34m(*args, **kwds)\u001b[0m\n\u001b[1;32m    431\u001b[0m \u001b[0;34m\u001b[0m\u001b[0m\n\u001b[1;32m    432\u001b[0m         \u001b[0;32mwith\u001b[0m \u001b[0menv_ctor\u001b[0m\u001b[0;34m(\u001b[0m\u001b[0msession\u001b[0m\u001b[0;34m=\u001b[0m\u001b[0msession\u001b[0m\u001b[0;34m)\u001b[0m\u001b[0;34m:\u001b[0m\u001b[0;34m\u001b[0m\u001b[0;34m\u001b[0m\u001b[0m\n\u001b[0;32m--> 433\u001b[0;31m             \u001b[0;32mreturn\u001b[0m \u001b[0mf\u001b[0m\u001b[0;34m(\u001b[0m\u001b[0;34m*\u001b[0m\u001b[0margs\u001b[0m\u001b[0;34m,\u001b[0m \u001b[0;34m**\u001b[0m\u001b[0mkwds\u001b[0m\u001b[0;34m)\u001b[0m\u001b[0;34m\u001b[0m\u001b[0;34m\u001b[0m\u001b[0m\n\u001b[0m\u001b[1;32m    434\u001b[0m \u001b[0;34m\u001b[0m\u001b[0m\n\u001b[1;32m    435\u001b[0m     \u001b[0;32mreturn\u001b[0m \u001b[0mwrapper\u001b[0m\u001b[0;34m\u001b[0m\u001b[0;34m\u001b[0m\u001b[0m\n",
            "\u001b[0;32m/usr/local/lib/python3.6/dist-packages/rasterio/__init__.py\u001b[0m in \u001b[0;36mopen\u001b[0;34m(fp, mode, driver, width, height, count, crs, transform, dtype, nodata, sharing, **kwargs)\u001b[0m\n\u001b[1;32m    219\u001b[0m         \u001b[0;31m# None.\u001b[0m\u001b[0;34m\u001b[0m\u001b[0;34m\u001b[0m\u001b[0;34m\u001b[0m\u001b[0m\n\u001b[1;32m    220\u001b[0m         \u001b[0;32mif\u001b[0m \u001b[0mmode\u001b[0m \u001b[0;34m==\u001b[0m \u001b[0;34m'r'\u001b[0m\u001b[0;34m:\u001b[0m\u001b[0;34m\u001b[0m\u001b[0;34m\u001b[0m\u001b[0m\n\u001b[0;32m--> 221\u001b[0;31m             \u001b[0ms\u001b[0m \u001b[0;34m=\u001b[0m \u001b[0mDatasetReader\u001b[0m\u001b[0;34m(\u001b[0m\u001b[0mpath\u001b[0m\u001b[0;34m,\u001b[0m \u001b[0mdriver\u001b[0m\u001b[0;34m=\u001b[0m\u001b[0mdriver\u001b[0m\u001b[0;34m,\u001b[0m \u001b[0msharing\u001b[0m\u001b[0;34m=\u001b[0m\u001b[0msharing\u001b[0m\u001b[0;34m,\u001b[0m \u001b[0;34m**\u001b[0m\u001b[0mkwargs\u001b[0m\u001b[0;34m)\u001b[0m\u001b[0;34m\u001b[0m\u001b[0;34m\u001b[0m\u001b[0m\n\u001b[0m\u001b[1;32m    222\u001b[0m         \u001b[0;32melif\u001b[0m \u001b[0mmode\u001b[0m \u001b[0;34m==\u001b[0m \u001b[0;34m\"r+\"\u001b[0m\u001b[0;34m:\u001b[0m\u001b[0;34m\u001b[0m\u001b[0;34m\u001b[0m\u001b[0m\n\u001b[1;32m    223\u001b[0m             s = get_writer_for_path(path, driver=driver)(\n",
            "\u001b[0;32mrasterio/_base.pyx\u001b[0m in \u001b[0;36mrasterio._base.DatasetBase.__init__\u001b[0;34m()\u001b[0m\n",
            "\u001b[0;31mRasterioIOError\u001b[0m: sentinel_4_673_high_density_120.94158929849634_40.69811721457736.tif: No such file or directory"
          ]
        }
      ]
    }
  ]
}