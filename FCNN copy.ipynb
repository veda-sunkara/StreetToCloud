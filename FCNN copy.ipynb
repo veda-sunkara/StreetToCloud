{
  "nbformat": 4,
  "nbformat_minor": 0,
  "metadata": {
    "colab": {
      "name": "FCNN.ipynb",
      "provenance": [],
      "collapsed_sections": [],
      "authorship_tag": "ABX9TyMWteH6Waq6l9oHTQcVGH9P",
      "include_colab_link": true
    },
    "kernelspec": {
      "name": "python3",
      "display_name": "Python 3"
    },
    "accelerator": "GPU",
    "widgets": {
      "application/vnd.jupyter.widget-state+json": {
        "d273d0b66fcf40a6905543d20885b76c": {
          "model_module": "@jupyter-widgets/controls",
          "model_name": "HBoxModel",
          "state": {
            "_view_name": "HBoxView",
            "_dom_classes": [],
            "_model_name": "HBoxModel",
            "_view_module": "@jupyter-widgets/controls",
            "_model_module_version": "1.5.0",
            "_view_count": null,
            "_view_module_version": "1.5.0",
            "box_style": "",
            "layout": "IPY_MODEL_3d2a2a7513214b639e773f6fc640f636",
            "_model_module": "@jupyter-widgets/controls",
            "children": [
              "IPY_MODEL_6067733b4e9746a3a9e609e72aa3d1af",
              "IPY_MODEL_b01cb0b8f75b41a09f30ea03f696b9ea"
            ]
          }
        },
        "3d2a2a7513214b639e773f6fc640f636": {
          "model_module": "@jupyter-widgets/base",
          "model_name": "LayoutModel",
          "state": {
            "_view_name": "LayoutView",
            "grid_template_rows": null,
            "right": null,
            "justify_content": null,
            "_view_module": "@jupyter-widgets/base",
            "overflow": null,
            "_model_module_version": "1.2.0",
            "_view_count": null,
            "flex_flow": null,
            "width": null,
            "min_width": null,
            "border": null,
            "align_items": null,
            "bottom": null,
            "_model_module": "@jupyter-widgets/base",
            "top": null,
            "grid_column": null,
            "overflow_y": null,
            "overflow_x": null,
            "grid_auto_flow": null,
            "grid_area": null,
            "grid_template_columns": null,
            "flex": null,
            "_model_name": "LayoutModel",
            "justify_items": null,
            "grid_row": null,
            "max_height": null,
            "align_content": null,
            "visibility": null,
            "align_self": null,
            "height": null,
            "min_height": null,
            "padding": null,
            "grid_auto_rows": null,
            "grid_gap": null,
            "max_width": null,
            "order": null,
            "_view_module_version": "1.2.0",
            "grid_template_areas": null,
            "object_position": null,
            "object_fit": null,
            "grid_auto_columns": null,
            "margin": null,
            "display": null,
            "left": null
          }
        },
        "6067733b4e9746a3a9e609e72aa3d1af": {
          "model_module": "@jupyter-widgets/controls",
          "model_name": "FloatProgressModel",
          "state": {
            "_view_name": "ProgressView",
            "style": "IPY_MODEL_4db0155ef68240ef82bdc647d8cad2ef",
            "_dom_classes": [],
            "description": "100%",
            "_model_name": "FloatProgressModel",
            "bar_style": "success",
            "max": 90,
            "_view_module": "@jupyter-widgets/controls",
            "_model_module_version": "1.5.0",
            "value": 90,
            "_view_count": null,
            "_view_module_version": "1.5.0",
            "orientation": "horizontal",
            "min": 0,
            "description_tooltip": null,
            "_model_module": "@jupyter-widgets/controls",
            "layout": "IPY_MODEL_542c8c63faa744dbaab1bd2e09686647"
          }
        },
        "b01cb0b8f75b41a09f30ea03f696b9ea": {
          "model_module": "@jupyter-widgets/controls",
          "model_name": "HTMLModel",
          "state": {
            "_view_name": "HTMLView",
            "style": "IPY_MODEL_50b08263afa741fab5709c51a2e43209",
            "_dom_classes": [],
            "description": "",
            "_model_name": "HTMLModel",
            "placeholder": "​",
            "_view_module": "@jupyter-widgets/controls",
            "_model_module_version": "1.5.0",
            "value": " 90/90 [00:07&lt;00:00, 12.43it/s]",
            "_view_count": null,
            "_view_module_version": "1.5.0",
            "description_tooltip": null,
            "_model_module": "@jupyter-widgets/controls",
            "layout": "IPY_MODEL_d25f11fe0a11478c88fe14edbcc8e537"
          }
        },
        "4db0155ef68240ef82bdc647d8cad2ef": {
          "model_module": "@jupyter-widgets/controls",
          "model_name": "ProgressStyleModel",
          "state": {
            "_view_name": "StyleView",
            "_model_name": "ProgressStyleModel",
            "description_width": "initial",
            "_view_module": "@jupyter-widgets/base",
            "_model_module_version": "1.5.0",
            "_view_count": null,
            "_view_module_version": "1.2.0",
            "bar_color": null,
            "_model_module": "@jupyter-widgets/controls"
          }
        },
        "542c8c63faa744dbaab1bd2e09686647": {
          "model_module": "@jupyter-widgets/base",
          "model_name": "LayoutModel",
          "state": {
            "_view_name": "LayoutView",
            "grid_template_rows": null,
            "right": null,
            "justify_content": null,
            "_view_module": "@jupyter-widgets/base",
            "overflow": null,
            "_model_module_version": "1.2.0",
            "_view_count": null,
            "flex_flow": null,
            "width": null,
            "min_width": null,
            "border": null,
            "align_items": null,
            "bottom": null,
            "_model_module": "@jupyter-widgets/base",
            "top": null,
            "grid_column": null,
            "overflow_y": null,
            "overflow_x": null,
            "grid_auto_flow": null,
            "grid_area": null,
            "grid_template_columns": null,
            "flex": null,
            "_model_name": "LayoutModel",
            "justify_items": null,
            "grid_row": null,
            "max_height": null,
            "align_content": null,
            "visibility": null,
            "align_self": null,
            "height": null,
            "min_height": null,
            "padding": null,
            "grid_auto_rows": null,
            "grid_gap": null,
            "max_width": null,
            "order": null,
            "_view_module_version": "1.2.0",
            "grid_template_areas": null,
            "object_position": null,
            "object_fit": null,
            "grid_auto_columns": null,
            "margin": null,
            "display": null,
            "left": null
          }
        },
        "50b08263afa741fab5709c51a2e43209": {
          "model_module": "@jupyter-widgets/controls",
          "model_name": "DescriptionStyleModel",
          "state": {
            "_view_name": "StyleView",
            "_model_name": "DescriptionStyleModel",
            "description_width": "",
            "_view_module": "@jupyter-widgets/base",
            "_model_module_version": "1.5.0",
            "_view_count": null,
            "_view_module_version": "1.2.0",
            "_model_module": "@jupyter-widgets/controls"
          }
        },
        "d25f11fe0a11478c88fe14edbcc8e537": {
          "model_module": "@jupyter-widgets/base",
          "model_name": "LayoutModel",
          "state": {
            "_view_name": "LayoutView",
            "grid_template_rows": null,
            "right": null,
            "justify_content": null,
            "_view_module": "@jupyter-widgets/base",
            "overflow": null,
            "_model_module_version": "1.2.0",
            "_view_count": null,
            "flex_flow": null,
            "width": null,
            "min_width": null,
            "border": null,
            "align_items": null,
            "bottom": null,
            "_model_module": "@jupyter-widgets/base",
            "top": null,
            "grid_column": null,
            "overflow_y": null,
            "overflow_x": null,
            "grid_auto_flow": null,
            "grid_area": null,
            "grid_template_columns": null,
            "flex": null,
            "_model_name": "LayoutModel",
            "justify_items": null,
            "grid_row": null,
            "max_height": null,
            "align_content": null,
            "visibility": null,
            "align_self": null,
            "height": null,
            "min_height": null,
            "padding": null,
            "grid_auto_rows": null,
            "grid_gap": null,
            "max_width": null,
            "order": null,
            "_view_module_version": "1.2.0",
            "grid_template_areas": null,
            "object_position": null,
            "object_fit": null,
            "grid_auto_columns": null,
            "margin": null,
            "display": null,
            "left": null
          }
        },
        "d00d4b8b017f457287f9f25c9b1f92c1": {
          "model_module": "@jupyter-widgets/controls",
          "model_name": "HBoxModel",
          "state": {
            "_view_name": "HBoxView",
            "_dom_classes": [],
            "_model_name": "HBoxModel",
            "_view_module": "@jupyter-widgets/controls",
            "_model_module_version": "1.5.0",
            "_view_count": null,
            "_view_module_version": "1.5.0",
            "box_style": "",
            "layout": "IPY_MODEL_3c01bceb8a614f29b5a06648314008ae",
            "_model_module": "@jupyter-widgets/controls",
            "children": [
              "IPY_MODEL_590d4aa94ee943229babe80963f374dc",
              "IPY_MODEL_b6c2154cee434c7798dbf6af6ca63f26"
            ]
          }
        },
        "3c01bceb8a614f29b5a06648314008ae": {
          "model_module": "@jupyter-widgets/base",
          "model_name": "LayoutModel",
          "state": {
            "_view_name": "LayoutView",
            "grid_template_rows": null,
            "right": null,
            "justify_content": null,
            "_view_module": "@jupyter-widgets/base",
            "overflow": null,
            "_model_module_version": "1.2.0",
            "_view_count": null,
            "flex_flow": null,
            "width": null,
            "min_width": null,
            "border": null,
            "align_items": null,
            "bottom": null,
            "_model_module": "@jupyter-widgets/base",
            "top": null,
            "grid_column": null,
            "overflow_y": null,
            "overflow_x": null,
            "grid_auto_flow": null,
            "grid_area": null,
            "grid_template_columns": null,
            "flex": null,
            "_model_name": "LayoutModel",
            "justify_items": null,
            "grid_row": null,
            "max_height": null,
            "align_content": null,
            "visibility": null,
            "align_self": null,
            "height": null,
            "min_height": null,
            "padding": null,
            "grid_auto_rows": null,
            "grid_gap": null,
            "max_width": null,
            "order": null,
            "_view_module_version": "1.2.0",
            "grid_template_areas": null,
            "object_position": null,
            "object_fit": null,
            "grid_auto_columns": null,
            "margin": null,
            "display": null,
            "left": null
          }
        },
        "590d4aa94ee943229babe80963f374dc": {
          "model_module": "@jupyter-widgets/controls",
          "model_name": "FloatProgressModel",
          "state": {
            "_view_name": "ProgressView",
            "style": "IPY_MODEL_730adf10a0fd41d5889896f0f8429433",
            "_dom_classes": [],
            "description": "100%",
            "_model_name": "FloatProgressModel",
            "bar_style": "success",
            "max": 90,
            "_view_module": "@jupyter-widgets/controls",
            "_model_module_version": "1.5.0",
            "value": 90,
            "_view_count": null,
            "_view_module_version": "1.5.0",
            "orientation": "horizontal",
            "min": 0,
            "description_tooltip": null,
            "_model_module": "@jupyter-widgets/controls",
            "layout": "IPY_MODEL_b99dd4f8d28843679e4425da8dbea0e8"
          }
        },
        "b6c2154cee434c7798dbf6af6ca63f26": {
          "model_module": "@jupyter-widgets/controls",
          "model_name": "HTMLModel",
          "state": {
            "_view_name": "HTMLView",
            "style": "IPY_MODEL_acca3138350b4b4c85dce31b2747c1f2",
            "_dom_classes": [],
            "description": "",
            "_model_name": "HTMLModel",
            "placeholder": "​",
            "_view_module": "@jupyter-widgets/controls",
            "_model_module_version": "1.5.0",
            "value": " 90/90 [00:06&lt;00:00, 13.04it/s]",
            "_view_count": null,
            "_view_module_version": "1.5.0",
            "description_tooltip": null,
            "_model_module": "@jupyter-widgets/controls",
            "layout": "IPY_MODEL_ecf22b37fad74b9ba3db6cd999e6dcf4"
          }
        },
        "730adf10a0fd41d5889896f0f8429433": {
          "model_module": "@jupyter-widgets/controls",
          "model_name": "ProgressStyleModel",
          "state": {
            "_view_name": "StyleView",
            "_model_name": "ProgressStyleModel",
            "description_width": "initial",
            "_view_module": "@jupyter-widgets/base",
            "_model_module_version": "1.5.0",
            "_view_count": null,
            "_view_module_version": "1.2.0",
            "bar_color": null,
            "_model_module": "@jupyter-widgets/controls"
          }
        },
        "b99dd4f8d28843679e4425da8dbea0e8": {
          "model_module": "@jupyter-widgets/base",
          "model_name": "LayoutModel",
          "state": {
            "_view_name": "LayoutView",
            "grid_template_rows": null,
            "right": null,
            "justify_content": null,
            "_view_module": "@jupyter-widgets/base",
            "overflow": null,
            "_model_module_version": "1.2.0",
            "_view_count": null,
            "flex_flow": null,
            "width": null,
            "min_width": null,
            "border": null,
            "align_items": null,
            "bottom": null,
            "_model_module": "@jupyter-widgets/base",
            "top": null,
            "grid_column": null,
            "overflow_y": null,
            "overflow_x": null,
            "grid_auto_flow": null,
            "grid_area": null,
            "grid_template_columns": null,
            "flex": null,
            "_model_name": "LayoutModel",
            "justify_items": null,
            "grid_row": null,
            "max_height": null,
            "align_content": null,
            "visibility": null,
            "align_self": null,
            "height": null,
            "min_height": null,
            "padding": null,
            "grid_auto_rows": null,
            "grid_gap": null,
            "max_width": null,
            "order": null,
            "_view_module_version": "1.2.0",
            "grid_template_areas": null,
            "object_position": null,
            "object_fit": null,
            "grid_auto_columns": null,
            "margin": null,
            "display": null,
            "left": null
          }
        },
        "acca3138350b4b4c85dce31b2747c1f2": {
          "model_module": "@jupyter-widgets/controls",
          "model_name": "DescriptionStyleModel",
          "state": {
            "_view_name": "StyleView",
            "_model_name": "DescriptionStyleModel",
            "description_width": "",
            "_view_module": "@jupyter-widgets/base",
            "_model_module_version": "1.5.0",
            "_view_count": null,
            "_view_module_version": "1.2.0",
            "_model_module": "@jupyter-widgets/controls"
          }
        },
        "ecf22b37fad74b9ba3db6cd999e6dcf4": {
          "model_module": "@jupyter-widgets/base",
          "model_name": "LayoutModel",
          "state": {
            "_view_name": "LayoutView",
            "grid_template_rows": null,
            "right": null,
            "justify_content": null,
            "_view_module": "@jupyter-widgets/base",
            "overflow": null,
            "_model_module_version": "1.2.0",
            "_view_count": null,
            "flex_flow": null,
            "width": null,
            "min_width": null,
            "border": null,
            "align_items": null,
            "bottom": null,
            "_model_module": "@jupyter-widgets/base",
            "top": null,
            "grid_column": null,
            "overflow_y": null,
            "overflow_x": null,
            "grid_auto_flow": null,
            "grid_area": null,
            "grid_template_columns": null,
            "flex": null,
            "_model_name": "LayoutModel",
            "justify_items": null,
            "grid_row": null,
            "max_height": null,
            "align_content": null,
            "visibility": null,
            "align_self": null,
            "height": null,
            "min_height": null,
            "padding": null,
            "grid_auto_rows": null,
            "grid_gap": null,
            "max_width": null,
            "order": null,
            "_view_module_version": "1.2.0",
            "grid_template_areas": null,
            "object_position": null,
            "object_fit": null,
            "grid_auto_columns": null,
            "margin": null,
            "display": null,
            "left": null
          }
        },
        "0fa8afc528b94c46856603ff2c053b3b": {
          "model_module": "@jupyter-widgets/controls",
          "model_name": "HBoxModel",
          "state": {
            "_view_name": "HBoxView",
            "_dom_classes": [],
            "_model_name": "HBoxModel",
            "_view_module": "@jupyter-widgets/controls",
            "_model_module_version": "1.5.0",
            "_view_count": null,
            "_view_module_version": "1.5.0",
            "box_style": "",
            "layout": "IPY_MODEL_401b004a56da4e6dbe8d79277d588623",
            "_model_module": "@jupyter-widgets/controls",
            "children": [
              "IPY_MODEL_69191089c1aa47e7b77c362392aee449",
              "IPY_MODEL_5ef7d76277e4488498263d5141d84572"
            ]
          }
        },
        "401b004a56da4e6dbe8d79277d588623": {
          "model_module": "@jupyter-widgets/base",
          "model_name": "LayoutModel",
          "state": {
            "_view_name": "LayoutView",
            "grid_template_rows": null,
            "right": null,
            "justify_content": null,
            "_view_module": "@jupyter-widgets/base",
            "overflow": null,
            "_model_module_version": "1.2.0",
            "_view_count": null,
            "flex_flow": null,
            "width": null,
            "min_width": null,
            "border": null,
            "align_items": null,
            "bottom": null,
            "_model_module": "@jupyter-widgets/base",
            "top": null,
            "grid_column": null,
            "overflow_y": null,
            "overflow_x": null,
            "grid_auto_flow": null,
            "grid_area": null,
            "grid_template_columns": null,
            "flex": null,
            "_model_name": "LayoutModel",
            "justify_items": null,
            "grid_row": null,
            "max_height": null,
            "align_content": null,
            "visibility": null,
            "align_self": null,
            "height": null,
            "min_height": null,
            "padding": null,
            "grid_auto_rows": null,
            "grid_gap": null,
            "max_width": null,
            "order": null,
            "_view_module_version": "1.2.0",
            "grid_template_areas": null,
            "object_position": null,
            "object_fit": null,
            "grid_auto_columns": null,
            "margin": null,
            "display": null,
            "left": null
          }
        },
        "69191089c1aa47e7b77c362392aee449": {
          "model_module": "@jupyter-widgets/controls",
          "model_name": "FloatProgressModel",
          "state": {
            "_view_name": "ProgressView",
            "style": "IPY_MODEL_eae75254c4684e17987c02d7806089ae",
            "_dom_classes": [],
            "description": "100%",
            "_model_name": "FloatProgressModel",
            "bar_style": "success",
            "max": 55,
            "_view_module": "@jupyter-widgets/controls",
            "_model_module_version": "1.5.0",
            "value": 55,
            "_view_count": null,
            "_view_module_version": "1.5.0",
            "orientation": "horizontal",
            "min": 0,
            "description_tooltip": null,
            "_model_module": "@jupyter-widgets/controls",
            "layout": "IPY_MODEL_8e52e8acd4554ccf8e414933427d7d09"
          }
        },
        "5ef7d76277e4488498263d5141d84572": {
          "model_module": "@jupyter-widgets/controls",
          "model_name": "HTMLModel",
          "state": {
            "_view_name": "HTMLView",
            "style": "IPY_MODEL_6367264007164ebf8a1533f615be178b",
            "_dom_classes": [],
            "description": "",
            "_model_name": "HTMLModel",
            "placeholder": "​",
            "_view_module": "@jupyter-widgets/controls",
            "_model_module_version": "1.5.0",
            "value": " 55/55 [00:04&lt;00:00, 12.99it/s]",
            "_view_count": null,
            "_view_module_version": "1.5.0",
            "description_tooltip": null,
            "_model_module": "@jupyter-widgets/controls",
            "layout": "IPY_MODEL_2a3f1a9c1b784dda95f240cb5c458fe0"
          }
        },
        "eae75254c4684e17987c02d7806089ae": {
          "model_module": "@jupyter-widgets/controls",
          "model_name": "ProgressStyleModel",
          "state": {
            "_view_name": "StyleView",
            "_model_name": "ProgressStyleModel",
            "description_width": "initial",
            "_view_module": "@jupyter-widgets/base",
            "_model_module_version": "1.5.0",
            "_view_count": null,
            "_view_module_version": "1.2.0",
            "bar_color": null,
            "_model_module": "@jupyter-widgets/controls"
          }
        },
        "8e52e8acd4554ccf8e414933427d7d09": {
          "model_module": "@jupyter-widgets/base",
          "model_name": "LayoutModel",
          "state": {
            "_view_name": "LayoutView",
            "grid_template_rows": null,
            "right": null,
            "justify_content": null,
            "_view_module": "@jupyter-widgets/base",
            "overflow": null,
            "_model_module_version": "1.2.0",
            "_view_count": null,
            "flex_flow": null,
            "width": null,
            "min_width": null,
            "border": null,
            "align_items": null,
            "bottom": null,
            "_model_module": "@jupyter-widgets/base",
            "top": null,
            "grid_column": null,
            "overflow_y": null,
            "overflow_x": null,
            "grid_auto_flow": null,
            "grid_area": null,
            "grid_template_columns": null,
            "flex": null,
            "_model_name": "LayoutModel",
            "justify_items": null,
            "grid_row": null,
            "max_height": null,
            "align_content": null,
            "visibility": null,
            "align_self": null,
            "height": null,
            "min_height": null,
            "padding": null,
            "grid_auto_rows": null,
            "grid_gap": null,
            "max_width": null,
            "order": null,
            "_view_module_version": "1.2.0",
            "grid_template_areas": null,
            "object_position": null,
            "object_fit": null,
            "grid_auto_columns": null,
            "margin": null,
            "display": null,
            "left": null
          }
        },
        "6367264007164ebf8a1533f615be178b": {
          "model_module": "@jupyter-widgets/controls",
          "model_name": "DescriptionStyleModel",
          "state": {
            "_view_name": "StyleView",
            "_model_name": "DescriptionStyleModel",
            "description_width": "",
            "_view_module": "@jupyter-widgets/base",
            "_model_module_version": "1.5.0",
            "_view_count": null,
            "_view_module_version": "1.2.0",
            "_model_module": "@jupyter-widgets/controls"
          }
        },
        "2a3f1a9c1b784dda95f240cb5c458fe0": {
          "model_module": "@jupyter-widgets/base",
          "model_name": "LayoutModel",
          "state": {
            "_view_name": "LayoutView",
            "grid_template_rows": null,
            "right": null,
            "justify_content": null,
            "_view_module": "@jupyter-widgets/base",
            "overflow": null,
            "_model_module_version": "1.2.0",
            "_view_count": null,
            "flex_flow": null,
            "width": null,
            "min_width": null,
            "border": null,
            "align_items": null,
            "bottom": null,
            "_model_module": "@jupyter-widgets/base",
            "top": null,
            "grid_column": null,
            "overflow_y": null,
            "overflow_x": null,
            "grid_auto_flow": null,
            "grid_area": null,
            "grid_template_columns": null,
            "flex": null,
            "_model_name": "LayoutModel",
            "justify_items": null,
            "grid_row": null,
            "max_height": null,
            "align_content": null,
            "visibility": null,
            "align_self": null,
            "height": null,
            "min_height": null,
            "padding": null,
            "grid_auto_rows": null,
            "grid_gap": null,
            "max_width": null,
            "order": null,
            "_view_module_version": "1.2.0",
            "grid_template_areas": null,
            "object_position": null,
            "object_fit": null,
            "grid_auto_columns": null,
            "margin": null,
            "display": null,
            "left": null
          }
        }
      }
    }
  },
  "cells": [
    {
      "cell_type": "markdown",
      "metadata": {
        "id": "view-in-github",
        "colab_type": "text"
      },
      "source": [
        "<a href=\"https://colab.research.google.com/github/veda-sunkara/StreetToCloud/blob/master/FCNN.ipynb\" target=\"_parent\"><img src=\"https://colab.research.google.com/assets/colab-badge.svg\" alt=\"Open In Colab\"/></a>"
      ]
    },
    {
      "cell_type": "code",
      "execution_count": 1,
      "metadata": {
        "tags": []
      },
      "outputs": [
        {
          "output_type": "stream",
          "name": "stdout",
          "text": "Requirement already satisfied: rasterio in /home/purri/anaconda3/lib/python3.8/site-packages (1.1.6)\nRequirement already satisfied: affine in /home/purri/anaconda3/lib/python3.8/site-packages (from rasterio) (2.3.0)\nRequirement already satisfied: cligj&gt;=0.5 in /home/purri/anaconda3/lib/python3.8/site-packages (from rasterio) (0.5.0)\nRequirement already satisfied: snuggs&gt;=1.4.1 in /home/purri/anaconda3/lib/python3.8/site-packages (from rasterio) (1.4.7)\nRequirement already satisfied: click-plugins in /home/purri/anaconda3/lib/python3.8/site-packages (from rasterio) (1.1.1)\nRequirement already satisfied: numpy in /home/purri/anaconda3/lib/python3.8/site-packages (from rasterio) (1.18.5)\nRequirement already satisfied: attrs in /home/purri/anaconda3/lib/python3.8/site-packages (from rasterio) (19.3.0)\nRequirement already satisfied: click&lt;8,&gt;=4.0 in /home/purri/anaconda3/lib/python3.8/site-packages (from rasterio) (7.1.2)\nRequirement already satisfied: pyparsing&gt;=2.1.6 in /home/purri/anaconda3/lib/python3.8/site-packages (from snuggs&gt;=1.4.1-&gt;rasterio) (2.4.7)\n"
        }
      ],
      "source": [
        "# Download anything that may need to be downloaded\n",
        "!pip install rasterio"
      ]
    },
    {
      "cell_type": "code",
      "metadata": {
        "id": "VcOjpP5AxuiV",
        "colab_type": "code",
        "colab": {}
      },
      "source": [
        "import os\n",
        "import random\n",
        "import numpy as np\n",
        "from time import time\n",
        "import matplotlib.pyplot as plt\n",
        "from comet_ml import Experiment\n",
        "from tqdm import tqdm_notebook as tqdm\n",
        "\n",
        "import torch\n",
        "import torch.nn as nn\n",
        "import torch.optim as optim\n",
        "from torchvision import transforms\n",
        "import torchvision.transforms.functional as F\n",
        "\n",
        "from models import get_model\n",
        "from datasets import get_dataset, get_cs_points_path\n"
      ],
      "execution_count": 2,
      "outputs": []
    },
    {
      "cell_type": "code",
      "execution_count": 3,
      "metadata": {
        "tags": []
      },
      "outputs": [
        {
          "output_type": "stream",
          "name": "stderr",
          "text": "COMET INFO: Experiment is live on comet.ml https://www.comet.ml/matthewpurri/street2cloud/8ba8bb209b9e467483526536af151d66\n\n"
        }
      ],
      "source": [
        "# Hyperparameters\n",
        "MODEL_NAME = 'refiner'  # [unet, refiner, fcn]\n",
        "DATASET_NAME = 'sen2'  # [sen1, sen2]\n",
        "CS_POINTS_CLUSTERING = 'high'  # [None, low, high]   OPPOSITE OF DISPERSION!!!\n",
        "CS_POINTS_NOISE = 'high'  # [None, low, high]\n",
        "ANNOTATION_LEVEL = 'coarse'  # [coarse, fine]\n",
        "\n",
        "RUNNAME = '{}_{}_{}_{}_{}'.format(ANNOTATION_LEVEL, MODEL_NAME, DATASET_NAME, 'None' if CS_POINTS_CLUSTERING is None else CS_POINTS_CLUSTERING, 'None' if CS_POINTS_NOISE is None else CS_POINTS_NOISE)\n",
        "\n",
        "# Training parameters\n",
        "LR = 1e-4\n",
        "BATCH_SIZE = 2\n",
        "EPOCHS = 50\n",
        "\n",
        "BASE_DIR = '/home/purri/research/water_dots/Sen1_dataset/'  # Need to handle Google Collab directory\n",
        "\n",
        "experiment = Experiment(api_key=\"VuSyZ3mBZyDrJ3jkMZuor1YAa\",\n",
        "                        project_name=\"street2cloud\", workspace=\"matthewpurri\")"
      ]
    },
    {
      "cell_type": "code",
      "execution_count": 4,
      "metadata": {},
      "outputs": [
        {
          "output_type": "execute_result",
          "data": {
            "text/plain": "&lt;torch._C.Generator at 0x7f9650ac4110&gt;"
          },
          "metadata": {},
          "execution_count": 4
        }
      ],
      "source": [
        "# set random seeds\n",
        "random.seed(0)\n",
        "np.random.seed(0)\n",
        "torch.manual_seed(0)"
      ]
    },
    {
      "source": [
        "Get CUDA information"
      ],
      "cell_type": "markdown",
      "metadata": {}
    },
    {
      "cell_type": "code",
      "execution_count": 5,
      "metadata": {},
      "outputs": [],
      "source": [
        "device = torch.device('cuda')"
      ]
    },
    {
      "source": [
        "Get datasets and create DataLoader objects"
      ],
      "cell_type": "markdown",
      "metadata": {}
    },
    {
      "cell_type": "code",
      "execution_count": 6,
      "metadata": {
        "tags": []
      },
      "outputs": [],
      "source": [
        "# get csv paths\n",
        "train_data_csv_path = os.path.join(BASE_DIR, 'flood_train_data.csv')\n",
        "valid_data_csv_path = os.path.join(BASE_DIR, 'flood_valid_data.csv')\n",
        "test_data_csv_path = os.path.join(BASE_DIR, 'flood_test_data.csv')\n",
        "\n",
        "crowd_points_path = get_cs_points_path(BASE_DIR, CS_POINTS_CLUSTERING, CS_POINTS_NOISE)\n",
        "\n",
        "# get dataset objects\n",
        "train_dataset = get_dataset(DATASET_NAME,\n",
        "                            BASE_DIR,\n",
        "                            train_data_csv_path, \n",
        "                            crowd_points_path=crowd_points_path,\n",
        "                            is_train=True,\n",
        "                            annotation_level=ANNOTATION_LEVEL)\n",
        "valid_dataset = get_dataset(DATASET_NAME,\n",
        "                            BASE_DIR,\n",
        "                            valid_data_csv_path, \n",
        "                            crowd_points_path=crowd_points_path,\n",
        "                            is_train=False,\n",
        "                            annotation_level=ANNOTATION_LEVEL)\n",
        "test_dataset = get_dataset(DATASET_NAME,\n",
        "                           BASE_DIR,\n",
        "                           test_data_csv_path, \n",
        "                           crowd_points_path=crowd_points_path,\n",
        "                           is_train=False,\n",
        "                           annotation_level=ANNOTATION_LEVEL)\n",
        "\n",
        "# create dataloaders\n",
        "train_dataloader = torch.utils.data.DataLoader(train_dataset,\n",
        "                              batch_size=BATCH_SIZE,\n",
        "                              shuffle=False,\n",
        "                              num_workers=0,\n",
        "                              pin_memory=True,\n",
        "                              drop_last=False,\n",
        "                             )\n",
        "valid_dataloader = torch.utils.data.DataLoader(valid_dataset,\n",
        "                              batch_size=BATCH_SIZE,\n",
        "                              shuffle=False,\n",
        "                              num_workers=0,\n",
        "                              pin_memory=True,\n",
        "                              drop_last=False,\n",
        "                             )\n",
        "test_dataloader = torch.utils.data.DataLoader(test_dataset,\n",
        "                             batch_size=BATCH_SIZE,\n",
        "                             shuffle=False,\n",
        "                             num_workers=0,\n",
        "                             pin_memory=True,\n",
        "                             drop_last=False,\n",
        "                            )"
      ]
    },
    {
      "source": [
        "Load model"
      ],
      "cell_type": "markdown",
      "metadata": {}
    },
    {
      "cell_type": "code",
      "execution_count": 7,
      "metadata": {},
      "outputs": [],
      "source": [
        "net = get_model(MODEL_NAME, DATASET_NAME, crowd_points_path)\n",
        "net = net.to(device)"
      ]
    },
    {
      "source": [
        "Get optimizer, loss scheduler, and loss objective"
      ],
      "cell_type": "markdown",
      "metadata": {}
    },
    {
      "cell_type": "code",
      "execution_count": 8,
      "metadata": {},
      "outputs": [],
      "source": [
        "# optimizer = optim.AdamW(net.parameters(),lr=LR)\n",
        "optimizer = optim.AdamW(net.parameters(),lr=LR)\n",
        "scheduler = optim.lr_scheduler.CosineAnnealingWarmRestarts(optimizer, 260, T_mult=2, eta_min=0, last_epoch=-1)\n",
        "loss_func = nn.CrossEntropyLoss(weight=torch.tensor([1,8], dtype=torch.float).to(device), ignore_index=255, size_average=True)"
      ]
    },
    {
      "source": [
        "Metrics"
      ],
      "cell_type": "markdown",
      "metadata": {}
    },
    {
      "cell_type": "code",
      "execution_count": 9,
      "metadata": {},
      "outputs": [],
      "source": [
        "def computeIOU(output, target):\n",
        "  output = torch.argmax(output, dim=1).flatten() \n",
        "  target = target.flatten()\n",
        "  no_ignore = target.ne(255).cuda()\n",
        "  output = output.masked_select(no_ignore)\n",
        "  target = target.masked_select(no_ignore)\n",
        "  intersection = torch.sum(output * target)\n",
        "  union = torch.sum(target) + torch.sum(output) - intersection\n",
        "  iou = (intersection + .0000001) / (union + .0000001)\n",
        "  if iou != iou:\n",
        "    print(\"failed, replacing with 0\")\n",
        "    iou = torch.tensor(0).float()\n",
        "  return iou\n",
        "  \n",
        "\n",
        "def computeAccuracy(output, target):\n",
        "  output = torch.argmax(output, dim=1).flatten() \n",
        "  target = target.flatten()\n",
        "  no_ignore = target.ne(255).cuda()\n",
        "  output = output.masked_select(no_ignore)\n",
        "  target = target.masked_select(no_ignore)\n",
        "  correct = torch.sum(output.eq(target))\n",
        "  return correct.float() / len(target)"
      ]
    },
    {
      "source": [
        "Miscellaneous functions"
      ],
      "cell_type": "markdown",
      "metadata": {}
    },
    {
      "cell_type": "code",
      "execution_count": 10,
      "metadata": {},
      "outputs": [],
      "source": [
        "def ms_to_rgb(ms_img):\n",
        "    # assume multispectral image is from Sentenal2 satellite\n",
        "    rgb_img = np.stack((ms_img[3], ms_img[2], ms_img[1])).transpose(1,2,0)\n",
        "    # normalize to 0-1 range\n",
        "    n_rgb_img = (rgb_img - rgb_img.min()) / (rgb_img.max() - rgb_img.min())\n",
        "    return n_rgb_img"
      ]
    },
    {
      "source": [
        "Create training and evaluate functions"
      ],
      "cell_type": "markdown",
      "metadata": {}
    },
    {
      "cell_type": "code",
      "execution_count": 11,
      "metadata": {},
      "outputs": [],
      "source": [
        "def train_model(model, device, train_loader, loss_func, optimizer, epoch, experiment):\n",
        "    model.train()\n",
        "    tbar = tqdm(train_loader)\n",
        "    total_loss = 0\n",
        "    train_loss = []\n",
        "    for batch_idx, batch in enumerate(tbar):\n",
        "        optimizer.zero_grad()\n",
        "\n",
        "        data, target = batch['img'], batch['target']\n",
        "        data, target = data.to(device), target.to(device)\n",
        "\n",
        "        if crowd_points_path:\n",
        "            cs_img = batch['cs_img'].to(device)\n",
        "            output = model([data, cs_img])\n",
        "        else:\n",
        "            output = model(data)\n",
        "\n",
        "        if batch_idx in [0,10,20]:\n",
        "            fig, ax = plt.subplots(1,3)\n",
        "            if DATASET_NAME == 'sen2':\n",
        "                ax[0].imshow(ms_to_rgb(data[0].detach().cpu()))\n",
        "            elif DATASET_NAME == 'sen1':\n",
        "                ax[0].imshow(data[0,0,:,:].detach().cpu())\n",
        "            elif DATASET_NAME == 'syn':\n",
        "                ax[0].imshow(data[0,0,:,:].detach().cpu())\n",
        "            ax[0].set_title('RGB')\n",
        "            ax[1].imshow(target[0,:,:].detach().cpu())\n",
        "            ax[1].set_title('Mask')\n",
        "            sm = nn.Softmax(dim=1)\n",
        "            label_out = torch.argmax(sm(output), dim=1).detach().cpu()[0]\n",
        "            ax[2].imshow(label_out)\n",
        "            ax[2].set_title('Prediction')\n",
        "            experiment.log_figure(figure=fig, figure_name='train_'+str(batch_idx))\n",
        "            plt.close()\n",
        "\n",
        "        if MODEL_NAME == 'fcn':\n",
        "            loss = loss_func(output['out'], target)\n",
        "        else:\n",
        "            loss = loss_func(output, target)\n",
        "\n",
        "        loss.backward()\n",
        "        optimizer.step()\n",
        "\n",
        "        total_loss += loss.item()\n",
        "        train_loss.append(loss.item())\n",
        "        experiment.log_metric('Train loss:', loss.item())\n",
        "\n",
        "        tbar.set_description('Train loss: {0:2.4f}'.format(loss.item()))\n",
        "        \n",
        "        experiment.log_metric('Train ACC:', computeAccuracy(output, target).item()*100)\n",
        "        experiment.log_metric('Train mIoU:', computeIOU(output, target).item()*100)\n",
        "\n",
        "    tbar.set_description('Train loss: {0:2.4f}'.format(total_loss / len(train_loader.dataset)))\n",
        "    return train_loss\n",
        "\n",
        "def test_model(model, device, test_loader, loss_func, experiment, eval_name='Valid'):\n",
        "    model.eval()\n",
        "    test_loss = 0\n",
        "    metrics = {'iou': 0,\n",
        "               'acc': 0,\n",
        "              }\n",
        "    with torch.no_grad():\n",
        "        tbar = tqdm(test_loader)\n",
        "        for batch_idx, batch in enumerate(tbar):\n",
        "            data, target = batch['img'], batch['target']\n",
        "            data, target = data.to(device), target.to(device)\n",
        "\n",
        "            if crowd_points_path:\n",
        "                cs_img = batch['cs_img'].to(device)\n",
        "                output = model([data, cs_img])\n",
        "            else:\n",
        "                output = model(data)\n",
        "            \n",
        "            if batch_idx in [0, 5]:\n",
        "                fig, ax = plt.subplots(1,3)\n",
        "                if DATASET_NAME == 'sen2':\n",
        "                    ax[0].imshow(ms_to_rgb(data[0].detach().cpu()))\n",
        "                elif DATASET_NAME == 'sen1':\n",
        "                    ax[0].imshow(data[0,0,:,:].detach().cpu())\n",
        "                elif DATASET_NAME == 'syn':\n",
        "                    ax[0].imshow(data[0,0,:,:].detach().cpu())\n",
        "                ax[0].set_title('RGB')\n",
        "\n",
        "                ax[1].imshow(target[0,:,:].detach().cpu())\n",
        "                ax[1].set_title('Mask')\n",
        "                sm = nn.Softmax(dim=1)\n",
        "                label_out = torch.argmax(sm(output), dim=1).detach().cpu()[0]\n",
        "                ax[2].imshow(label_out)\n",
        "                ax[2].set_title('Prediction')\n",
        "                experiment.log_figure(figure=fig, figure_name=eval_name+'_'+str(batch_idx))\n",
        "                plt.close()\n",
        "\n",
        "\n",
        "            if MODEL_NAME == 'fcn':\n",
        "                test_loss += loss_func(output['out'], target).item()\n",
        "                metrics['iou'] += computeIOU(output['out'], target).item()\n",
        "                metrics['acc'] += computeAccuracy(output['out'], target).item()\n",
        "            else:\n",
        "                iou = computeIOU(output, target).item()\n",
        "                acc = computeAccuracy(output, target).item()\n",
        "                test_loss += loss_func(output, target).item()\n",
        "                metrics['iou'] += iou\n",
        "                metrics['acc'] += acc\n",
        "\n",
        "            experiment.log_metric('{} loss:'.format(eval_name), test_loss)\n",
        "            experiment.log_metric('{} ACC:'.format(eval_name), acc)\n",
        "            experiment.log_metric('{} mIoU:'.format(eval_name), iou)\n",
        " \n",
        "    test_loss /= len(test_loader.dataset)\n",
        "    \n",
        "    # compute average metric\n",
        "    for metric_name, value in metrics.items():\n",
        "        metrics[metric_name] = value / len(test_loader)\n",
        "    \n",
        "    print('[{0:4d}/{1:4d}]|Acc: {2:3.2f}% |mIoU: {3:3.2f}% |'.format(epoch, EPOCHS, metrics['acc']*100, metrics['iou']*100))\n",
        "    return metrics"
      ]
    },
    {
      "cell_type": "code",
      "execution_count": 12,
      "metadata": {},
      "outputs": [],
      "source": [
        "def save_model(model, eval_result, best_result, model_save_path):\n",
        "    total_result = 0\n",
        "    for metric, value in eval_result.items():\n",
        "        # values should have the same range [0,1]\n",
        "        total_result += value\n",
        "    \n",
        "    if total_result > best_result:\n",
        "        torch.save(model.state_dict(), model_save_path)\n",
        "        best_result = max(total_result, best_result)\n",
        "    return best_result\n",
        "    \n",
        "def get_save_path(base_dir, runname):\n",
        "    save_dir = os.path.join('.checkpoints', runname)\n",
        "    if os.path.isdir(save_dir) is False:\n",
        "        os.makedirs(save_dir)\n",
        "    save_path = os.path.join(save_dir, 'best_model.pth.tar')\n",
        "    return save_path"
      ]
    },
    {
      "source": [
        "Main training loop"
      ],
      "cell_type": "markdown",
      "metadata": {}
    },
    {
      "cell_type": "code",
      "execution_count": 13,
      "metadata": {
        "tags": []
      },
      "outputs": [
        {
          "output_type": "display_data",
          "data": {
            "text/plain": "HBox(children=(FloatProgress(value=0.0, max=126.0), HTML(value=&#39;&#39;)))",
            "application/vnd.jupyter.widget-view+json": {
              "version_major": 2,
              "version_minor": 0,
              "model_id": "b1fd8ce7c5be456ca9fbe335ffe9ebd2"
            }
          },
          "metadata": {}
        },
        {
          "output_type": "stream",
          "name": "stdout",
          "text": "\n"
        },
        {
          "output_type": "display_data",
          "data": {
            "text/plain": "HBox(children=(FloatProgress(value=0.0, max=44.0), HTML(value=&#39;&#39;)))",
            "application/vnd.jupyter.widget-view+json": {
              "version_major": 2,
              "version_minor": 0,
              "model_id": "cd41db2832e4485dbcea8d02fbba508b"
            }
          },
          "metadata": {}
        },
        {
          "output_type": "stream",
          "name": "stdout",
          "text": "\n[   1/  50]|Acc: 90.65% |mIoU: 43.43% |\n"
        },
        {
          "output_type": "display_data",
          "data": {
            "text/plain": "HBox(children=(FloatProgress(value=0.0, max=126.0), HTML(value=&#39;&#39;)))",
            "application/vnd.jupyter.widget-view+json": {
              "version_major": 2,
              "version_minor": 0,
              "model_id": "880924f60e704721b78bab8342ee8fe2"
            }
          },
          "metadata": {}
        },
        {
          "output_type": "stream",
          "name": "stdout",
          "text": "\n"
        },
        {
          "output_type": "display_data",
          "data": {
            "text/plain": "HBox(children=(FloatProgress(value=0.0, max=44.0), HTML(value=&#39;&#39;)))",
            "application/vnd.jupyter.widget-view+json": {
              "version_major": 2,
              "version_minor": 0,
              "model_id": "74d3d9e4c3fa4c5895f43388a3939edf"
            }
          },
          "metadata": {}
        },
        {
          "output_type": "stream",
          "name": "stdout",
          "text": "\n[   2/  50]|Acc: 90.26% |mIoU: 43.48% |\n"
        },
        {
          "output_type": "display_data",
          "data": {
            "text/plain": "HBox(children=(FloatProgress(value=0.0, max=126.0), HTML(value=&#39;&#39;)))",
            "application/vnd.jupyter.widget-view+json": {
              "version_major": 2,
              "version_minor": 0,
              "model_id": "cbc57f89ca5f452fba8975afba3748fe"
            }
          },
          "metadata": {}
        },
        {
          "output_type": "stream",
          "name": "stdout",
          "text": "\n"
        },
        {
          "output_type": "display_data",
          "data": {
            "text/plain": "HBox(children=(FloatProgress(value=0.0, max=44.0), HTML(value=&#39;&#39;)))",
            "application/vnd.jupyter.widget-view+json": {
              "version_major": 2,
              "version_minor": 0,
              "model_id": "e85deb8bc45b47c5825e4652bd3834b2"
            }
          },
          "metadata": {}
        },
        {
          "output_type": "stream",
          "name": "stdout",
          "text": "\n[   3/  50]|Acc: 89.22% |mIoU: 41.03% |\n"
        },
        {
          "output_type": "display_data",
          "data": {
            "text/plain": "HBox(children=(FloatProgress(value=0.0, max=126.0), HTML(value=&#39;&#39;)))",
            "application/vnd.jupyter.widget-view+json": {
              "version_major": 2,
              "version_minor": 0,
              "model_id": "31084abe13cd4ca9beb71ee9eefb3247"
            }
          },
          "metadata": {}
        },
        {
          "output_type": "stream",
          "name": "stdout",
          "text": "\n"
        },
        {
          "output_type": "display_data",
          "data": {
            "text/plain": "HBox(children=(FloatProgress(value=0.0, max=44.0), HTML(value=&#39;&#39;)))",
            "application/vnd.jupyter.widget-view+json": {
              "version_major": 2,
              "version_minor": 0,
              "model_id": "eca869ca0039498dadccda0d576c544a"
            }
          },
          "metadata": {}
        },
        {
          "output_type": "stream",
          "name": "stdout",
          "text": "\n[   4/  50]|Acc: 87.30% |mIoU: 38.40% |\n"
        },
        {
          "output_type": "display_data",
          "data": {
            "text/plain": "HBox(children=(FloatProgress(value=0.0, max=126.0), HTML(value=&#39;&#39;)))",
            "application/vnd.jupyter.widget-view+json": {
              "version_major": 2,
              "version_minor": 0,
              "model_id": "4696b0b766e54251a07d390be08e6430"
            }
          },
          "metadata": {}
        },
        {
          "output_type": "stream",
          "name": "stdout",
          "text": "\n"
        },
        {
          "output_type": "display_data",
          "data": {
            "text/plain": "HBox(children=(FloatProgress(value=0.0, max=44.0), HTML(value=&#39;&#39;)))",
            "application/vnd.jupyter.widget-view+json": {
              "version_major": 2,
              "version_minor": 0,
              "model_id": "e75c035c8f134f56b3a7441410c8f806"
            }
          },
          "metadata": {}
        },
        {
          "output_type": "stream",
          "name": "stdout",
          "text": "\n[   5/  50]|Acc: 86.02% |mIoU: 37.86% |\n"
        },
        {
          "output_type": "display_data",
          "data": {
            "text/plain": "HBox(children=(FloatProgress(value=0.0, max=126.0), HTML(value=&#39;&#39;)))",
            "application/vnd.jupyter.widget-view+json": {
              "version_major": 2,
              "version_minor": 0,
              "model_id": "6fa940dc85b2444dae270e39b51f99f6"
            }
          },
          "metadata": {}
        },
        {
          "output_type": "stream",
          "name": "stdout",
          "text": "\n"
        },
        {
          "output_type": "display_data",
          "data": {
            "text/plain": "HBox(children=(FloatProgress(value=0.0, max=44.0), HTML(value=&#39;&#39;)))",
            "application/vnd.jupyter.widget-view+json": {
              "version_major": 2,
              "version_minor": 0,
              "model_id": "9840acc428ee4b2db409d21bf1235b0b"
            }
          },
          "metadata": {}
        },
        {
          "output_type": "stream",
          "name": "stdout",
          "text": "\n[   6/  50]|Acc: 90.48% |mIoU: 44.07% |\n"
        },
        {
          "output_type": "display_data",
          "data": {
            "text/plain": "HBox(children=(FloatProgress(value=0.0, max=126.0), HTML(value=&#39;&#39;)))",
            "application/vnd.jupyter.widget-view+json": {
              "version_major": 2,
              "version_minor": 0,
              "model_id": "085657af39b54597a4f750d2b2feb2e4"
            }
          },
          "metadata": {}
        },
        {
          "output_type": "stream",
          "name": "stdout",
          "text": "\n"
        },
        {
          "output_type": "display_data",
          "data": {
            "text/plain": "HBox(children=(FloatProgress(value=0.0, max=44.0), HTML(value=&#39;&#39;)))",
            "application/vnd.jupyter.widget-view+json": {
              "version_major": 2,
              "version_minor": 0,
              "model_id": "f86719d64fb24e20b9fad563c569a812"
            }
          },
          "metadata": {}
        },
        {
          "output_type": "stream",
          "name": "stdout",
          "text": "\n[   7/  50]|Acc: 87.19% |mIoU: 39.84% |\n"
        },
        {
          "output_type": "display_data",
          "data": {
            "text/plain": "HBox(children=(FloatProgress(value=0.0, max=126.0), HTML(value=&#39;&#39;)))",
            "application/vnd.jupyter.widget-view+json": {
              "version_major": 2,
              "version_minor": 0,
              "model_id": "e1e5792717a649729c463bb43c26770c"
            }
          },
          "metadata": {}
        },
        {
          "output_type": "stream",
          "name": "stdout",
          "text": "\n"
        },
        {
          "output_type": "display_data",
          "data": {
            "text/plain": "HBox(children=(FloatProgress(value=0.0, max=44.0), HTML(value=&#39;&#39;)))",
            "application/vnd.jupyter.widget-view+json": {
              "version_major": 2,
              "version_minor": 0,
              "model_id": "004b8e52683d4643ac16117b70054bf9"
            }
          },
          "metadata": {}
        },
        {
          "output_type": "stream",
          "name": "stdout",
          "text": "\n[   8/  50]|Acc: 91.98% |mIoU: 47.27% |\n"
        },
        {
          "output_type": "display_data",
          "data": {
            "text/plain": "HBox(children=(FloatProgress(value=0.0, max=126.0), HTML(value=&#39;&#39;)))",
            "application/vnd.jupyter.widget-view+json": {
              "version_major": 2,
              "version_minor": 0,
              "model_id": "9312ad7671d640fcbfd157684d72c251"
            }
          },
          "metadata": {}
        },
        {
          "output_type": "stream",
          "name": "stdout",
          "text": "\n"
        },
        {
          "output_type": "display_data",
          "data": {
            "text/plain": "HBox(children=(FloatProgress(value=0.0, max=44.0), HTML(value=&#39;&#39;)))",
            "application/vnd.jupyter.widget-view+json": {
              "version_major": 2,
              "version_minor": 0,
              "model_id": "0ec9054946bc4422914ee3145b89d3c0"
            }
          },
          "metadata": {}
        },
        {
          "output_type": "stream",
          "name": "stdout",
          "text": "\n[   9/  50]|Acc: 89.98% |mIoU: 45.43% |\n"
        },
        {
          "output_type": "display_data",
          "data": {
            "text/plain": "HBox(children=(FloatProgress(value=0.0, max=126.0), HTML(value=&#39;&#39;)))",
            "application/vnd.jupyter.widget-view+json": {
              "version_major": 2,
              "version_minor": 0,
              "model_id": "3faa2a23c94b42729f0a97a5324e5a56"
            }
          },
          "metadata": {}
        },
        {
          "output_type": "stream",
          "name": "stdout",
          "text": "\n"
        },
        {
          "output_type": "display_data",
          "data": {
            "text/plain": "HBox(children=(FloatProgress(value=0.0, max=44.0), HTML(value=&#39;&#39;)))",
            "application/vnd.jupyter.widget-view+json": {
              "version_major": 2,
              "version_minor": 0,
              "model_id": "30cc571b510845f2bf0721da0256d6d1"
            }
          },
          "metadata": {}
        },
        {
          "output_type": "stream",
          "name": "stdout",
          "text": "\n[  10/  50]|Acc: 91.76% |mIoU: 47.73% |\n"
        },
        {
          "output_type": "display_data",
          "data": {
            "text/plain": "HBox(children=(FloatProgress(value=0.0, max=126.0), HTML(value=&#39;&#39;)))",
            "application/vnd.jupyter.widget-view+json": {
              "version_major": 2,
              "version_minor": 0,
              "model_id": "d19eb641ce734783b63dd1712d70f5bf"
            }
          },
          "metadata": {}
        },
        {
          "output_type": "stream",
          "name": "stdout",
          "text": "\n"
        },
        {
          "output_type": "display_data",
          "data": {
            "text/plain": "HBox(children=(FloatProgress(value=0.0, max=44.0), HTML(value=&#39;&#39;)))",
            "application/vnd.jupyter.widget-view+json": {
              "version_major": 2,
              "version_minor": 0,
              "model_id": "0b78ef9cb26b4d2887c96cf639cf8a42"
            }
          },
          "metadata": {}
        },
        {
          "output_type": "stream",
          "name": "stdout",
          "text": "\n[  11/  50]|Acc: 89.82% |mIoU: 43.88% |\n"
        },
        {
          "output_type": "display_data",
          "data": {
            "text/plain": "HBox(children=(FloatProgress(value=0.0, max=126.0), HTML(value=&#39;&#39;)))",
            "application/vnd.jupyter.widget-view+json": {
              "version_major": 2,
              "version_minor": 0,
              "model_id": "1a5ea7cd0fed4a8b89d706f2604b36a6"
            }
          },
          "metadata": {}
        },
        {
          "output_type": "stream",
          "name": "stdout",
          "text": "\n"
        },
        {
          "output_type": "display_data",
          "data": {
            "text/plain": "HBox(children=(FloatProgress(value=0.0, max=44.0), HTML(value=&#39;&#39;)))",
            "application/vnd.jupyter.widget-view+json": {
              "version_major": 2,
              "version_minor": 0,
              "model_id": "ff6939e364c14c979fc1289751989883"
            }
          },
          "metadata": {}
        },
        {
          "output_type": "stream",
          "name": "stdout",
          "text": "\n[  12/  50]|Acc: 90.99% |mIoU: 45.82% |\n"
        },
        {
          "output_type": "display_data",
          "data": {
            "text/plain": "HBox(children=(FloatProgress(value=0.0, max=126.0), HTML(value=&#39;&#39;)))",
            "application/vnd.jupyter.widget-view+json": {
              "version_major": 2,
              "version_minor": 0,
              "model_id": "7dd3a81b13434649be4028d5650e92f5"
            }
          },
          "metadata": {}
        },
        {
          "output_type": "stream",
          "name": "stdout",
          "text": "\n"
        },
        {
          "output_type": "display_data",
          "data": {
            "text/plain": "HBox(children=(FloatProgress(value=0.0, max=44.0), HTML(value=&#39;&#39;)))",
            "application/vnd.jupyter.widget-view+json": {
              "version_major": 2,
              "version_minor": 0,
              "model_id": "d9120e39d15f45c9ae95a6778452b0cc"
            }
          },
          "metadata": {}
        },
        {
          "output_type": "stream",
          "name": "stdout",
          "text": "\n[  13/  50]|Acc: 91.03% |mIoU: 47.36% |\n"
        },
        {
          "output_type": "display_data",
          "data": {
            "text/plain": "HBox(children=(FloatProgress(value=0.0, max=126.0), HTML(value=&#39;&#39;)))",
            "application/vnd.jupyter.widget-view+json": {
              "version_major": 2,
              "version_minor": 0,
              "model_id": "bb179f26d5d84642a7fea30c84da8b31"
            }
          },
          "metadata": {}
        },
        {
          "output_type": "stream",
          "name": "stdout",
          "text": "\n"
        },
        {
          "output_type": "display_data",
          "data": {
            "text/plain": "HBox(children=(FloatProgress(value=0.0, max=44.0), HTML(value=&#39;&#39;)))",
            "application/vnd.jupyter.widget-view+json": {
              "version_major": 2,
              "version_minor": 0,
              "model_id": "8f121d77c90d4a1da13d5b69ba652cca"
            }
          },
          "metadata": {}
        },
        {
          "output_type": "stream",
          "name": "stdout",
          "text": "\n[  14/  50]|Acc: 90.55% |mIoU: 44.49% |\n"
        },
        {
          "output_type": "display_data",
          "data": {
            "text/plain": "HBox(children=(FloatProgress(value=0.0, max=126.0), HTML(value=&#39;&#39;)))",
            "application/vnd.jupyter.widget-view+json": {
              "version_major": 2,
              "version_minor": 0,
              "model_id": "258400e219394e5c9bd9e0e1b2448c65"
            }
          },
          "metadata": {}
        },
        {
          "output_type": "stream",
          "name": "stdout",
          "text": "\n"
        },
        {
          "output_type": "display_data",
          "data": {
            "text/plain": "HBox(children=(FloatProgress(value=0.0, max=44.0), HTML(value=&#39;&#39;)))",
            "application/vnd.jupyter.widget-view+json": {
              "version_major": 2,
              "version_minor": 0,
              "model_id": "3c6e2eeb499c44d0823028b65254b508"
            }
          },
          "metadata": {}
        },
        {
          "output_type": "stream",
          "name": "stdout",
          "text": "\n[  15/  50]|Acc: 90.53% |mIoU: 47.34% |\n"
        },
        {
          "output_type": "display_data",
          "data": {
            "text/plain": "HBox(children=(FloatProgress(value=0.0, max=126.0), HTML(value=&#39;&#39;)))",
            "application/vnd.jupyter.widget-view+json": {
              "version_major": 2,
              "version_minor": 0,
              "model_id": "ec2b5ab0ffac44b6bafc6d923eaede27"
            }
          },
          "metadata": {}
        },
        {
          "output_type": "stream",
          "name": "stdout",
          "text": "\n"
        },
        {
          "output_type": "display_data",
          "data": {
            "text/plain": "HBox(children=(FloatProgress(value=0.0, max=44.0), HTML(value=&#39;&#39;)))",
            "application/vnd.jupyter.widget-view+json": {
              "version_major": 2,
              "version_minor": 0,
              "model_id": "2f312a76c37a4dd78890eae3e45c66e7"
            }
          },
          "metadata": {}
        },
        {
          "output_type": "stream",
          "name": "stdout",
          "text": "\n[  16/  50]|Acc: 93.90% |mIoU: 54.20% |\n"
        },
        {
          "output_type": "display_data",
          "data": {
            "text/plain": "HBox(children=(FloatProgress(value=0.0, max=126.0), HTML(value=&#39;&#39;)))",
            "application/vnd.jupyter.widget-view+json": {
              "version_major": 2,
              "version_minor": 0,
              "model_id": "f8c6998efbbb44f395558d2d0bf44c05"
            }
          },
          "metadata": {}
        },
        {
          "output_type": "stream",
          "name": "stdout",
          "text": "\n"
        },
        {
          "output_type": "display_data",
          "data": {
            "text/plain": "HBox(children=(FloatProgress(value=0.0, max=44.0), HTML(value=&#39;&#39;)))",
            "application/vnd.jupyter.widget-view+json": {
              "version_major": 2,
              "version_minor": 0,
              "model_id": "9e2dd51b410c4a97b76875d7beec221e"
            }
          },
          "metadata": {}
        },
        {
          "output_type": "stream",
          "name": "stdout",
          "text": "\n[  17/  50]|Acc: 92.05% |mIoU: 50.54% |\n"
        },
        {
          "output_type": "display_data",
          "data": {
            "text/plain": "HBox(children=(FloatProgress(value=0.0, max=126.0), HTML(value=&#39;&#39;)))",
            "application/vnd.jupyter.widget-view+json": {
              "version_major": 2,
              "version_minor": 0,
              "model_id": "fba938ac4dec48fea462709a509d8330"
            }
          },
          "metadata": {}
        },
        {
          "output_type": "stream",
          "name": "stdout",
          "text": "\n"
        },
        {
          "output_type": "display_data",
          "data": {
            "text/plain": "HBox(children=(FloatProgress(value=0.0, max=44.0), HTML(value=&#39;&#39;)))",
            "application/vnd.jupyter.widget-view+json": {
              "version_major": 2,
              "version_minor": 0,
              "model_id": "87055fe7f91b4244a994a9e318ea3c9a"
            }
          },
          "metadata": {}
        },
        {
          "output_type": "stream",
          "name": "stdout",
          "text": "\n[  18/  50]|Acc: 91.09% |mIoU: 47.52% |\n"
        },
        {
          "output_type": "display_data",
          "data": {
            "text/plain": "HBox(children=(FloatProgress(value=0.0, max=126.0), HTML(value=&#39;&#39;)))",
            "application/vnd.jupyter.widget-view+json": {
              "version_major": 2,
              "version_minor": 0,
              "model_id": "60a604038bf4416f8c11ca106124ee18"
            }
          },
          "metadata": {}
        },
        {
          "output_type": "stream",
          "name": "stdout",
          "text": "\n"
        },
        {
          "output_type": "display_data",
          "data": {
            "text/plain": "HBox(children=(FloatProgress(value=0.0, max=44.0), HTML(value=&#39;&#39;)))",
            "application/vnd.jupyter.widget-view+json": {
              "version_major": 2,
              "version_minor": 0,
              "model_id": "0c2bae7799b64cd68a7993ade034f9f7"
            }
          },
          "metadata": {}
        },
        {
          "output_type": "stream",
          "name": "stdout",
          "text": "\n[  19/  50]|Acc: 91.61% |mIoU: 49.97% |\n"
        },
        {
          "output_type": "display_data",
          "data": {
            "text/plain": "HBox(children=(FloatProgress(value=0.0, max=126.0), HTML(value=&#39;&#39;)))",
            "application/vnd.jupyter.widget-view+json": {
              "version_major": 2,
              "version_minor": 0,
              "model_id": "0cc4ca2a0d894c65be91d3798e4c9176"
            }
          },
          "metadata": {}
        },
        {
          "output_type": "stream",
          "name": "stdout",
          "text": "\n"
        },
        {
          "output_type": "display_data",
          "data": {
            "text/plain": "HBox(children=(FloatProgress(value=0.0, max=44.0), HTML(value=&#39;&#39;)))",
            "application/vnd.jupyter.widget-view+json": {
              "version_major": 2,
              "version_minor": 0,
              "model_id": "8e2130f27d034e68a2ed2db5625790b2"
            }
          },
          "metadata": {}
        },
        {
          "output_type": "stream",
          "name": "stdout",
          "text": "\n[  20/  50]|Acc: 92.18% |mIoU: 50.37% |\n"
        },
        {
          "output_type": "display_data",
          "data": {
            "text/plain": "HBox(children=(FloatProgress(value=0.0, max=126.0), HTML(value=&#39;&#39;)))",
            "application/vnd.jupyter.widget-view+json": {
              "version_major": 2,
              "version_minor": 0,
              "model_id": "8e21237b26df43c1aad76e8c91bbacd2"
            }
          },
          "metadata": {}
        },
        {
          "output_type": "stream",
          "name": "stdout",
          "text": "\n"
        },
        {
          "output_type": "display_data",
          "data": {
            "text/plain": "HBox(children=(FloatProgress(value=0.0, max=44.0), HTML(value=&#39;&#39;)))",
            "application/vnd.jupyter.widget-view+json": {
              "version_major": 2,
              "version_minor": 0,
              "model_id": "149003ad312042dc8a8ba78135e03444"
            }
          },
          "metadata": {}
        },
        {
          "output_type": "stream",
          "name": "stdout",
          "text": "\n[  21/  50]|Acc: 92.82% |mIoU: 51.30% |\n"
        },
        {
          "output_type": "display_data",
          "data": {
            "text/plain": "HBox(children=(FloatProgress(value=0.0, max=126.0), HTML(value=&#39;&#39;)))",
            "application/vnd.jupyter.widget-view+json": {
              "version_major": 2,
              "version_minor": 0,
              "model_id": "3bf0c792868f4c2bb6784e415edf45e1"
            }
          },
          "metadata": {}
        },
        {
          "output_type": "stream",
          "name": "stdout",
          "text": "\n"
        },
        {
          "output_type": "display_data",
          "data": {
            "text/plain": "HBox(children=(FloatProgress(value=0.0, max=44.0), HTML(value=&#39;&#39;)))",
            "application/vnd.jupyter.widget-view+json": {
              "version_major": 2,
              "version_minor": 0,
              "model_id": "7013efde19c14fb388c1a4ffc3adfcf5"
            }
          },
          "metadata": {}
        },
        {
          "output_type": "stream",
          "name": "stdout",
          "text": "\n[  22/  50]|Acc: 92.71% |mIoU: 52.50% |\n"
        },
        {
          "output_type": "display_data",
          "data": {
            "text/plain": "HBox(children=(FloatProgress(value=0.0, max=126.0), HTML(value=&#39;&#39;)))",
            "application/vnd.jupyter.widget-view+json": {
              "version_major": 2,
              "version_minor": 0,
              "model_id": "485e5dc3bc9c48f79103dd8626420993"
            }
          },
          "metadata": {}
        },
        {
          "output_type": "stream",
          "name": "stdout",
          "text": "\n"
        },
        {
          "output_type": "display_data",
          "data": {
            "text/plain": "HBox(children=(FloatProgress(value=0.0, max=44.0), HTML(value=&#39;&#39;)))",
            "application/vnd.jupyter.widget-view+json": {
              "version_major": 2,
              "version_minor": 0,
              "model_id": "13876961508147c691677f53ca558efd"
            }
          },
          "metadata": {}
        },
        {
          "output_type": "stream",
          "name": "stdout",
          "text": "\n[  23/  50]|Acc: 92.34% |mIoU: 50.17% |\n"
        },
        {
          "output_type": "display_data",
          "data": {
            "text/plain": "HBox(children=(FloatProgress(value=0.0, max=126.0), HTML(value=&#39;&#39;)))",
            "application/vnd.jupyter.widget-view+json": {
              "version_major": 2,
              "version_minor": 0,
              "model_id": "c0484735a5b64ea9b831824184ce6b69"
            }
          },
          "metadata": {}
        },
        {
          "output_type": "stream",
          "name": "stdout",
          "text": "\n"
        },
        {
          "output_type": "display_data",
          "data": {
            "text/plain": "HBox(children=(FloatProgress(value=0.0, max=44.0), HTML(value=&#39;&#39;)))",
            "application/vnd.jupyter.widget-view+json": {
              "version_major": 2,
              "version_minor": 0,
              "model_id": "275766f8358147a18fc5ac6afe3e9948"
            }
          },
          "metadata": {}
        },
        {
          "output_type": "stream",
          "name": "stdout",
          "text": "\n[  24/  50]|Acc: 89.68% |mIoU: 46.29% |\n"
        },
        {
          "output_type": "display_data",
          "data": {
            "text/plain": "HBox(children=(FloatProgress(value=0.0, max=126.0), HTML(value=&#39;&#39;)))",
            "application/vnd.jupyter.widget-view+json": {
              "version_major": 2,
              "version_minor": 0,
              "model_id": "6919b25ee5f44a56a9d5d18906d3d899"
            }
          },
          "metadata": {}
        },
        {
          "output_type": "stream",
          "name": "stdout",
          "text": "\n"
        },
        {
          "output_type": "display_data",
          "data": {
            "text/plain": "HBox(children=(FloatProgress(value=0.0, max=44.0), HTML(value=&#39;&#39;)))",
            "application/vnd.jupyter.widget-view+json": {
              "version_major": 2,
              "version_minor": 0,
              "model_id": "dd82e24e124a4f938c3a9d2049a17c76"
            }
          },
          "metadata": {}
        },
        {
          "output_type": "stream",
          "name": "stdout",
          "text": "\n[  25/  50]|Acc: 92.22% |mIoU: 51.09% |\n"
        },
        {
          "output_type": "display_data",
          "data": {
            "text/plain": "HBox(children=(FloatProgress(value=0.0, max=126.0), HTML(value=&#39;&#39;)))",
            "application/vnd.jupyter.widget-view+json": {
              "version_major": 2,
              "version_minor": 0,
              "model_id": "baac400ea9624fdf9c7065173964db93"
            }
          },
          "metadata": {}
        },
        {
          "output_type": "stream",
          "name": "stdout",
          "text": "\n"
        },
        {
          "output_type": "display_data",
          "data": {
            "text/plain": "HBox(children=(FloatProgress(value=0.0, max=44.0), HTML(value=&#39;&#39;)))",
            "application/vnd.jupyter.widget-view+json": {
              "version_major": 2,
              "version_minor": 0,
              "model_id": "c416927d4d98461799873f9cd0bb0c6f"
            }
          },
          "metadata": {}
        },
        {
          "output_type": "stream",
          "name": "stdout",
          "text": "\n[  26/  50]|Acc: 90.46% |mIoU: 47.28% |\n"
        },
        {
          "output_type": "display_data",
          "data": {
            "text/plain": "HBox(children=(FloatProgress(value=0.0, max=126.0), HTML(value=&#39;&#39;)))",
            "application/vnd.jupyter.widget-view+json": {
              "version_major": 2,
              "version_minor": 0,
              "model_id": "cb3f0ac7619544dda9178500e00ae219"
            }
          },
          "metadata": {}
        },
        {
          "output_type": "stream",
          "name": "stdout",
          "text": "\n"
        },
        {
          "output_type": "display_data",
          "data": {
            "text/plain": "HBox(children=(FloatProgress(value=0.0, max=44.0), HTML(value=&#39;&#39;)))",
            "application/vnd.jupyter.widget-view+json": {
              "version_major": 2,
              "version_minor": 0,
              "model_id": "ea9cdabedb654e2aa55271c599a664ec"
            }
          },
          "metadata": {}
        },
        {
          "output_type": "stream",
          "name": "stdout",
          "text": "\n[  27/  50]|Acc: 90.23% |mIoU: 46.44% |\n"
        },
        {
          "output_type": "display_data",
          "data": {
            "text/plain": "HBox(children=(FloatProgress(value=0.0, max=126.0), HTML(value=&#39;&#39;)))",
            "application/vnd.jupyter.widget-view+json": {
              "version_major": 2,
              "version_minor": 0,
              "model_id": "1446c858d47642b1a5ff760c8261cf2d"
            }
          },
          "metadata": {}
        },
        {
          "output_type": "stream",
          "name": "stdout",
          "text": "\n"
        },
        {
          "output_type": "display_data",
          "data": {
            "text/plain": "HBox(children=(FloatProgress(value=0.0, max=44.0), HTML(value=&#39;&#39;)))",
            "application/vnd.jupyter.widget-view+json": {
              "version_major": 2,
              "version_minor": 0,
              "model_id": "358d238edeb047288e2813d38c39b2f1"
            }
          },
          "metadata": {}
        },
        {
          "output_type": "stream",
          "name": "stdout",
          "text": "\n[  28/  50]|Acc: 93.01% |mIoU: 54.70% |\n"
        },
        {
          "output_type": "display_data",
          "data": {
            "text/plain": "HBox(children=(FloatProgress(value=0.0, max=126.0), HTML(value=&#39;&#39;)))",
            "application/vnd.jupyter.widget-view+json": {
              "version_major": 2,
              "version_minor": 0,
              "model_id": "9d5fed28c55d4963a26bed16f307638a"
            }
          },
          "metadata": {}
        },
        {
          "output_type": "stream",
          "name": "stdout",
          "text": "\n"
        },
        {
          "output_type": "display_data",
          "data": {
            "text/plain": "HBox(children=(FloatProgress(value=0.0, max=44.0), HTML(value=&#39;&#39;)))",
            "application/vnd.jupyter.widget-view+json": {
              "version_major": 2,
              "version_minor": 0,
              "model_id": "bc5d88eeb6194b03ad1889a5d8d36e8e"
            }
          },
          "metadata": {}
        },
        {
          "output_type": "stream",
          "name": "stdout",
          "text": "\n[  29/  50]|Acc: 92.60% |mIoU: 50.67% |\n"
        },
        {
          "output_type": "display_data",
          "data": {
            "text/plain": "HBox(children=(FloatProgress(value=0.0, max=126.0), HTML(value=&#39;&#39;)))",
            "application/vnd.jupyter.widget-view+json": {
              "version_major": 2,
              "version_minor": 0,
              "model_id": "8ac0dce5bd014816ac509b5a6fbd0898"
            }
          },
          "metadata": {}
        },
        {
          "output_type": "stream",
          "name": "stdout",
          "text": "\n"
        },
        {
          "output_type": "display_data",
          "data": {
            "text/plain": "HBox(children=(FloatProgress(value=0.0, max=44.0), HTML(value=&#39;&#39;)))",
            "application/vnd.jupyter.widget-view+json": {
              "version_major": 2,
              "version_minor": 0,
              "model_id": "b9af60e7c42d40548a4e916db7d835b9"
            }
          },
          "metadata": {}
        },
        {
          "output_type": "stream",
          "name": "stdout",
          "text": "\n[  30/  50]|Acc: 90.74% |mIoU: 47.83% |\n"
        },
        {
          "output_type": "display_data",
          "data": {
            "text/plain": "HBox(children=(FloatProgress(value=0.0, max=126.0), HTML(value=&#39;&#39;)))",
            "application/vnd.jupyter.widget-view+json": {
              "version_major": 2,
              "version_minor": 0,
              "model_id": "e42a3fe04adb4838afced61aa28d6154"
            }
          },
          "metadata": {}
        },
        {
          "output_type": "stream",
          "name": "stdout",
          "text": "\n"
        },
        {
          "output_type": "display_data",
          "data": {
            "text/plain": "HBox(children=(FloatProgress(value=0.0, max=44.0), HTML(value=&#39;&#39;)))",
            "application/vnd.jupyter.widget-view+json": {
              "version_major": 2,
              "version_minor": 0,
              "model_id": "937af997a2fa4b998fa3262d32ca4fc8"
            }
          },
          "metadata": {}
        },
        {
          "output_type": "stream",
          "name": "stdout",
          "text": "\n[  31/  50]|Acc: 93.07% |mIoU: 53.44% |\n"
        },
        {
          "output_type": "display_data",
          "data": {
            "text/plain": "HBox(children=(FloatProgress(value=0.0, max=126.0), HTML(value=&#39;&#39;)))",
            "application/vnd.jupyter.widget-view+json": {
              "version_major": 2,
              "version_minor": 0,
              "model_id": "593caa09a2ad4284a7a68e7c853772f2"
            }
          },
          "metadata": {}
        },
        {
          "output_type": "stream",
          "name": "stdout",
          "text": "\n"
        },
        {
          "output_type": "display_data",
          "data": {
            "text/plain": "HBox(children=(FloatProgress(value=0.0, max=44.0), HTML(value=&#39;&#39;)))",
            "application/vnd.jupyter.widget-view+json": {
              "version_major": 2,
              "version_minor": 0,
              "model_id": "d7d7d79d4613489ea81a0f5a2a475781"
            }
          },
          "metadata": {}
        },
        {
          "output_type": "stream",
          "name": "stdout",
          "text": "\n[  32/  50]|Acc: 91.62% |mIoU: 47.84% |\n"
        },
        {
          "output_type": "display_data",
          "data": {
            "text/plain": "HBox(children=(FloatProgress(value=0.0, max=126.0), HTML(value=&#39;&#39;)))",
            "application/vnd.jupyter.widget-view+json": {
              "version_major": 2,
              "version_minor": 0,
              "model_id": "8b40273c0b414203a5b5f14366299a0e"
            }
          },
          "metadata": {}
        },
        {
          "output_type": "stream",
          "name": "stdout",
          "text": "\n"
        },
        {
          "output_type": "display_data",
          "data": {
            "text/plain": "HBox(children=(FloatProgress(value=0.0, max=44.0), HTML(value=&#39;&#39;)))",
            "application/vnd.jupyter.widget-view+json": {
              "version_major": 2,
              "version_minor": 0,
              "model_id": "abd7aa10261f48ab91eb6337707f5bc1"
            }
          },
          "metadata": {}
        },
        {
          "output_type": "stream",
          "name": "stdout",
          "text": "\n[  33/  50]|Acc: 89.94% |mIoU: 46.19% |\n"
        },
        {
          "output_type": "display_data",
          "data": {
            "text/plain": "HBox(children=(FloatProgress(value=0.0, max=126.0), HTML(value=&#39;&#39;)))",
            "application/vnd.jupyter.widget-view+json": {
              "version_major": 2,
              "version_minor": 0,
              "model_id": "9dd6ef90552b43039b7b1dc33e18b880"
            }
          },
          "metadata": {}
        },
        {
          "output_type": "stream",
          "name": "stdout",
          "text": "\n"
        },
        {
          "output_type": "display_data",
          "data": {
            "text/plain": "HBox(children=(FloatProgress(value=0.0, max=44.0), HTML(value=&#39;&#39;)))",
            "application/vnd.jupyter.widget-view+json": {
              "version_major": 2,
              "version_minor": 0,
              "model_id": "e41e1355ca06472daf89c13eff85adb2"
            }
          },
          "metadata": {}
        },
        {
          "output_type": "stream",
          "name": "stdout",
          "text": "\n[  34/  50]|Acc: 93.02% |mIoU: 55.33% |\n"
        },
        {
          "output_type": "display_data",
          "data": {
            "text/plain": "HBox(children=(FloatProgress(value=0.0, max=126.0), HTML(value=&#39;&#39;)))",
            "application/vnd.jupyter.widget-view+json": {
              "version_major": 2,
              "version_minor": 0,
              "model_id": "588afbfd614a4de68367cbd9fb22000f"
            }
          },
          "metadata": {}
        },
        {
          "output_type": "stream",
          "name": "stdout",
          "text": "\n"
        },
        {
          "output_type": "display_data",
          "data": {
            "text/plain": "HBox(children=(FloatProgress(value=0.0, max=44.0), HTML(value=&#39;&#39;)))",
            "application/vnd.jupyter.widget-view+json": {
              "version_major": 2,
              "version_minor": 0,
              "model_id": "7b25e5308b544217b74e42466bf96cca"
            }
          },
          "metadata": {}
        },
        {
          "output_type": "stream",
          "name": "stdout",
          "text": "\n[  35/  50]|Acc: 93.60% |mIoU: 54.32% |\n"
        },
        {
          "output_type": "display_data",
          "data": {
            "text/plain": "HBox(children=(FloatProgress(value=0.0, max=126.0), HTML(value=&#39;&#39;)))",
            "application/vnd.jupyter.widget-view+json": {
              "version_major": 2,
              "version_minor": 0,
              "model_id": "09359b1d2deb4bda99cd2dce255c9f07"
            }
          },
          "metadata": {}
        },
        {
          "output_type": "stream",
          "name": "stdout",
          "text": "\n"
        },
        {
          "output_type": "display_data",
          "data": {
            "text/plain": "HBox(children=(FloatProgress(value=0.0, max=44.0), HTML(value=&#39;&#39;)))",
            "application/vnd.jupyter.widget-view+json": {
              "version_major": 2,
              "version_minor": 0,
              "model_id": "ef782da3fa3d4dd3aaff4f8d71e7a9f7"
            }
          },
          "metadata": {}
        },
        {
          "output_type": "stream",
          "name": "stdout",
          "text": "\n[  36/  50]|Acc: 91.90% |mIoU: 53.78% |\n"
        },
        {
          "output_type": "display_data",
          "data": {
            "text/plain": "HBox(children=(FloatProgress(value=0.0, max=126.0), HTML(value=&#39;&#39;)))",
            "application/vnd.jupyter.widget-view+json": {
              "version_major": 2,
              "version_minor": 0,
              "model_id": "c61e3dfa53b8437daa9130042175a9ba"
            }
          },
          "metadata": {}
        },
        {
          "output_type": "stream",
          "name": "stdout",
          "text": "\n"
        },
        {
          "output_type": "display_data",
          "data": {
            "text/plain": "HBox(children=(FloatProgress(value=0.0, max=44.0), HTML(value=&#39;&#39;)))",
            "application/vnd.jupyter.widget-view+json": {
              "version_major": 2,
              "version_minor": 0,
              "model_id": "836271f679e741a9b19c5ec9d1b2cb98"
            }
          },
          "metadata": {}
        },
        {
          "output_type": "stream",
          "name": "stdout",
          "text": "\n[  37/  50]|Acc: 92.27% |mIoU: 51.83% |\n"
        },
        {
          "output_type": "display_data",
          "data": {
            "text/plain": "HBox(children=(FloatProgress(value=0.0, max=126.0), HTML(value=&#39;&#39;)))",
            "application/vnd.jupyter.widget-view+json": {
              "version_major": 2,
              "version_minor": 0,
              "model_id": "437ca957a1b84735a2618558785c1bc9"
            }
          },
          "metadata": {}
        },
        {
          "output_type": "stream",
          "name": "stdout",
          "text": "\n"
        },
        {
          "output_type": "display_data",
          "data": {
            "text/plain": "HBox(children=(FloatProgress(value=0.0, max=44.0), HTML(value=&#39;&#39;)))",
            "application/vnd.jupyter.widget-view+json": {
              "version_major": 2,
              "version_minor": 0,
              "model_id": "feffc7e59dd44a31b7d930e3c7c2e8ed"
            }
          },
          "metadata": {}
        },
        {
          "output_type": "stream",
          "name": "stdout",
          "text": "\n[  38/  50]|Acc: 94.05% |mIoU: 58.66% |\n"
        },
        {
          "output_type": "display_data",
          "data": {
            "text/plain": "HBox(children=(FloatProgress(value=0.0, max=126.0), HTML(value=&#39;&#39;)))",
            "application/vnd.jupyter.widget-view+json": {
              "version_major": 2,
              "version_minor": 0,
              "model_id": "cefc43e3af874d22b9b8148e5c98a86f"
            }
          },
          "metadata": {}
        },
        {
          "output_type": "stream",
          "name": "stdout",
          "text": "\n"
        },
        {
          "output_type": "display_data",
          "data": {
            "text/plain": "HBox(children=(FloatProgress(value=0.0, max=44.0), HTML(value=&#39;&#39;)))",
            "application/vnd.jupyter.widget-view+json": {
              "version_major": 2,
              "version_minor": 0,
              "model_id": "6b7b3f78f9b444759e06cece6197f67a"
            }
          },
          "metadata": {}
        },
        {
          "output_type": "stream",
          "name": "stdout",
          "text": "\n[  39/  50]|Acc: 92.99% |mIoU: 53.43% |\n"
        },
        {
          "output_type": "display_data",
          "data": {
            "text/plain": "HBox(children=(FloatProgress(value=0.0, max=126.0), HTML(value=&#39;&#39;)))",
            "application/vnd.jupyter.widget-view+json": {
              "version_major": 2,
              "version_minor": 0,
              "model_id": "e7b05e2d62f04bd0a45f40189effecd8"
            }
          },
          "metadata": {}
        },
        {
          "output_type": "stream",
          "name": "stdout",
          "text": "\n"
        },
        {
          "output_type": "display_data",
          "data": {
            "text/plain": "HBox(children=(FloatProgress(value=0.0, max=44.0), HTML(value=&#39;&#39;)))",
            "application/vnd.jupyter.widget-view+json": {
              "version_major": 2,
              "version_minor": 0,
              "model_id": "ae3f5cdbf5f54e95b98dbe4c83b21803"
            }
          },
          "metadata": {}
        },
        {
          "output_type": "stream",
          "name": "stdout",
          "text": "\n[  40/  50]|Acc: 93.07% |mIoU: 53.40% |\n"
        },
        {
          "output_type": "display_data",
          "data": {
            "text/plain": "HBox(children=(FloatProgress(value=0.0, max=126.0), HTML(value=&#39;&#39;)))",
            "application/vnd.jupyter.widget-view+json": {
              "version_major": 2,
              "version_minor": 0,
              "model_id": "62bd1d3a80d149a9b8b2497609f3fe9a"
            }
          },
          "metadata": {}
        },
        {
          "output_type": "stream",
          "name": "stdout",
          "text": "\n"
        },
        {
          "output_type": "display_data",
          "data": {
            "text/plain": "HBox(children=(FloatProgress(value=0.0, max=44.0), HTML(value=&#39;&#39;)))",
            "application/vnd.jupyter.widget-view+json": {
              "version_major": 2,
              "version_minor": 0,
              "model_id": "f86ca06f830a4b19b2109282174ff26c"
            }
          },
          "metadata": {}
        },
        {
          "output_type": "stream",
          "name": "stdout",
          "text": "\n[  41/  50]|Acc: 95.38% |mIoU: 62.01% |\n"
        },
        {
          "output_type": "display_data",
          "data": {
            "text/plain": "HBox(children=(FloatProgress(value=0.0, max=126.0), HTML(value=&#39;&#39;)))",
            "application/vnd.jupyter.widget-view+json": {
              "version_major": 2,
              "version_minor": 0,
              "model_id": "fef5b65e9ffa40f59498ddb8e7d4827a"
            }
          },
          "metadata": {}
        },
        {
          "output_type": "stream",
          "name": "stdout",
          "text": "\n"
        },
        {
          "output_type": "display_data",
          "data": {
            "text/plain": "HBox(children=(FloatProgress(value=0.0, max=44.0), HTML(value=&#39;&#39;)))",
            "application/vnd.jupyter.widget-view+json": {
              "version_major": 2,
              "version_minor": 0,
              "model_id": "51c914939e894fef8feaa6499581d5bf"
            }
          },
          "metadata": {}
        },
        {
          "output_type": "stream",
          "name": "stdout",
          "text": "\n[  42/  50]|Acc: 88.50% |mIoU: 43.13% |\n"
        },
        {
          "output_type": "display_data",
          "data": {
            "text/plain": "HBox(children=(FloatProgress(value=0.0, max=126.0), HTML(value=&#39;&#39;)))",
            "application/vnd.jupyter.widget-view+json": {
              "version_major": 2,
              "version_minor": 0,
              "model_id": "33757730efad4d33b97a7869f97dce91"
            }
          },
          "metadata": {}
        },
        {
          "output_type": "stream",
          "name": "stdout",
          "text": "\n"
        },
        {
          "output_type": "display_data",
          "data": {
            "text/plain": "HBox(children=(FloatProgress(value=0.0, max=44.0), HTML(value=&#39;&#39;)))",
            "application/vnd.jupyter.widget-view+json": {
              "version_major": 2,
              "version_minor": 0,
              "model_id": "8dc04ef12f524a9c9814ffa78faa4aff"
            }
          },
          "metadata": {}
        },
        {
          "output_type": "stream",
          "name": "stdout",
          "text": "\n[  43/  50]|Acc: 92.94% |mIoU: 53.39% |\n"
        },
        {
          "output_type": "display_data",
          "data": {
            "text/plain": "HBox(children=(FloatProgress(value=0.0, max=126.0), HTML(value=&#39;&#39;)))",
            "application/vnd.jupyter.widget-view+json": {
              "version_major": 2,
              "version_minor": 0,
              "model_id": "c7961830399c44ccbc2a3095e6442417"
            }
          },
          "metadata": {}
        },
        {
          "output_type": "stream",
          "name": "stdout",
          "text": "\n"
        },
        {
          "output_type": "display_data",
          "data": {
            "text/plain": "HBox(children=(FloatProgress(value=0.0, max=44.0), HTML(value=&#39;&#39;)))",
            "application/vnd.jupyter.widget-view+json": {
              "version_major": 2,
              "version_minor": 0,
              "model_id": "63f74875538e4e438eb59f92ec895400"
            }
          },
          "metadata": {}
        },
        {
          "output_type": "stream",
          "name": "stdout",
          "text": "\n[  44/  50]|Acc: 93.93% |mIoU: 55.46% |\n"
        },
        {
          "output_type": "display_data",
          "data": {
            "text/plain": "HBox(children=(FloatProgress(value=0.0, max=126.0), HTML(value=&#39;&#39;)))",
            "application/vnd.jupyter.widget-view+json": {
              "version_major": 2,
              "version_minor": 0,
              "model_id": "370903dd4a1d4f5eab61506bdd72fb26"
            }
          },
          "metadata": {}
        },
        {
          "output_type": "stream",
          "name": "stdout",
          "text": "\n"
        },
        {
          "output_type": "display_data",
          "data": {
            "text/plain": "HBox(children=(FloatProgress(value=0.0, max=44.0), HTML(value=&#39;&#39;)))",
            "application/vnd.jupyter.widget-view+json": {
              "version_major": 2,
              "version_minor": 0,
              "model_id": "37bfe6b3db4749f99f6a26a22f67d21c"
            }
          },
          "metadata": {}
        },
        {
          "output_type": "stream",
          "name": "stdout",
          "text": "\n[  45/  50]|Acc: 94.90% |mIoU: 61.58% |\n"
        },
        {
          "output_type": "display_data",
          "data": {
            "text/plain": "HBox(children=(FloatProgress(value=0.0, max=126.0), HTML(value=&#39;&#39;)))",
            "application/vnd.jupyter.widget-view+json": {
              "version_major": 2,
              "version_minor": 0,
              "model_id": "6d522aad457c45f5b448f2720fa2bd18"
            }
          },
          "metadata": {}
        },
        {
          "output_type": "stream",
          "name": "stdout",
          "text": "\n"
        },
        {
          "output_type": "display_data",
          "data": {
            "text/plain": "HBox(children=(FloatProgress(value=0.0, max=44.0), HTML(value=&#39;&#39;)))",
            "application/vnd.jupyter.widget-view+json": {
              "version_major": 2,
              "version_minor": 0,
              "model_id": "b59c79ade4114960ae9a63e6dec72d26"
            }
          },
          "metadata": {}
        },
        {
          "output_type": "stream",
          "name": "stdout",
          "text": "\n[  46/  50]|Acc: 94.75% |mIoU: 60.93% |\n"
        },
        {
          "output_type": "display_data",
          "data": {
            "text/plain": "HBox(children=(FloatProgress(value=0.0, max=126.0), HTML(value=&#39;&#39;)))",
            "application/vnd.jupyter.widget-view+json": {
              "version_major": 2,
              "version_minor": 0,
              "model_id": "379b89c2a0c9417786d8978e93270c8f"
            }
          },
          "metadata": {}
        },
        {
          "output_type": "stream",
          "name": "stdout",
          "text": "\n"
        },
        {
          "output_type": "display_data",
          "data": {
            "text/plain": "HBox(children=(FloatProgress(value=0.0, max=44.0), HTML(value=&#39;&#39;)))",
            "application/vnd.jupyter.widget-view+json": {
              "version_major": 2,
              "version_minor": 0,
              "model_id": "e9a215b2323745f5ac789a6370c21426"
            }
          },
          "metadata": {}
        },
        {
          "output_type": "stream",
          "name": "stdout",
          "text": "\n[  47/  50]|Acc: 96.08% |mIoU: 64.27% |\n"
        },
        {
          "output_type": "display_data",
          "data": {
            "text/plain": "HBox(children=(FloatProgress(value=0.0, max=126.0), HTML(value=&#39;&#39;)))",
            "application/vnd.jupyter.widget-view+json": {
              "version_major": 2,
              "version_minor": 0,
              "model_id": "2d7af0ec475046798f24927caf510671"
            }
          },
          "metadata": {}
        },
        {
          "output_type": "stream",
          "name": "stdout",
          "text": "\n"
        },
        {
          "output_type": "display_data",
          "data": {
            "text/plain": "HBox(children=(FloatProgress(value=0.0, max=44.0), HTML(value=&#39;&#39;)))",
            "application/vnd.jupyter.widget-view+json": {
              "version_major": 2,
              "version_minor": 0,
              "model_id": "9daee52d14a8411d9771f61868e280e7"
            }
          },
          "metadata": {}
        },
        {
          "output_type": "stream",
          "name": "stdout",
          "text": "\n[  48/  50]|Acc: 93.56% |mIoU: 56.64% |\n"
        },
        {
          "output_type": "display_data",
          "data": {
            "text/plain": "HBox(children=(FloatProgress(value=0.0, max=126.0), HTML(value=&#39;&#39;)))",
            "application/vnd.jupyter.widget-view+json": {
              "version_major": 2,
              "version_minor": 0,
              "model_id": "73e623013cab4c7a8b6639c060ec5d9d"
            }
          },
          "metadata": {}
        },
        {
          "output_type": "stream",
          "name": "stdout",
          "text": "\n"
        },
        {
          "output_type": "display_data",
          "data": {
            "text/plain": "HBox(children=(FloatProgress(value=0.0, max=44.0), HTML(value=&#39;&#39;)))",
            "application/vnd.jupyter.widget-view+json": {
              "version_major": 2,
              "version_minor": 0,
              "model_id": "80d55a62bf41435daa3dac329a3742c5"
            }
          },
          "metadata": {}
        },
        {
          "output_type": "stream",
          "name": "stdout",
          "text": "\n[  49/  50]|Acc: 96.34% |mIoU: 65.36% |\n"
        },
        {
          "output_type": "display_data",
          "data": {
            "text/plain": "HBox(children=(FloatProgress(value=0.0, max=126.0), HTML(value=&#39;&#39;)))",
            "application/vnd.jupyter.widget-view+json": {
              "version_major": 2,
              "version_minor": 0,
              "model_id": "f9f5e73f6d734df2908a6675669dc409"
            }
          },
          "metadata": {}
        },
        {
          "output_type": "stream",
          "name": "stdout",
          "text": "\n"
        },
        {
          "output_type": "display_data",
          "data": {
            "text/plain": "HBox(children=(FloatProgress(value=0.0, max=44.0), HTML(value=&#39;&#39;)))",
            "application/vnd.jupyter.widget-view+json": {
              "version_major": 2,
              "version_minor": 0,
              "model_id": "f5bbfb00cea4411095ba6b02c19f9994"
            }
          },
          "metadata": {}
        },
        {
          "output_type": "stream",
          "name": "stdout",
          "text": "\n[  50/  50]|Acc: 95.80% |mIoU: 63.53% |\n2401.502779483795\n"
        }
      ],
      "source": [
        "start_time = time()\n",
        "best_result = 0\n",
        "model_save_path = get_save_path(BASE_DIR, RUNNAME)\n",
        "train_loss_vals = []\n",
        "for epoch in range(1, EPOCHS+1):\n",
        "    train_loss_vals.extend(train_model(net, device, train_dataloader, loss_func, optimizer, epoch, experiment))\n",
        "    valid_result = test_model(net, device, valid_dataloader, loss_func, experiment, 'Valid')\n",
        "    best_result = save_model(net, valid_result, best_result, model_save_path)\n",
        "    scheduler.step()\n",
        "print(time() - start_time)"
      ]
    },
    {
      "source": [
        "Evaluate model"
      ],
      "cell_type": "markdown",
      "metadata": {}
    },
    {
      "cell_type": "code",
      "execution_count": 14,
      "metadata": {
        "tags": []
      },
      "outputs": [
        {
          "output_type": "display_data",
          "data": {
            "text/plain": "&lt;Figure size 432x288 with 1 Axes&gt;",
            "image/svg+xml": "<?xml version=\"1.0\" encoding=\"utf-8\" standalone=\"no\"?>\n<!DOCTYPE svg PUBLIC \"-//W3C//DTD SVG 1.1//EN\"\n  \"http://www.w3.org/Graphics/SVG/1.1/DTD/svg11.dtd\">\n<!-- Created with matplotlib (https://matplotlib.org/) -->\n<svg height=\"248.518125pt\" version=\"1.1\" viewBox=\"0 0 372.103125 248.518125\" width=\"372.103125pt\" xmlns=\"http://www.w3.org/2000/svg\" xmlns:xlink=\"http://www.w3.org/1999/xlink\">\n <defs>\n  <style type=\"text/css\">\n*{stroke-linecap:butt;stroke-linejoin:round;}\n  </style>\n </defs>\n <g id=\"figure_1\">\n  <g id=\"patch_1\">\n   <path d=\"M 0 248.518125 \nL 372.103125 248.518125 \nL 372.103125 0 \nL 0 0 \nz\n\" style=\"fill:none;\"/>\n  </g>\n  <g id=\"axes_1\">\n   <g id=\"patch_2\">\n    <path d=\"M 30.103125 224.64 \nL 364.903125 224.64 \nL 364.903125 7.2 \nL 30.103125 7.2 \nz\n\" style=\"fill:#ffffff;\"/>\n   </g>\n   <g id=\"matplotlib.axis_1\">\n    <g id=\"xtick_1\">\n     <g id=\"line2d_1\">\n      <defs>\n       <path d=\"M 0 0 \nL 0 3.5 \n\" id=\"mb31d914a8b\" style=\"stroke:#000000;stroke-width:0.8;\"/>\n      </defs>\n      <g>\n       <use style=\"stroke:#000000;stroke-width:0.8;\" x=\"45.321307\" xlink:href=\"#mb31d914a8b\" y=\"224.64\"/>\n      </g>\n     </g>\n     <g id=\"text_1\">\n      <!-- 0 -->\n      <defs>\n       <path d=\"M 31.78125 66.40625 \nQ 24.171875 66.40625 20.328125 58.90625 \nQ 16.5 51.421875 16.5 36.375 \nQ 16.5 21.390625 20.328125 13.890625 \nQ 24.171875 6.390625 31.78125 6.390625 \nQ 39.453125 6.390625 43.28125 13.890625 \nQ 47.125 21.390625 47.125 36.375 \nQ 47.125 51.421875 43.28125 58.90625 \nQ 39.453125 66.40625 31.78125 66.40625 \nz\nM 31.78125 74.21875 \nQ 44.046875 74.21875 50.515625 64.515625 \nQ 56.984375 54.828125 56.984375 36.375 \nQ 56.984375 17.96875 50.515625 8.265625 \nQ 44.046875 -1.421875 31.78125 -1.421875 \nQ 19.53125 -1.421875 13.0625 8.265625 \nQ 6.59375 17.96875 6.59375 36.375 \nQ 6.59375 54.828125 13.0625 64.515625 \nQ 19.53125 74.21875 31.78125 74.21875 \nz\n\" id=\"DejaVuSans-48\"/>\n      </defs>\n      <g transform=\"translate(42.140057 239.238437)scale(0.1 -0.1)\">\n       <use xlink:href=\"#DejaVuSans-48\"/>\n      </g>\n     </g>\n    </g>\n    <g id=\"xtick_2\">\n     <g id=\"line2d_2\">\n      <g>\n       <use style=\"stroke:#000000;stroke-width:0.8;\" x=\"93.640665\" xlink:href=\"#mb31d914a8b\" y=\"224.64\"/>\n      </g>\n     </g>\n     <g id=\"text_2\">\n      <!-- 1000 -->\n      <defs>\n       <path d=\"M 12.40625 8.296875 \nL 28.515625 8.296875 \nL 28.515625 63.921875 \nL 10.984375 60.40625 \nL 10.984375 69.390625 \nL 28.421875 72.90625 \nL 38.28125 72.90625 \nL 38.28125 8.296875 \nL 54.390625 8.296875 \nL 54.390625 0 \nL 12.40625 0 \nz\n\" id=\"DejaVuSans-49\"/>\n      </defs>\n      <g transform=\"translate(80.915665 239.238437)scale(0.1 -0.1)\">\n       <use xlink:href=\"#DejaVuSans-49\"/>\n       <use x=\"63.623047\" xlink:href=\"#DejaVuSans-48\"/>\n       <use x=\"127.246094\" xlink:href=\"#DejaVuSans-48\"/>\n       <use x=\"190.869141\" xlink:href=\"#DejaVuSans-48\"/>\n      </g>\n     </g>\n    </g>\n    <g id=\"xtick_3\">\n     <g id=\"line2d_3\">\n      <g>\n       <use style=\"stroke:#000000;stroke-width:0.8;\" x=\"141.960023\" xlink:href=\"#mb31d914a8b\" y=\"224.64\"/>\n      </g>\n     </g>\n     <g id=\"text_3\">\n      <!-- 2000 -->\n      <defs>\n       <path d=\"M 19.1875 8.296875 \nL 53.609375 8.296875 \nL 53.609375 0 \nL 7.328125 0 \nL 7.328125 8.296875 \nQ 12.9375 14.109375 22.625 23.890625 \nQ 32.328125 33.6875 34.8125 36.53125 \nQ 39.546875 41.84375 41.421875 45.53125 \nQ 43.3125 49.21875 43.3125 52.78125 \nQ 43.3125 58.59375 39.234375 62.25 \nQ 35.15625 65.921875 28.609375 65.921875 \nQ 23.96875 65.921875 18.8125 64.3125 \nQ 13.671875 62.703125 7.8125 59.421875 \nL 7.8125 69.390625 \nQ 13.765625 71.78125 18.9375 73 \nQ 24.125 74.21875 28.421875 74.21875 \nQ 39.75 74.21875 46.484375 68.546875 \nQ 53.21875 62.890625 53.21875 53.421875 \nQ 53.21875 48.921875 51.53125 44.890625 \nQ 49.859375 40.875 45.40625 35.40625 \nQ 44.1875 33.984375 37.640625 27.21875 \nQ 31.109375 20.453125 19.1875 8.296875 \nz\n\" id=\"DejaVuSans-50\"/>\n      </defs>\n      <g transform=\"translate(129.235023 239.238437)scale(0.1 -0.1)\">\n       <use xlink:href=\"#DejaVuSans-50\"/>\n       <use x=\"63.623047\" xlink:href=\"#DejaVuSans-48\"/>\n       <use x=\"127.246094\" xlink:href=\"#DejaVuSans-48\"/>\n       <use x=\"190.869141\" xlink:href=\"#DejaVuSans-48\"/>\n      </g>\n     </g>\n    </g>\n    <g id=\"xtick_4\">\n     <g id=\"line2d_4\">\n      <g>\n       <use style=\"stroke:#000000;stroke-width:0.8;\" x=\"190.279381\" xlink:href=\"#mb31d914a8b\" y=\"224.64\"/>\n      </g>\n     </g>\n     <g id=\"text_4\">\n      <!-- 3000 -->\n      <defs>\n       <path d=\"M 40.578125 39.3125 \nQ 47.65625 37.796875 51.625 33 \nQ 55.609375 28.21875 55.609375 21.1875 \nQ 55.609375 10.40625 48.1875 4.484375 \nQ 40.765625 -1.421875 27.09375 -1.421875 \nQ 22.515625 -1.421875 17.65625 -0.515625 \nQ 12.796875 0.390625 7.625 2.203125 \nL 7.625 11.71875 \nQ 11.71875 9.328125 16.59375 8.109375 \nQ 21.484375 6.890625 26.8125 6.890625 \nQ 36.078125 6.890625 40.9375 10.546875 \nQ 45.796875 14.203125 45.796875 21.1875 \nQ 45.796875 27.640625 41.28125 31.265625 \nQ 36.765625 34.90625 28.71875 34.90625 \nL 20.21875 34.90625 \nL 20.21875 43.015625 \nL 29.109375 43.015625 \nQ 36.375 43.015625 40.234375 45.921875 \nQ 44.09375 48.828125 44.09375 54.296875 \nQ 44.09375 59.90625 40.109375 62.90625 \nQ 36.140625 65.921875 28.71875 65.921875 \nQ 24.65625 65.921875 20.015625 65.03125 \nQ 15.375 64.15625 9.8125 62.3125 \nL 9.8125 71.09375 \nQ 15.4375 72.65625 20.34375 73.4375 \nQ 25.25 74.21875 29.59375 74.21875 \nQ 40.828125 74.21875 47.359375 69.109375 \nQ 53.90625 64.015625 53.90625 55.328125 \nQ 53.90625 49.265625 50.4375 45.09375 \nQ 46.96875 40.921875 40.578125 39.3125 \nz\n\" id=\"DejaVuSans-51\"/>\n      </defs>\n      <g transform=\"translate(177.554381 239.238437)scale(0.1 -0.1)\">\n       <use xlink:href=\"#DejaVuSans-51\"/>\n       <use x=\"63.623047\" xlink:href=\"#DejaVuSans-48\"/>\n       <use x=\"127.246094\" xlink:href=\"#DejaVuSans-48\"/>\n       <use x=\"190.869141\" xlink:href=\"#DejaVuSans-48\"/>\n      </g>\n     </g>\n    </g>\n    <g id=\"xtick_5\">\n     <g id=\"line2d_5\">\n      <g>\n       <use style=\"stroke:#000000;stroke-width:0.8;\" x=\"238.598739\" xlink:href=\"#mb31d914a8b\" y=\"224.64\"/>\n      </g>\n     </g>\n     <g id=\"text_5\">\n      <!-- 4000 -->\n      <defs>\n       <path d=\"M 37.796875 64.3125 \nL 12.890625 25.390625 \nL 37.796875 25.390625 \nz\nM 35.203125 72.90625 \nL 47.609375 72.90625 \nL 47.609375 25.390625 \nL 58.015625 25.390625 \nL 58.015625 17.1875 \nL 47.609375 17.1875 \nL 47.609375 0 \nL 37.796875 0 \nL 37.796875 17.1875 \nL 4.890625 17.1875 \nL 4.890625 26.703125 \nz\n\" id=\"DejaVuSans-52\"/>\n      </defs>\n      <g transform=\"translate(225.873739 239.238437)scale(0.1 -0.1)\">\n       <use xlink:href=\"#DejaVuSans-52\"/>\n       <use x=\"63.623047\" xlink:href=\"#DejaVuSans-48\"/>\n       <use x=\"127.246094\" xlink:href=\"#DejaVuSans-48\"/>\n       <use x=\"190.869141\" xlink:href=\"#DejaVuSans-48\"/>\n      </g>\n     </g>\n    </g>\n    <g id=\"xtick_6\">\n     <g id=\"line2d_6\">\n      <g>\n       <use style=\"stroke:#000000;stroke-width:0.8;\" x=\"286.918097\" xlink:href=\"#mb31d914a8b\" y=\"224.64\"/>\n      </g>\n     </g>\n     <g id=\"text_6\">\n      <!-- 5000 -->\n      <defs>\n       <path d=\"M 10.796875 72.90625 \nL 49.515625 72.90625 \nL 49.515625 64.59375 \nL 19.828125 64.59375 \nL 19.828125 46.734375 \nQ 21.96875 47.46875 24.109375 47.828125 \nQ 26.265625 48.1875 28.421875 48.1875 \nQ 40.625 48.1875 47.75 41.5 \nQ 54.890625 34.8125 54.890625 23.390625 \nQ 54.890625 11.625 47.5625 5.09375 \nQ 40.234375 -1.421875 26.90625 -1.421875 \nQ 22.3125 -1.421875 17.546875 -0.640625 \nQ 12.796875 0.140625 7.71875 1.703125 \nL 7.71875 11.625 \nQ 12.109375 9.234375 16.796875 8.0625 \nQ 21.484375 6.890625 26.703125 6.890625 \nQ 35.15625 6.890625 40.078125 11.328125 \nQ 45.015625 15.765625 45.015625 23.390625 \nQ 45.015625 31 40.078125 35.4375 \nQ 35.15625 39.890625 26.703125 39.890625 \nQ 22.75 39.890625 18.8125 39.015625 \nQ 14.890625 38.140625 10.796875 36.28125 \nz\n\" id=\"DejaVuSans-53\"/>\n      </defs>\n      <g transform=\"translate(274.193097 239.238437)scale(0.1 -0.1)\">\n       <use xlink:href=\"#DejaVuSans-53\"/>\n       <use x=\"63.623047\" xlink:href=\"#DejaVuSans-48\"/>\n       <use x=\"127.246094\" xlink:href=\"#DejaVuSans-48\"/>\n       <use x=\"190.869141\" xlink:href=\"#DejaVuSans-48\"/>\n      </g>\n     </g>\n    </g>\n    <g id=\"xtick_7\">\n     <g id=\"line2d_7\">\n      <g>\n       <use style=\"stroke:#000000;stroke-width:0.8;\" x=\"335.237455\" xlink:href=\"#mb31d914a8b\" y=\"224.64\"/>\n      </g>\n     </g>\n     <g id=\"text_7\">\n      <!-- 6000 -->\n      <defs>\n       <path d=\"M 33.015625 40.375 \nQ 26.375 40.375 22.484375 35.828125 \nQ 18.609375 31.296875 18.609375 23.390625 \nQ 18.609375 15.53125 22.484375 10.953125 \nQ 26.375 6.390625 33.015625 6.390625 \nQ 39.65625 6.390625 43.53125 10.953125 \nQ 47.40625 15.53125 47.40625 23.390625 \nQ 47.40625 31.296875 43.53125 35.828125 \nQ 39.65625 40.375 33.015625 40.375 \nz\nM 52.59375 71.296875 \nL 52.59375 62.3125 \nQ 48.875 64.0625 45.09375 64.984375 \nQ 41.3125 65.921875 37.59375 65.921875 \nQ 27.828125 65.921875 22.671875 59.328125 \nQ 17.53125 52.734375 16.796875 39.40625 \nQ 19.671875 43.65625 24.015625 45.921875 \nQ 28.375 48.1875 33.59375 48.1875 \nQ 44.578125 48.1875 50.953125 41.515625 \nQ 57.328125 34.859375 57.328125 23.390625 \nQ 57.328125 12.15625 50.6875 5.359375 \nQ 44.046875 -1.421875 33.015625 -1.421875 \nQ 20.359375 -1.421875 13.671875 8.265625 \nQ 6.984375 17.96875 6.984375 36.375 \nQ 6.984375 53.65625 15.1875 63.9375 \nQ 23.390625 74.21875 37.203125 74.21875 \nQ 40.921875 74.21875 44.703125 73.484375 \nQ 48.484375 72.75 52.59375 71.296875 \nz\n\" id=\"DejaVuSans-54\"/>\n      </defs>\n      <g transform=\"translate(322.512455 239.238437)scale(0.1 -0.1)\">\n       <use xlink:href=\"#DejaVuSans-54\"/>\n       <use x=\"63.623047\" xlink:href=\"#DejaVuSans-48\"/>\n       <use x=\"127.246094\" xlink:href=\"#DejaVuSans-48\"/>\n       <use x=\"190.869141\" xlink:href=\"#DejaVuSans-48\"/>\n      </g>\n     </g>\n    </g>\n   </g>\n   <g id=\"matplotlib.axis_2\">\n    <g id=\"ytick_1\">\n     <g id=\"line2d_8\">\n      <defs>\n       <path d=\"M 0 0 \nL -3.5 0 \n\" id=\"m858ae7df33\" style=\"stroke:#000000;stroke-width:0.8;\"/>\n      </defs>\n      <g>\n       <use style=\"stroke:#000000;stroke-width:0.8;\" x=\"30.103125\" xlink:href=\"#m858ae7df33\" y=\"224.64\"/>\n      </g>\n     </g>\n     <g id=\"text_8\">\n      <!-- 0.0 -->\n      <defs>\n       <path d=\"M 10.6875 12.40625 \nL 21 12.40625 \nL 21 0 \nL 10.6875 0 \nz\n\" id=\"DejaVuSans-46\"/>\n      </defs>\n      <g transform=\"translate(7.2 228.439219)scale(0.1 -0.1)\">\n       <use xlink:href=\"#DejaVuSans-48\"/>\n       <use x=\"63.623047\" xlink:href=\"#DejaVuSans-46\"/>\n       <use x=\"95.410156\" xlink:href=\"#DejaVuSans-48\"/>\n      </g>\n     </g>\n    </g>\n    <g id=\"ytick_2\">\n     <g id=\"line2d_9\">\n      <g>\n       <use style=\"stroke:#000000;stroke-width:0.8;\" x=\"30.103125\" xlink:href=\"#m858ae7df33\" y=\"189.781446\"/>\n      </g>\n     </g>\n     <g id=\"text_9\">\n      <!-- 0.5 -->\n      <g transform=\"translate(7.2 193.580664)scale(0.1 -0.1)\">\n       <use xlink:href=\"#DejaVuSans-48\"/>\n       <use x=\"63.623047\" xlink:href=\"#DejaVuSans-46\"/>\n       <use x=\"95.410156\" xlink:href=\"#DejaVuSans-53\"/>\n      </g>\n     </g>\n    </g>\n    <g id=\"ytick_3\">\n     <g id=\"line2d_10\">\n      <g>\n       <use style=\"stroke:#000000;stroke-width:0.8;\" x=\"30.103125\" xlink:href=\"#m858ae7df33\" y=\"154.922891\"/>\n      </g>\n     </g>\n     <g id=\"text_10\">\n      <!-- 1.0 -->\n      <g transform=\"translate(7.2 158.72211)scale(0.1 -0.1)\">\n       <use xlink:href=\"#DejaVuSans-49\"/>\n       <use x=\"63.623047\" xlink:href=\"#DejaVuSans-46\"/>\n       <use x=\"95.410156\" xlink:href=\"#DejaVuSans-48\"/>\n      </g>\n     </g>\n    </g>\n    <g id=\"ytick_4\">\n     <g id=\"line2d_11\">\n      <g>\n       <use style=\"stroke:#000000;stroke-width:0.8;\" x=\"30.103125\" xlink:href=\"#m858ae7df33\" y=\"120.064337\"/>\n      </g>\n     </g>\n     <g id=\"text_11\">\n      <!-- 1.5 -->\n      <g transform=\"translate(7.2 123.863556)scale(0.1 -0.1)\">\n       <use xlink:href=\"#DejaVuSans-49\"/>\n       <use x=\"63.623047\" xlink:href=\"#DejaVuSans-46\"/>\n       <use x=\"95.410156\" xlink:href=\"#DejaVuSans-53\"/>\n      </g>\n     </g>\n    </g>\n    <g id=\"ytick_5\">\n     <g id=\"line2d_12\">\n      <g>\n       <use style=\"stroke:#000000;stroke-width:0.8;\" x=\"30.103125\" xlink:href=\"#m858ae7df33\" y=\"85.205782\"/>\n      </g>\n     </g>\n     <g id=\"text_12\">\n      <!-- 2.0 -->\n      <g transform=\"translate(7.2 89.005001)scale(0.1 -0.1)\">\n       <use xlink:href=\"#DejaVuSans-50\"/>\n       <use x=\"63.623047\" xlink:href=\"#DejaVuSans-46\"/>\n       <use x=\"95.410156\" xlink:href=\"#DejaVuSans-48\"/>\n      </g>\n     </g>\n    </g>\n    <g id=\"ytick_6\">\n     <g id=\"line2d_13\">\n      <g>\n       <use style=\"stroke:#000000;stroke-width:0.8;\" x=\"30.103125\" xlink:href=\"#m858ae7df33\" y=\"50.347228\"/>\n      </g>\n     </g>\n     <g id=\"text_13\">\n      <!-- 2.5 -->\n      <g transform=\"translate(7.2 54.146447)scale(0.1 -0.1)\">\n       <use xlink:href=\"#DejaVuSans-50\"/>\n       <use x=\"63.623047\" xlink:href=\"#DejaVuSans-46\"/>\n       <use x=\"95.410156\" xlink:href=\"#DejaVuSans-53\"/>\n      </g>\n     </g>\n    </g>\n    <g id=\"ytick_7\">\n     <g id=\"line2d_14\">\n      <g>\n       <use style=\"stroke:#000000;stroke-width:0.8;\" x=\"30.103125\" xlink:href=\"#m858ae7df33\" y=\"15.488674\"/>\n      </g>\n     </g>\n     <g id=\"text_14\">\n      <!-- 3.0 -->\n      <g transform=\"translate(7.2 19.287892)scale(0.1 -0.1)\">\n       <use xlink:href=\"#DejaVuSans-51\"/>\n       <use x=\"63.623047\" xlink:href=\"#DejaVuSans-46\"/>\n       <use x=\"95.410156\" xlink:href=\"#DejaVuSans-48\"/>\n      </g>\n     </g>\n    </g>\n   </g>\n   <g id=\"line2d_15\">\n    <path clip-path=\"url(#pe2a732b016)\" d=\"M 45.321307 186.258182 \nL 45.514584 191.169217 \nL 45.707862 195.341738 \nL 45.756181 190.750028 \nL 45.8045 195.202935 \nL 45.85282 193.924946 \nL 45.997778 198.834235 \nL 46.046097 183.29458 \nL 46.094417 196.680849 \nL 46.239375 174.546486 \nL 46.287694 195.081606 \nL 46.384333 193.97643 \nL 46.432652 194.623591 \nL 46.529291 188.628184 \nL 46.674249 200.901134 \nL 46.722568 188.072786 \nL 46.770888 197.350926 \nL 46.819207 193.142626 \nL 46.867526 206.159578 \nL 47.060804 139.328027 \nL 47.109123 198.479103 \nL 47.205762 194.979787 \nL 47.3024 206.29291 \nL 47.399039 153.81659 \nL 47.447359 185.386553 \nL 47.640636 201.721536 \nL 47.785594 187.849795 \nL 47.833913 187.725114 \nL 47.882233 188.124687 \nL 48.027191 197.816622 \nL 48.07551 195.220303 \nL 48.12383 195.012636 \nL 48.172149 190.076764 \nL 48.268788 203.446725 \nL 48.413746 190.393518 \nL 48.607023 203.768719 \nL 48.655343 200.081504 \nL 48.751981 199.236953 \nL 48.800301 209.386302 \nL 48.896939 193.077297 \nL 48.945259 207.445989 \nL 48.993578 198.114577 \nL 49.041897 200.65107 \nL 49.090217 192.021272 \nL 49.186855 193.051829 \nL 49.283494 206.304225 \nL 49.380133 178.084705 \nL 49.428452 200.287968 \nL 49.525091 196.398315 \nL 49.62173 203.880863 \nL 49.670049 199.979909 \nL 49.718368 199.018312 \nL 49.815007 202.148392 \nL 49.863326 196.612805 \nL 49.911646 176.399752 \nL 49.959965 203.756816 \nL 50.056604 200.537292 \nL 50.153243 199.988995 \nL 50.201562 204.670764 \nL 50.298201 198.08075 \nL 50.394839 200.671681 \nL 50.443159 205.090379 \nL 50.491478 202.141028 \nL 50.588117 199.04826 \nL 50.684756 198.254932 \nL 50.733075 207.869493 \nL 50.781394 206.659596 \nL 50.878033 208.640756 \nL 50.926352 205.589066 \nL 50.974672 206.37294 \nL 51.022991 207.690266 \nL 51.167949 204.814932 \nL 51.216269 205.26565 \nL 51.264588 209.562293 \nL 51.312907 168.545062 \nL 51.361227 204.961462 \nL 51.409546 202.942281 \nL 51.457865 206.509006 \nL 51.506185 205.951152 \nL 51.602823 201.637004 \nL 51.651143 193.42046 \nL 51.747781 209.990198 \nL 51.796101 208.806533 \nL 51.89274 208.557534 \nL 51.941059 207.22291 \nL 51.989378 192.64205 \nL 52.037698 210.935651 \nL 52.086017 211.389814 \nL 52.134336 197.041404 \nL 52.230975 199.184863 \nL 52.279294 200.123557 \nL 52.327614 167.993561 \nL 52.375933 199.111082 \nL 52.472572 200.493792 \nL 52.520891 191.358344 \nL 52.665849 203.633299 \nL 52.810807 195.939165 \nL 52.859127 206.295659 \nL 52.955765 204.019171 \nL 53.100723 184.79949 \nL 53.149043 127.804494 \nL 53.197362 201.607672 \nL 53.245682 200.977314 \nL 53.39064 209.694823 \nL 53.487278 133.101713 \nL 53.583917 198.645594 \nL 53.632236 196.276728 \nL 53.680556 202.575484 \nL 53.777194 202.230701 \nL 53.873833 196.141838 \nL 53.922153 196.709146 \nL 53.970472 196.488773 \nL 54.018791 201.757683 \nL 54.11543 201.226463 \nL 54.163749 201.413492 \nL 54.260388 196.134744 \nL 54.357027 210.068769 \nL 54.405346 203.560171 \nL 54.453665 200.370807 \nL 54.501985 175.279884 \nL 54.550304 206.972384 \nL 54.598624 211.693665 \nL 54.646943 209.7673 \nL 54.695262 209.412598 \nL 54.743582 204.716194 \nL 54.791901 210.330211 \nL 54.985178 199.375054 \nL 55.130137 208.73736 \nL 55.178456 205.178938 \nL 55.226775 208.139526 \nL 55.275095 207.878084 \nL 55.323414 208.319575 \nL 55.420053 207.070164 \nL 55.468372 201.039986 \nL 55.516691 207.747681 \nL 55.661649 209.094149 \nL 55.709969 208.677417 \nL 55.758288 208.053799 \nL 55.806608 213.945398 \nL 55.903246 212.490256 \nL 55.999885 176.745491 \nL 56.096524 206.590408 \nL 56.144843 205.28836 \nL 56.241482 213.53568 \nL 56.289801 203.332549 \nL 56.38644 204.196316 \nL 56.483079 208.730794 \nL 56.531398 208.060799 \nL 56.579717 208.737886 \nL 56.628037 202.328248 \nL 56.676356 208.302633 \nL 56.724675 209.704395 \nL 56.772995 194.536399 \nL 56.821314 205.840313 \nL 56.966272 210.362173 \nL 57.014591 207.140928 \nL 57.062911 212.510012 \nL 57.11123 211.24212 \nL 57.15955 209.715503 \nL 57.207869 211.588899 \nL 57.256188 211.815743 \nL 57.352827 208.168485 \nL 57.401146 191.548625 \nL 57.449466 211.469012 \nL 57.497785 211.246652 \nL 57.594424 215.267145 \nL 57.691062 206.457138 \nL 57.739382 194.019931 \nL 57.836021 214.224875 \nL 57.88434 213.553315 \nL 57.980979 212.665393 \nL 58.029298 214.528617 \nL 58.077617 206.849233 \nL 58.125937 214.763296 \nL 58.174256 213.858937 \nL 58.222575 201.254782 \nL 58.270895 209.15938 \nL 58.319214 209.344456 \nL 58.415853 196.009114 \nL 58.512492 199.333477 \nL 58.560811 210.149468 \nL 58.60913 196.315222 \nL 58.65745 203.580836 \nL 58.705769 183.407754 \nL 58.754088 206.480182 \nL 58.802408 200.826019 \nL 58.850727 206.100894 \nL 58.899046 208.075722 \nL 58.947366 208.015621 \nL 58.995685 206.132287 \nL 59.044005 208.884781 \nL 59.092324 205.324735 \nL 59.140643 204.039022 \nL 59.188963 189.585877 \nL 59.237282 115.067325 \nL 59.285601 190.015429 \nL 59.38224 211.909527 \nL 59.430559 207.582431 \nL 59.478879 204.932783 \nL 59.527198 211.213075 \nL 59.575517 119.585179 \nL 59.623837 209.169447 \nL 59.672156 205.302544 \nL 59.720476 209.273803 \nL 60.058711 198.054317 \nL 60.10703 209.005284 \nL 60.15535 205.671849 \nL 60.251988 199.012243 \nL 60.300308 202.089627 \nL 60.348627 202.238792 \nL 60.396947 216.161548 \nL 60.445266 214.519785 \nL 60.590224 167.697164 \nL 60.686863 212.451933 \nL 60.735182 211.069266 \nL 60.783501 211.367517 \nL 60.831821 208.43112 \nL 60.88014 213.997999 \nL 60.928459 210.847092 \nL 60.976779 192.119764 \nL 61.025098 200.003379 \nL 61.073418 199.395985 \nL 61.170056 210.315288 \nL 61.218376 191.898586 \nL 61.266695 212.695306 \nL 61.315014 211.592066 \nL 61.363334 213.771439 \nL 61.411653 207.824222 \nL 61.508292 208.42029 \nL 61.556611 204.347835 \nL 61.60493 207.357627 \nL 61.65325 210.911097 \nL 61.749889 210.397132 \nL 61.798208 211.364877 \nL 61.846527 210.087647 \nL 61.991485 212.895958 \nL 62.088124 176.028283 \nL 62.233082 212.069992 \nL 62.281401 204.773699 \nL 62.329721 217.032259 \nL 62.37804 208.691737 \nL 62.42636 209.522264 \nL 62.522998 213.932117 \nL 62.571318 212.961511 \nL 62.619637 213.200182 \nL 62.667956 212.397171 \nL 62.716276 207.288285 \nL 62.764595 211.910263 \nL 62.861234 212.80327 \nL 62.909553 212.312462 \nL 62.957873 207.844862 \nL 63.006192 208.960911 \nL 63.054511 214.075773 \nL 63.102831 209.638581 \nL 63.199469 213.113965 \nL 63.247789 210.270771 \nL 63.296108 213.10139 \nL 63.344427 213.214997 \nL 63.392747 211.792144 \nL 63.489385 214.687646 \nL 63.537705 213.385935 \nL 63.586024 213.613496 \nL 63.682663 215.803784 \nL 63.730982 215.274027 \nL 63.779302 213.386798 \nL 63.827621 181.741945 \nL 63.87594 216.023973 \nL 63.972579 216.079481 \nL 64.020898 214.692653 \nL 64.117537 215.559787 \nL 64.165856 204.521398 \nL 64.214176 215.958079 \nL 64.262495 217.49008 \nL 64.310815 203.951254 \nL 64.359134 210.639285 \nL 64.455773 204.815271 \nL 64.504092 184.252493 \nL 64.552411 208.042222 \nL 64.697369 193.37893 \nL 64.794008 191.812264 \nL 64.842327 206.408918 \nL 64.890647 195.865489 \nL 64.938966 207.28654 \nL 64.987286 207.200671 \nL 65.035605 204.041995 \nL 65.083924 205.423728 \nL 65.132244 211.727432 \nL 65.180563 194.95522 \nL 65.228882 201.238009 \nL 65.277202 201.084427 \nL 65.325521 125.576011 \nL 65.37384 193.304741 \nL 65.470479 213.265907 \nL 65.518798 193.62702 \nL 65.567118 212.226262 \nL 65.615437 211.509163 \nL 65.663757 115.56904 \nL 65.712076 204.417352 \nL 65.760395 211.1774 \nL 65.808715 205.764432 \nL 65.857034 205.708785 \nL 65.905353 207.289173 \nL 65.953673 216.614812 \nL 66.001992 207.008983 \nL 66.050311 206.759955 \nL 66.098631 209.768552 \nL 66.14695 204.42169 \nL 66.291908 213.971199 \nL 66.436866 204.287872 \nL 66.533505 214.075802 \nL 66.581824 212.230413 \nL 66.630144 206.643003 \nL 66.678463 177.351843 \nL 66.726782 212.277239 \nL 66.823421 216.632237 \nL 66.871741 214.580337 \nL 66.92006 212.185143 \nL 66.968379 201.990012 \nL 67.016699 214.671404 \nL 67.065018 207.89016 \nL 67.161657 208.977065 \nL 67.258295 215.181569 \nL 67.306615 204.199526 \nL 67.354934 212.689698 \nL 67.451573 215.074733 \nL 67.596531 205.94377 \nL 67.741489 214.639904 \nL 67.789808 213.634528 \nL 67.838128 214.987322 \nL 67.886447 213.625881 \nL 67.934766 212.299176 \nL 67.983086 212.995394 \nL 68.031405 215.424459 \nL 68.079724 214.062924 \nL 68.128044 174.046334 \nL 68.176363 180.411785 \nL 68.369641 212.734367 \nL 68.41796 217.411255 \nL 68.466279 201.575312 \nL 68.514599 210.954411 \nL 68.562918 208.617739 \nL 68.611237 210.88289 \nL 68.659557 215.050477 \nL 68.707876 208.780666 \nL 68.756195 216.047756 \nL 68.804515 211.999244 \nL 68.852834 216.546723 \nL 68.901154 216.577933 \nL 68.949473 215.664955 \nL 69.046112 193.738218 \nL 69.094431 212.88691 \nL 69.19107 210.009475 \nL 69.239389 216.432807 \nL 69.287708 215.729372 \nL 69.336028 211.999187 \nL 69.384347 215.236574 \nL 69.432666 216.340814 \nL 69.529305 211.255543 \nL 69.577625 207.438921 \nL 69.722583 218.003421 \nL 69.867541 215.455795 \nL 69.91586 182.306768 \nL 69.964179 217.278431 \nL 70.012499 217.009382 \nL 70.060818 217.499391 \nL 70.205776 213.74669 \nL 70.350734 218.772307 \nL 70.399054 200.791664 \nL 70.447373 215.028481 \nL 70.592331 182.639737 \nL 70.64065 202.007133 \nL 70.68897 206.033738 \nL 70.737289 205.065814 \nL 70.785609 194.195227 \nL 70.833928 204.416755 \nL 70.882247 203.752074 \nL 70.930567 210.363538 \nL 70.978886 182.666835 \nL 71.027205 211.858507 \nL 71.123844 200.769129 \nL 71.172163 201.531742 \nL 71.220483 212.075037 \nL 71.268802 196.540076 \nL 71.317121 197.550991 \nL 71.365441 208.440091 \nL 71.41376 132.021018 \nL 71.46208 212.453593 \nL 71.510399 209.151125 \nL 71.558718 215.191784 \nL 71.607038 200.51292 \nL 71.655357 215.44167 \nL 71.703676 207.341959 \nL 71.751996 131.727061 \nL 71.800315 207.796821 \nL 71.848634 211.667111 \nL 71.896954 206.300061 \nL 71.945273 210.43545 \nL 71.993592 209.235186 \nL 72.041912 217.608351 \nL 72.090231 192.67867 \nL 72.138551 199.178742 \nL 72.283509 214.514155 \nL 72.428467 201.593984 \nL 72.476786 205.237709 \nL 72.525105 206.070752 \nL 72.621744 214.2334 \nL 72.670063 210.512626 \nL 72.718383 212.78573 \nL 72.766702 160.819132 \nL 72.815022 207.389519 \nL 72.863341 215.711037 \nL 72.95998 214.092072 \nL 73.008299 213.667862 \nL 73.056618 206.523634 \nL 73.104938 212.544418 \nL 73.153257 215.554199 \nL 73.201576 214.516223 \nL 73.249896 209.307218 \nL 73.298215 211.010559 \nL 73.394854 211.657526 \nL 73.539812 215.975776 \nL 73.636451 203.412363 \nL 73.68477 204.07849 \nL 73.733089 142.298227 \nL 73.781409 212.830866 \nL 73.829728 215.422327 \nL 73.878047 214.770752 \nL 73.974686 210.14944 \nL 74.023006 210.534268 \nL 74.071325 213.422081 \nL 74.119644 209.871341 \nL 74.167964 213.212511 \nL 74.312922 192.415962 \nL 74.506199 216.359662 \nL 74.554518 209.35873 \nL 74.602838 213.767769 \nL 74.651157 213.023107 \nL 74.747796 216.971999 \nL 74.796115 205.24737 \nL 74.844435 217.249567 \nL 74.892754 211.282159 \nL 74.941073 214.159187 \nL 75.037712 216.071191 \nL 75.134351 210.70953 \nL 75.18267 212.741204 \nL 75.230989 214.587389 \nL 75.279309 208.82767 \nL 75.327628 217.049232 \nL 75.424267 214.887168 \nL 75.472586 217.657733 \nL 75.520906 217.324205 \nL 75.665864 207.8099 \nL 75.810822 218.388553 \nL 75.859141 219.209601 \nL 75.95578 213.526803 \nL 76.004099 189.479356 \nL 76.052419 215.744299 \nL 76.100738 218.999357 \nL 76.149057 218.659806 \nL 76.294015 215.291898 \nL 76.438973 219.608343 \nL 76.487293 194.493488 \nL 76.535612 217.587538 \nL 76.68057 199.054279 \nL 76.72889 209.836726 \nL 76.777209 209.343055 \nL 76.825528 192.940751 \nL 76.873848 194.930915 \nL 76.922167 207.848373 \nL 76.970486 197.503892 \nL 77.018806 202.069889 \nL 77.067125 194.225662 \nL 77.212083 212.500366 \nL 77.260402 199.111467 \nL 77.308722 212.652382 \nL 77.357041 201.540302 \nL 77.45368 209.828857 \nL 77.501999 121.662221 \nL 77.550319 207.943454 \nL 77.646957 213.042027 \nL 77.695277 195.450506 \nL 77.791915 200.596864 \nL 77.840235 90.994385 \nL 77.888554 208.628206 \nL 77.936874 214.255258 \nL 77.985193 208.769918 \nL 78.033512 197.486803 \nL 78.081832 205.920495 \nL 78.17847 214.451668 \nL 78.22679 208.180508 \nL 78.323428 208.914263 \nL 78.371748 212.675997 \nL 78.516706 200.308352 \nL 78.709983 215.658802 \nL 78.854941 173.993984 \nL 78.999899 218.778595 \nL 79.096538 209.746484 \nL 79.144857 214.533672 \nL 79.193177 218.273637 \nL 79.241496 199.088874 \nL 79.289816 214.850173 \nL 79.338135 212.988756 \nL 79.386454 214.501859 \nL 79.434774 215.063098 \nL 79.483093 214.30845 \nL 79.531412 210.60082 \nL 79.628051 218.478346 \nL 79.821328 208.670562 \nL 79.917967 217.926052 \nL 80.062925 204.518901 \nL 80.159564 219.865691 \nL 80.207883 214.373585 \nL 80.256203 215.786127 \nL 80.401161 190.685089 \nL 80.594438 214.470639 \nL 80.739396 208.744292 \nL 80.836035 216.557244 \nL 80.884354 209.856409 \nL 80.932674 217.877751 \nL 80.980993 211.999931 \nL 81.029312 212.354945 \nL 81.077632 217.8341 \nL 81.125951 216.345337 \nL 81.17427 210.471093 \nL 81.22259 213.963456 \nL 81.270909 215.486723 \nL 81.319229 211.319204 \nL 81.367548 212.323521 \nL 81.464187 219.014113 \nL 81.512506 215.255203 \nL 81.560825 217.986027 \nL 81.609145 218.752559 \nL 81.657464 217.429769 \nL 81.705783 207.692687 \nL 81.754103 215.788828 \nL 81.899061 219.781012 \nL 81.94738 220.241312 \nL 81.9957 219.642385 \nL 82.044019 218.525987 \nL 82.092338 192.080152 \nL 82.140658 218.819031 \nL 82.237296 219.827716 \nL 82.333935 219.878406 \nL 82.382254 215.927745 \nL 82.527213 220.212826 \nL 82.575532 203.104817 \nL 82.623851 217.383407 \nL 82.72049 202.688486 \nL 82.768809 188.609904 \nL 82.817129 208.166318 \nL 82.913767 203.908187 \nL 82.962087 192.890335 \nL 83.010406 207.000982 \nL 83.058725 194.172545 \nL 83.155364 192.530403 \nL 83.203684 210.221219 \nL 83.300322 213.426109 \nL 83.44528 203.252324 \nL 83.541919 212.967638 \nL 83.590238 150.030016 \nL 83.638558 210.701835 \nL 83.735196 215.366234 \nL 83.783516 206.223408 \nL 83.831835 215.959592 \nL 83.880155 209.805735 \nL 83.928474 77.176895 \nL 83.976793 212.60152 \nL 84.025113 213.755062 \nL 84.170071 208.277292 \nL 84.21839 217.653826 \nL 84.315029 197.907286 \nL 84.459987 216.067774 \nL 84.556626 208.000604 \nL 84.604945 209.726816 \nL 84.653264 217.267262 \nL 84.701584 207.242031 \nL 84.749903 218.519927 \nL 84.846542 215.021583 \nL 84.894861 213.813883 \nL 84.94318 204.541234 \nL 84.9915 205.325416 \nL 85.088138 218.052264 \nL 85.136458 217.473107 \nL 85.233097 205.989513 \nL 85.281416 217.607019 \nL 85.329735 206.044492 \nL 85.378055 207.464253 \nL 85.523013 218.513106 \nL 85.571332 205.534999 \nL 85.619651 214.903007 \nL 85.71629 219.464903 \nL 85.76461 212.436805 \nL 85.812929 218.666214 \nL 85.861248 216.528726 \nL 85.909568 203.87378 \nL 85.957887 216.289154 \nL 86.006206 219.164811 \nL 86.102845 218.344976 \nL 86.151164 208.895963 \nL 86.199484 217.893706 \nL 86.247803 218.124495 \nL 86.296122 217.718826 \nL 86.344442 217.953489 \nL 86.392761 181.492771 \nL 86.441081 205.048203 \nL 86.4894 193.42026 \nL 86.586039 212.285517 \nL 86.634358 207.615421 \nL 86.682677 218.383291 \nL 86.730997 201.850802 \nL 86.779316 212.802402 \nL 86.827635 212.164474 \nL 86.924274 218.084295 \nL 86.972593 214.943435 \nL 87.020913 219.238501 \nL 87.069232 215.593083 \nL 87.117552 216.015368 \nL 87.165871 219.603429 \nL 87.21419 218.922538 \nL 87.359148 214.036649 \nL 87.455787 213.528886 \nL 87.504106 219.244606 \nL 87.600745 201.325953 \nL 87.697384 219.603482 \nL 87.794023 207.894944 \nL 87.842342 219.495578 \nL 87.938981 218.890396 \nL 88.035619 220.402974 \nL 88.132258 218.661996 \nL 88.180577 182.428748 \nL 88.228897 216.925148 \nL 88.277216 220.380049 \nL 88.325535 219.522344 \nL 88.373855 215.505849 \nL 88.422174 218.706043 \nL 88.567132 220.659299 \nL 88.615452 220.910963 \nL 88.663771 201.087631 \nL 88.71209 218.106208 \nL 88.808729 196.490194 \nL 88.857048 184.654688 \nL 89.002006 206.321437 \nL 89.050326 201.591387 \nL 89.098645 208.199702 \nL 89.146965 201.665849 \nL 89.195284 202.316827 \nL 89.243603 190.477912 \nL 89.291923 212.277378 \nL 89.388561 210.350396 \nL 89.436881 200.6201 \nL 89.4852 207.431953 \nL 89.533519 205.074898 \nL 89.581839 205.339295 \nL 89.630158 210.613934 \nL 89.678478 143.588607 \nL 89.726797 214.426576 \nL 89.775116 211.459405 \nL 89.823436 215.969939 \nL 89.871755 204.86097 \nL 89.920074 214.034937 \nL 89.968394 209.17597 \nL 90.016713 116.674102 \nL 90.065032 213.16475 \nL 90.20999 201.607454 \nL 90.306629 220.123668 \nL 90.354949 217.938812 \nL 90.403268 211.688077 \nL 90.499907 212.195426 \nL 90.548226 219.118434 \nL 90.693184 203.393138 \nL 90.741503 216.916352 \nL 90.789823 201.737015 \nL 90.838142 216.804291 \nL 90.934781 209.349294 \nL 90.9831 212.239724 \nL 91.03142 196.620516 \nL 91.079739 199.052704 \nL 91.128058 220.268639 \nL 91.224697 215.676514 \nL 91.273016 208.369928 \nL 91.321336 216.826393 \nL 91.369655 219.264429 \nL 91.417974 218.200746 \nL 91.466294 212.139274 \nL 91.562932 212.251315 \nL 91.659571 215.143916 \nL 91.707891 218.763167 \nL 91.75621 216.587451 \nL 91.804529 217.601532 \nL 91.852849 216.668494 \nL 91.901168 217.155279 \nL 91.997807 184.213976 \nL 92.094445 219.432687 \nL 92.142765 219.108735 \nL 92.191084 218.728386 \nL 92.239403 215.784907 \nL 92.287723 217.997056 \nL 92.336042 219.26444 \nL 92.432681 215.09732 \nL 92.577639 191.463234 \nL 92.674278 219.740904 \nL 92.722597 196.629703 \nL 92.770916 218.853753 \nL 92.819236 207.1312 \nL 92.867555 213.268267 \nL 93.012513 219.085768 \nL 93.060833 211.316103 \nL 93.109152 218.588784 \nL 93.157471 213.706794 \nL 93.205791 217.208551 \nL 93.25411 218.721287 \nL 93.399068 213.36569 \nL 93.447387 217.40766 \nL 93.544026 200.822552 \nL 93.592346 219.716974 \nL 93.640665 215.402999 \nL 93.688984 207.127427 \nL 93.785623 219.500691 \nL 93.833942 218.687714 \nL 93.882262 212.000894 \nL 93.930581 217.467608 \nL 93.9789 219.914351 \nL 94.02722 218.011827 \nL 94.075539 218.1039 \nL 94.123858 221.16013 \nL 94.220497 220.86058 \nL 94.268817 212.350314 \nL 94.317136 220.782918 \nL 94.365455 220.731231 \nL 94.413775 220.97127 \nL 94.510413 220.050858 \nL 94.558733 220.344595 \nL 94.607052 209.676744 \nL 94.655371 221.202272 \nL 94.703691 221.229126 \nL 94.75201 203.395444 \nL 94.800329 218.244012 \nL 94.848649 216.239692 \nL 94.945288 194.175892 \nL 95.041926 197.994713 \nL 95.090246 210.752719 \nL 95.138565 198.238911 \nL 95.283523 215.946866 \nL 95.331842 190.148232 \nL 95.380162 207.340369 \nL 95.4768 214.112696 \nL 95.52512 203.000765 \nL 95.621759 206.127788 \nL 95.670078 208.682862 \nL 95.718397 207.312141 \nL 95.766717 123.010635 \nL 95.815036 213.669465 \nL 95.863355 214.553723 \nL 95.911675 212.229441 \nL 95.959994 180.496187 \nL 96.008313 218.104182 \nL 96.056633 212.796255 \nL 96.104952 191.662065 \nL 96.153271 213.454057 \nL 96.201591 213.97417 \nL 96.29823 206.921729 \nL 96.346549 211.931171 \nL 96.394868 219.604358 \nL 96.443188 218.415107 \nL 96.491507 212.921619 \nL 96.539826 217.871081 \nL 96.588146 216.270677 \nL 96.636465 219.33964 \nL 96.684784 205.939714 \nL 96.781423 207.800129 \nL 96.878062 206.43897 \nL 96.926381 220.353729 \nL 97.02302 215.624002 \nL 97.071339 207.460127 \nL 97.119659 159.123392 \nL 97.167978 218.218319 \nL 97.264617 220.228544 \nL 97.409575 210.163746 \nL 97.457894 219.516731 \nL 97.506214 215.85106 \nL 97.651172 211.213275 \nL 97.699491 220.40634 \nL 97.74781 216.40205 \nL 97.844449 218.752343 \nL 97.892768 220.391181 \nL 97.941088 214.003234 \nL 97.989407 219.14789 \nL 98.037726 217.235083 \nL 98.086046 189.406793 \nL 98.134365 210.408643 \nL 98.182685 220.500419 \nL 98.279323 220.312042 \nL 98.327643 214.514664 \nL 98.375962 216.819305 \nL 98.424281 220.97061 \nL 98.569239 186.438251 \nL 98.665878 195.050696 \nL 98.859156 219.487345 \nL 98.907475 208.21921 \nL 98.955794 214.699619 \nL 99.004114 211.729121 \nL 99.052433 214.992511 \nL 99.100752 218.327877 \nL 99.149072 209.542385 \nL 99.197391 219.674147 \nL 99.24571 215.032801 \nL 99.29403 219.158474 \nL 99.342349 220.071549 \nL 99.390668 218.198816 \nL 99.438988 210.986052 \nL 99.487307 211.505507 \nL 99.535627 216.210361 \nL 99.583946 212.230333 \nL 99.632265 213.119832 \nL 99.680585 219.93802 \nL 99.777223 219.68326 \nL 99.825543 218.733527 \nL 99.873862 220.017283 \nL 100.01882 211.44062 \nL 100.163778 221.296019 \nL 100.308736 216.159173 \nL 100.357056 175.030057 \nL 100.405375 220.622524 \nL 100.502014 221.336068 \nL 100.550333 220.874837 \nL 100.598652 221.037218 \nL 100.695291 219.751954 \nL 100.743611 220.220958 \nL 100.79193 221.718947 \nL 100.840249 200.898445 \nL 100.888569 215.826296 \nL 101.033527 190.220175 \nL 101.081846 198.63722 \nL 101.130165 210.595532 \nL 101.226804 207.486417 \nL 101.275123 209.270177 \nL 101.323443 192.55415 \nL 101.371762 211.106708 \nL 101.420082 199.963486 \nL 101.468401 212.525002 \nL 101.56504 216.93239 \nL 101.709998 206.163317 \nL 101.758317 215.43866 \nL 101.806636 202.35148 \nL 101.854956 131.312154 \nL 101.903275 199.473815 \nL 101.951594 219.701313 \nL 101.999914 219.683202 \nL 102.048233 203.747183 \nL 102.096553 218.341125 \nL 102.144872 217.333363 \nL 102.193191 160.117728 \nL 102.241511 214.823486 \nL 102.386469 202.712288 \nL 102.434788 209.498418 \nL 102.483107 206.660338 \nL 102.531427 205.691539 \nL 102.579746 198.025403 \nL 102.676385 215.667579 \nL 102.724704 210.270085 \nL 102.773024 216.024353 \nL 102.869662 202.027854 \nL 103.01462 218.624464 \nL 103.159578 206.962831 \nL 103.207898 181.662106 \nL 103.256217 205.412224 \nL 103.304536 217.295152 \nL 103.352856 158.798414 \nL 103.401175 209.725142 \nL 103.546133 217.871925 \nL 103.78773 198.917974 \nL 104.077646 214.419984 \nL 104.125966 204.521853 \nL 104.174285 206.781333 \nL 104.270924 220.150513 \nL 104.319243 219.340919 \nL 104.367562 219.451962 \nL 104.415882 208.269575 \nL 104.464201 218.855061 \nL 104.56084 208.02823 \nL 104.609159 219.855772 \nL 104.657479 99.209744 \nL 104.705798 203.550607 \nL 104.850756 219.800748 \nL 104.899075 212.596135 \nL 104.947395 219.858734 \nL 104.995714 212.648274 \nL 105.044033 210.843797 \nL 105.188991 218.174154 \nL 105.237311 216.03033 \nL 105.28563 219.39706 \nL 105.33395 215.110375 \nL 105.478908 219.900495 \nL 105.623866 215.126309 \nL 105.768824 220.612756 \nL 105.817143 219.522805 \nL 105.865462 217.095887 \nL 105.913782 219.226521 \nL 105.962101 220.730562 \nL 106.010421 220.473819 \nL 106.05874 208.404921 \nL 106.107059 212.977288 \nL 106.252017 221.081775 \nL 106.300337 221.562457 \nL 106.396975 218.924306 \nL 106.445295 172.422271 \nL 106.493614 218.695131 \nL 106.541933 221.307113 \nL 106.590253 220.426251 \nL 106.638572 217.981563 \nL 106.686892 219.328997 \nL 106.735211 221.513914 \nL 106.78353 218.689564 \nL 106.880169 221.876413 \nL 106.928488 193.42779 \nL 106.976808 221.095112 \nL 107.073446 207.198279 \nL 107.121766 168.110895 \nL 107.170085 201.11497 \nL 107.266724 211.00352 \nL 107.411682 200.498945 \nL 107.604959 218.104729 \nL 107.749917 208.11087 \nL 107.846556 214.539717 \nL 107.894875 211.203269 \nL 107.943195 165.384653 \nL 107.991514 211.365734 \nL 108.039834 217.974102 \nL 108.088153 215.101168 \nL 108.136472 184.06295 \nL 108.184792 216.535017 \nL 108.233111 215.253292 \nL 108.28143 116.259952 \nL 108.32975 215.266244 \nL 108.378069 218.715723 \nL 108.523027 206.723937 \nL 108.619666 220.497463 \nL 108.667985 212.935356 \nL 108.716305 219.689457 \nL 108.764624 218.395414 \nL 108.812943 221.206252 \nL 108.957901 208.685918 \nL 109.006221 220.262987 \nL 109.05454 203.203161 \nL 109.102859 220.267759 \nL 109.199498 212.600152 \nL 109.247818 218.402439 \nL 109.296137 196.049929 \nL 109.344456 217.169089 \nL 109.392776 221.302518 \nL 109.441095 220.379516 \nL 109.489414 218.53494 \nL 109.537734 211.038062 \nL 109.586053 216.547148 \nL 109.634372 220.593335 \nL 109.682692 211.65771 \nL 109.731011 214.8187 \nL 109.77933 219.491109 \nL 109.82765 213.831127 \nL 109.875969 219.452705 \nL 109.924289 211.644271 \nL 109.972608 220.272941 \nL 110.069247 220.670381 \nL 110.117566 214.418132 \nL 110.165885 205.03252 \nL 110.214205 214.616405 \nL 110.262524 212.869742 \nL 110.359163 221.192796 \nL 110.407482 220.695542 \nL 110.504121 213.901201 \nL 110.55244 217.436653 \nL 110.60076 221.161854 \nL 110.745718 202.409428 \nL 110.794037 203.536936 \nL 110.938995 221.049443 \nL 110.987314 185.203633 \nL 111.035634 220.823234 \nL 111.083953 216.157673 \nL 111.132272 217.884589 \nL 111.180592 219.030201 \nL 111.228911 216.431199 \nL 111.277231 220.470389 \nL 111.32555 216.351509 \nL 111.373869 220.0309 \nL 111.422189 217.284898 \nL 111.470508 220.913039 \nL 111.518827 218.267027 \nL 111.567147 219.105794 \nL 111.615466 212.656326 \nL 111.663785 213.047821 \nL 111.712105 219.718784 \nL 111.760424 212.942198 \nL 111.808743 217.955836 \nL 111.857063 220.889078 \nL 111.905382 220.539299 \nL 111.953702 218.98207 \nL 112.002021 219.690677 \nL 112.05034 221.43152 \nL 112.146979 212.617067 \nL 112.291937 221.600091 \nL 112.340256 221.954651 \nL 112.388576 221.602004 \nL 112.485215 219.2959 \nL 112.533534 173.799304 \nL 112.581853 217.4645 \nL 112.630173 220.686772 \nL 112.678492 220.229737 \nL 112.775131 220.537261 \nL 112.82345 213.758027 \nL 112.920089 221.404081 \nL 113.016727 204.339111 \nL 113.065047 220.138967 \nL 113.113366 215.41672 \nL 113.161686 210.724543 \nL 113.210005 193.619779 \nL 113.258324 194.906418 \nL 113.354963 208.547384 \nL 113.403282 187.034115 \nL 113.451602 204.244663 \nL 113.499921 196.975949 \nL 113.693198 219.291796 \nL 113.741518 217.626384 \nL 113.886476 210.537182 \nL 113.934795 214.286426 \nL 113.983115 213.537646 \nL 114.031434 163.573694 \nL 114.079753 214.816848 \nL 114.176392 219.807154 \nL 114.224711 200.440613 \nL 114.273031 207.327904 \nL 114.32135 214.255193 \nL 114.369669 175.413108 \nL 114.417989 214.151064 \nL 114.466308 219.18656 \nL 114.514628 214.320007 \nL 114.611266 206.530336 \nL 114.659586 220.948087 \nL 114.707905 210.111716 \nL 114.852863 219.130431 \nL 114.901182 217.057981 \nL 114.949502 219.903322 \nL 115.04614 211.140573 \nL 115.09446 220.492702 \nL 115.142779 204.12848 \nL 115.191099 220.587633 \nL 115.239418 220.643282 \nL 115.384376 200.07329 \nL 115.432695 204.829121 \nL 115.529334 221.302594 \nL 115.577653 219.137882 \nL 115.625973 212.782121 \nL 115.674292 220.278023 \nL 115.770931 222.039333 \nL 115.915889 211.977566 \nL 116.109166 218.692251 \nL 116.157486 221.168801 \nL 116.254124 214.132756 \nL 116.302444 216.858585 \nL 116.350763 206.300552 \nL 116.399083 212.241068 \nL 116.447402 221.461618 \nL 116.544041 220.832164 \nL 116.59236 209.303123 \nL 116.640679 220.913137 \nL 116.688999 222.077202 \nL 116.785637 217.601084 \nL 116.833957 202.059562 \nL 116.930595 205.002917 \nL 117.027234 220.707965 \nL 117.075554 200.743278 \nL 117.123873 220.79847 \nL 117.172192 211.124453 \nL 117.220512 218.791892 \nL 117.31715 217.290547 \nL 117.36547 221.595672 \nL 117.413789 214.17344 \nL 117.462108 221.288057 \nL 117.510428 217.573202 \nL 117.607066 217.989838 \nL 117.655386 221.345415 \nL 117.703705 216.022109 \nL 117.752025 216.74165 \nL 117.800344 218.084363 \nL 117.848663 210.437504 \nL 117.896983 217.62753 \nL 117.945302 221.091558 \nL 117.993621 219.980104 \nL 118.041941 210.933004 \nL 118.09026 219.727247 \nL 118.138579 221.707481 \nL 118.186899 214.151188 \nL 118.235218 218.157811 \nL 118.283537 218.647735 \nL 118.428496 222.082617 \nL 118.476815 222.282826 \nL 118.525134 221.952046 \nL 118.573454 219.874191 \nL 118.621773 174.64217 \nL 118.670092 220.645604 \nL 118.766731 222.021803 \nL 118.86337 222.105634 \nL 118.960008 211.396951 \nL 119.056647 222.481974 \nL 119.104967 199.984255 \nL 119.201605 206.260104 \nL 119.249925 210.061912 \nL 119.298244 201.928852 \nL 119.346563 210.131482 \nL 119.394883 208.648562 \nL 119.443202 212.105752 \nL 119.491521 188.363178 \nL 119.539841 212.572652 \nL 119.58816 198.958483 \nL 119.684799 199.382704 \nL 119.781438 213.223407 \nL 119.829757 210.434644 \nL 119.878076 193.728675 \nL 119.926396 213.569735 \nL 119.974715 202.063857 \nL 120.023034 202.714133 \nL 120.071354 214.859484 \nL 120.119673 184.049221 \nL 120.167992 215.974143 \nL 120.216312 215.509317 \nL 120.264631 218.332723 \nL 120.312951 202.63481 \nL 120.36127 220.736452 \nL 120.409589 213.492677 \nL 120.457909 186.863928 \nL 120.506228 215.099241 \nL 120.554547 218.509702 \nL 120.651186 205.928457 \nL 120.699505 210.591406 \nL 120.747825 218.593865 \nL 120.844463 216.571005 \nL 120.892783 209.838865 \nL 120.989422 221.077275 \nL 121.13438 194.481936 \nL 121.182699 221.80952 \nL 121.279338 216.262932 \nL 121.327657 219.079636 \nL 121.375976 216.126162 \nL 121.472615 207.438895 \nL 121.520934 212.38229 \nL 121.569254 219.920526 \nL 121.617573 219.70507 \nL 121.762531 211.280177 \nL 121.85917 220.064948 \nL 121.955809 203.068285 \nL 122.004128 219.348712 \nL 122.100767 217.802911 \nL 122.149086 215.608073 \nL 122.197405 219.527924 \nL 122.245725 217.216656 \nL 122.294044 215.208622 \nL 122.342364 206.242498 \nL 122.390683 215.343017 \nL 122.439002 213.812019 \nL 122.58396 220.874434 \nL 122.63228 220.898222 \nL 122.680599 206.990514 \nL 122.728918 221.601587 \nL 122.777238 222.077239 \nL 122.873876 216.472264 \nL 122.922196 127.465433 \nL 122.970515 204.831907 \nL 123.115473 218.907916 \nL 123.163793 208.447022 \nL 123.212112 219.917853 \nL 123.308751 212.755014 \nL 123.35707 215.227835 \nL 123.405389 213.379353 \nL 123.550348 219.198108 \nL 123.598667 216.981685 \nL 123.646986 217.580569 \nL 123.695306 220.191097 \nL 123.743625 219.8991 \nL 123.840264 214.395797 \nL 123.888583 218.872326 \nL 123.936902 211.099579 \nL 123.985222 216.393185 \nL 124.08186 220.804645 \nL 124.13018 211.545081 \nL 124.178499 219.754552 \nL 124.226819 221.228451 \nL 124.371777 215.916847 \nL 124.516735 222.03048 \nL 124.565054 222.420318 \nL 124.661693 220.126674 \nL 124.710012 190.153923 \nL 124.758331 220.083369 \nL 124.806651 222.243962 \nL 124.85497 221.462922 \nL 125.048248 212.661667 \nL 125.096567 222.539758 \nL 125.144886 222.517665 \nL 125.193206 208.384444 \nL 125.241525 217.424688 \nL 125.338164 210.648025 \nL 125.386483 192.290172 \nL 125.434802 211.918314 \nL 125.483122 199.970085 \nL 125.531441 213.178085 \nL 125.62808 209.531486 \nL 125.724719 210.012227 \nL 125.773038 202.301516 \nL 125.917996 217.055988 \nL 125.966315 202.628919 \nL 126.014635 209.272456 \nL 126.062954 207.360415 \nL 126.111273 212.744427 \nL 126.159593 207.686562 \nL 126.207912 179.436357 \nL 126.256232 201.636383 \nL 126.35287 218.702068 \nL 126.40119 203.94484 \nL 126.449509 219.421348 \nL 126.497828 214.705822 \nL 126.546148 170.922398 \nL 126.594467 214.413364 \nL 126.642786 219.868958 \nL 126.691106 214.9734 \nL 126.787744 205.581962 \nL 126.836064 222.19691 \nL 126.884383 212.30126 \nL 126.932703 215.273272 \nL 126.981022 211.89737 \nL 127.029341 203.180962 \nL 127.077661 222.059622 \nL 127.12598 216.909732 \nL 127.222619 210.373501 \nL 127.270938 221.660375 \nL 127.319257 202.483175 \nL 127.367577 220.861033 \nL 127.560854 203.876194 \nL 127.609174 205.957111 \nL 127.657493 221.325489 \nL 127.705812 220.965064 \nL 127.85077 213.511394 \nL 127.947409 221.825547 \nL 127.995728 212.967826 \nL 128.044048 215.564698 \nL 128.092367 219.382662 \nL 128.140687 212.817479 \nL 128.237325 213.27924 \nL 128.333964 221.076195 \nL 128.430603 221.190054 \nL 128.478922 206.525533 \nL 128.62388 221.810096 \nL 128.672199 220.374705 \nL 128.720519 221.314997 \nL 128.768838 209.109788 \nL 128.817158 221.364563 \nL 128.913796 211.428848 \nL 128.962116 218.641263 \nL 129.010435 192.052026 \nL 129.058754 208.235624 \nL 129.107074 207.874738 \nL 129.203712 221.410929 \nL 129.252032 207.758427 \nL 129.300351 220.942368 \nL 129.34867 213.653544 \nL 129.39699 215.545982 \nL 129.541948 221.232402 \nL 129.686906 216.514369 \nL 129.831864 221.568785 \nL 129.928503 213.257426 \nL 129.976822 218.993599 \nL 130.025141 212.301424 \nL 130.073461 209.314305 \nL 130.12178 221.028571 \nL 130.1701 218.710539 \nL 130.218419 217.326281 \nL 130.315058 222.301053 \nL 130.363377 218.945784 \nL 130.460016 216.312488 \nL 130.604974 222.256076 \nL 130.653293 222.121294 \nL 130.701612 222.158174 \nL 130.749932 221.27532 \nL 130.798251 196.827429 \nL 130.846571 220.744118 \nL 130.89489 222.56096 \nL 130.943209 222.40313 \nL 130.991529 219.52453 \nL 131.039848 222.324642 \nL 131.088167 222.33615 \nL 131.136487 211.584067 \nL 131.184806 222.74768 \nL 131.281445 204.961865 \nL 131.329764 220.120192 \nL 131.378084 217.15461 \nL 131.426403 206.073746 \nL 131.474722 207.587479 \nL 131.523042 214.367585 \nL 131.571361 211.146322 \nL 131.61968 209.134126 \nL 131.668 210.762874 \nL 131.716319 215.518227 \nL 131.861277 202.818635 \nL 132.006235 220.412989 \nL 132.054555 198.267723 \nL 132.151193 198.315843 \nL 132.247832 217.072396 \nL 132.296151 186.081201 \nL 132.344471 217.906347 \nL 132.39279 214.506905 \nL 132.441109 220.436232 \nL 132.489429 212.961244 \nL 132.537748 219.971414 \nL 132.586067 216.541852 \nL 132.634387 202.275566 \nL 132.682706 215.270315 \nL 132.731026 210.933871 \nL 132.779345 215.347189 \nL 132.827664 216.98335 \nL 132.875984 206.914571 \nL 132.924303 222.498218 \nL 132.972622 200.703967 \nL 133.020942 201.21083 \nL 133.069261 222.033994 \nL 133.1659 221.287278 \nL 133.310858 211.081798 \nL 133.359177 222.203876 \nL 133.407497 206.50589 \nL 133.455816 221.19963 \nL 133.552455 214.087753 \nL 133.600774 216.204008 \nL 133.649093 204.057221 \nL 133.697413 216.371954 \nL 133.745732 220.823029 \nL 133.842371 220.501269 \nL 133.89069 211.357732 \nL 133.939009 219.880988 \nL 133.987329 221.929769 \nL 134.083968 221.64867 \nL 134.132287 222.429348 \nL 134.228926 215.793936 \nL 134.277245 222.159523 \nL 134.373884 221.629822 \nL 134.422203 222.680828 \nL 134.470522 219.384993 \nL 134.518842 151.308502 \nL 134.567161 213.762553 \nL 134.61548 221.832278 \nL 134.712119 221.258166 \nL 134.905397 213.440914 \nL 134.953716 221.253559 \nL 135.098674 207.528979 \nL 135.146993 208.106096 \nL 135.291952 221.282086 \nL 135.43691 210.559833 \nL 135.581868 221.767215 \nL 135.630187 221.988469 \nL 135.678506 214.694675 \nL 135.726826 222.239377 \nL 135.775145 217.427703 \nL 135.823464 221.021139 \nL 135.871784 220.582071 \nL 135.920103 221.04049 \nL 135.968423 212.853659 \nL 136.016742 216.224351 \nL 136.065061 218.916622 \nL 136.113381 210.168181 \nL 136.1617 217.531565 \nL 136.210019 221.869375 \nL 136.258339 221.194764 \nL 136.306658 212.006656 \nL 136.354977 222.11694 \nL 136.403297 221.930164 \nL 136.451616 220.744226 \nL 136.499935 212.717195 \nL 136.548255 220.621355 \nL 136.644894 222.513611 \nL 136.693213 222.217588 \nL 136.741532 222.48308 \nL 136.789852 219.525337 \nL 136.838171 219.990482 \nL 136.88649 190.258665 \nL 136.93481 218.939582 \nL 136.983129 222.860725 \nL 137.031448 222.096901 \nL 137.079768 219.134452 \nL 137.128087 222.586672 \nL 137.176406 219.697735 \nL 137.321365 222.982652 \nL 137.369684 203.238405 \nL 137.418003 222.164564 \nL 137.562961 190.133617 \nL 137.611281 211.336674 \nL 137.6596 209.448906 \nL 137.707919 199.265634 \nL 137.756239 208.946373 \nL 137.804558 209.890189 \nL 137.949516 196.315582 \nL 138.046155 221.281763 \nL 138.094474 219.683121 \nL 138.239432 204.555421 \nL 138.287752 219.976688 \nL 138.336071 206.907409 \nL 138.38439 178.462856 \nL 138.43271 214.107046 \nL 138.529348 220.009672 \nL 138.577668 166.8215 \nL 138.625987 219.594666 \nL 138.674307 219.319367 \nL 138.722626 153.808595 \nL 138.770945 214.901049 \nL 138.819265 216.936372 \nL 138.964223 211.505926 \nL 139.012542 220.256389 \nL 139.060861 198.281955 \nL 139.109181 211.949221 \nL 139.1575 206.370808 \nL 139.20582 217.082931 \nL 139.254139 216.643881 \nL 139.302458 209.731114 \nL 139.350778 212.085038 \nL 139.399097 212.019917 \nL 139.447416 222.419596 \nL 139.495736 207.382293 \nL 139.544055 216.949263 \nL 139.592374 220.085883 \nL 139.737332 186.786366 \nL 139.833971 221.700983 \nL 139.882291 217.9885 \nL 139.978929 216.084015 \nL 140.027249 213.533547 \nL 140.075568 222.235756 \nL 140.123887 216.199262 \nL 140.172207 193.913343 \nL 140.220526 216.26479 \nL 140.268845 210.230052 \nL 140.317165 214.126117 \nL 140.365484 214.717739 \nL 140.462123 219.932531 \nL 140.510442 219.713246 \nL 140.558762 217.725309 \nL 140.607081 198.217774 \nL 140.6554 206.399076 \nL 140.800358 222.35006 \nL 140.848678 221.335727 \nL 140.896997 221.891882 \nL 140.945316 201.283816 \nL 140.993636 219.694045 \nL 141.090274 220.091751 \nL 141.138594 218.804158 \nL 141.186913 193.747268 \nL 141.235233 211.884424 \nL 141.283552 202.349495 \nL 141.331871 209.723659 \nL 141.380191 218.26312 \nL 141.42851 202.400678 \nL 141.476829 222.359666 \nL 141.525149 209.445856 \nL 141.573468 209.805063 \nL 141.718426 221.109024 \nL 141.766745 216.576338 \nL 141.815065 221.528432 \nL 141.960023 217.5396 \nL 142.008342 219.80325 \nL 142.20162 212.697837 \nL 142.249939 222.133905 \nL 142.346578 219.867789 \nL 142.394897 217.39991 \nL 142.443217 219.813728 \nL 142.491536 222.335962 \nL 142.588175 209.188251 \nL 142.733133 222.899932 \nL 142.781452 223.095012 \nL 142.829771 222.909413 \nL 142.92641 222.834256 \nL 142.974729 181.60142 \nL 143.023049 221.277904 \nL 143.071368 223.06595 \nL 143.119688 222.49078 \nL 143.168007 220.094 \nL 143.216326 222.280709 \nL 143.264646 222.374209 \nL 143.312965 222.294488 \nL 143.361284 223.133248 \nL 143.409604 223.036127 \nL 143.457923 200.384161 \nL 143.506242 219.488929 \nL 143.602881 208.456131 \nL 143.6512 191.049656 \nL 143.69952 212.631641 \nL 143.747839 203.168051 \nL 143.796159 215.130823 \nL 143.844478 205.672711 \nL 143.892797 206.582753 \nL 143.941117 195.156918 \nL 143.989436 209.32548 \nL 144.037755 206.052128 \nL 144.182713 221.634546 \nL 144.279352 208.818973 \nL 144.327671 211.754389 \nL 144.375991 213.380016 \nL 144.42431 213.227537 \nL 144.47263 160.2564 \nL 144.520949 204.838178 \nL 144.569268 221.62551 \nL 144.617588 221.109135 \nL 144.665907 202.032573 \nL 144.714226 220.842572 \nL 144.762546 217.017492 \nL 144.810865 186.840495 \nL 144.859184 217.030036 \nL 144.907504 220.552825 \nL 145.004142 205.937869 \nL 145.052462 211.589015 \nL 145.100781 220.380142 \nL 145.149101 213.580095 \nL 145.19742 215.402379 \nL 145.245739 221.808776 \nL 145.294059 219.752093 \nL 145.439017 205.140799 \nL 145.390697 219.974065 \nL 145.487336 205.695117 \nL 145.535655 222.714371 \nL 145.583975 205.404455 \nL 145.632294 220.988799 \nL 145.777252 207.112648 \nL 145.873891 210.384969 \nL 145.92221 220.270045 \nL 145.97053 217.391352 \nL 146.018849 216.495173 \nL 146.067168 208.398793 \nL 146.115488 218.705683 \nL 146.163807 220.916237 \nL 146.212126 218.81696 \nL 146.405404 205.509813 \nL 146.598681 221.569218 \nL 146.647001 215.047551 \nL 146.69532 205.094113 \nL 146.743639 218.8404 \nL 146.840278 218.722686 \nL 146.888597 222.551922 \nL 146.985236 222.332549 \nL 147.033556 194.016682 \nL 147.081875 221.253293 \nL 147.130194 219.923075 \nL 147.178514 209.141402 \nL 147.226833 220.016424 \nL 147.275152 60.963074 \nL 147.323472 205.030164 \nL 147.46843 220.590766 \nL 147.516749 206.062832 \nL 147.565068 219.407663 \nL 147.613388 211.565814 \nL 147.661707 216.004692 \nL 147.710027 219.841634 \nL 147.758346 203.74462 \nL 147.806665 220.516344 \nL 147.854985 216.749447 \nL 147.903304 221.296649 \nL 147.951623 217.530098 \nL 148.048262 220.578585 \nL 148.19322 213.792972 \nL 148.241539 218.959329 \nL 148.289859 211.47595 \nL 148.338178 219.898457 \nL 148.386498 220.867387 \nL 148.434817 220.110324 \nL 148.483136 218.863083 \nL 148.531456 219.861063 \nL 148.628094 222.270707 \nL 148.676414 207.996303 \nL 148.724733 215.573165 \nL 148.869691 222.90292 \nL 148.91801 222.91598 \nL 148.96633 222.044456 \nL 149.014649 222.082604 \nL 149.062969 196.785565 \nL 149.111288 221.643932 \nL 149.159607 222.583425 \nL 149.207927 222.472985 \nL 149.256246 219.52572 \nL 149.304565 222.861374 \nL 149.352885 219.899902 \nL 149.401204 220.199264 \nL 149.449523 222.502113 \nL 149.497843 221.943357 \nL 149.546162 198.400947 \nL 149.594481 218.67292 \nL 149.69112 207.961715 \nL 149.787759 218.152285 \nL 149.932717 204.365323 \nL 150.077675 218.309678 \nL 150.174314 212.718768 \nL 150.222633 221.565885 \nL 150.270953 217.284059 \nL 150.319272 204.745521 \nL 150.367591 214.793775 \nL 150.415911 209.809774 \nL 150.46423 210.525665 \nL 150.512549 217.632677 \nL 150.560869 194.333216 \nL 150.609188 214.816397 \nL 150.705827 222.031902 \nL 150.899104 198.485621 \nL 150.995743 217.348451 \nL 151.044062 215.822286 \nL 151.140701 209.827065 \nL 151.18902 223.102182 \nL 151.23734 204.493883 \nL 151.285659 219.414638 \nL 151.333978 222.743693 \nL 151.382298 211.998769 \nL 151.478936 213.14092 \nL 151.527256 218.242363 \nL 151.575575 188.440623 \nL 151.623895 221.782699 \nL 151.672214 209.636971 \nL 151.720533 222.169958 \nL 151.817172 214.284521 \nL 151.865491 182.660614 \nL 151.913811 204.537725 \nL 151.96213 196.934097 \nL 152.058769 219.587161 \nL 152.107088 213.110805 \nL 152.155407 216.881882 \nL 152.203727 211.807541 \nL 152.252046 221.364031 \nL 152.300366 210.789759 \nL 152.348685 220.158944 \nL 152.397004 203.454504 \nL 152.493643 206.864778 \nL 152.68692 220.228511 \nL 152.73524 214.607486 \nL 152.783559 220.887911 \nL 152.831878 221.938968 \nL 152.880198 203.788125 \nL 152.928517 215.553949 \nL 152.976837 222.447286 \nL 153.073475 221.121353 \nL 153.121795 204.45163 \nL 153.170114 221.104035 \nL 153.218433 221.355307 \nL 153.363391 175.130715 \nL 153.508349 214.926656 \nL 153.556669 221.735331 \nL 153.604988 213.072876 \nL 153.653308 220.290404 \nL 153.701627 212.129757 \nL 153.749946 214.003287 \nL 153.894904 220.353738 \nL 153.943224 216.990996 \nL 153.991543 221.018179 \nL 154.039862 217.637165 \nL 154.184821 221.263185 \nL 154.378098 201.159927 \nL 154.523056 222.294938 \nL 154.571375 218.951649 \nL 154.619695 221.141054 \nL 154.668014 222.609873 \nL 154.716333 210.037683 \nL 154.764653 216.781538 \nL 154.95793 222.980856 \nL 155.00625 223.309131 \nL 155.054569 222.695737 \nL 155.102888 219.406263 \nL 155.151208 170.761922 \nL 155.199527 222.329383 \nL 155.247846 222.96073 \nL 155.296166 222.552761 \nL 155.392804 220.057812 \nL 155.441124 221.994065 \nL 155.489443 217.439917 \nL 155.537763 223.216765 \nL 155.586082 223.185542 \nL 155.634401 187.869002 \nL 155.682721 222.152105 \nL 155.827679 203.443581 \nL 155.875998 206.974863 \nL 155.924317 206.295588 \nL 155.972637 212.875871 \nL 156.117595 200.215123 \nL 156.262553 212.200194 \nL 156.310872 221.775897 \nL 156.359192 221.175166 \nL 156.50415 207.643085 \nL 156.600788 214.972223 \nL 156.649108 169.793891 \nL 156.697427 209.784153 \nL 156.794066 222.184496 \nL 156.987343 156.303905 \nL 157.083982 219.543307 \nL 157.132301 214.839586 \nL 157.180621 208.742801 \nL 157.22894 210.871505 \nL 157.277259 212.382038 \nL 157.325579 208.357239 \nL 157.422217 221.958249 \nL 157.470537 207.287906 \nL 157.518856 222.841615 \nL 157.567176 222.211629 \nL 157.663814 211.268774 \nL 157.712134 222.898477 \nL 157.760453 209.81065 \nL 157.808772 220.499398 \nL 157.95373 212.475994 \nL 158.00205 196.808226 \nL 158.050369 211.283374 \nL 158.098689 222.88657 \nL 158.147008 220.336088 \nL 158.243647 211.954062 \nL 158.340285 222.929085 \nL 158.388605 210.460504 \nL 158.436924 213.106571 \nL 158.581882 219.144148 \nL 158.630201 215.57784 \nL 158.678521 218.69361 \nL 158.77516 221.76246 \nL 158.920118 202.401958 \nL 159.065076 222.867305 \nL 159.161714 221.946418 \nL 159.210034 206.085334 \nL 159.258353 221.99625 \nL 159.403311 216.19131 \nL 159.451631 198.521952 \nL 159.49995 212.807195 \nL 159.548269 213.01062 \nL 159.644908 222.017716 \nL 159.741547 221.583261 \nL 159.789866 214.980091 \nL 159.838185 217.485028 \nL 159.934824 217.212207 \nL 159.983143 222.170758 \nL 160.031463 215.792017 \nL 160.079782 222.76044 \nL 160.128102 219.234078 \nL 160.176421 222.451077 \nL 160.27306 222.010729 \nL 160.466337 210.459448 \nL 160.562976 221.880628 \nL 160.611295 217.860065 \nL 160.659614 214.643296 \nL 160.707934 222.970754 \nL 160.756253 222.964302 \nL 160.804573 209.830179 \nL 160.852892 216.295448 \nL 161.046169 223.224694 \nL 161.142808 222.721386 \nL 161.191127 219.965511 \nL 161.239447 184.009216 \nL 161.287766 218.630249 \nL 161.336085 222.79882 \nL 161.384405 222.362451 \nL 161.432724 220.922431 \nL 161.481044 222.915708 \nL 161.529363 217.731545 \nL 161.577682 221.085604 \nL 161.674321 223.342367 \nL 161.72264 197.805558 \nL 161.77096 217.758356 \nL 161.867598 206.932647 \nL 161.915918 214.409887 \nL 161.964237 203.137097 \nL 162.012557 208.454862 \nL 162.060876 210.719058 \nL 162.109195 207.716534 \nL 162.157515 219.373032 \nL 162.205834 192.993392 \nL 162.254153 216.673423 \nL 162.302473 213.130998 \nL 162.350792 214.552881 \nL 162.447431 222.546826 \nL 162.592389 202.452736 \nL 162.640708 213.18492 \nL 162.689028 217.622571 \nL 162.737347 199.488257 \nL 162.785666 206.615129 \nL 162.833986 222.507803 \nL 162.882305 221.478024 \nL 162.930624 166.016379 \nL 162.978944 218.687798 \nL 163.075582 204.038835 \nL 163.123902 216.736809 \nL 163.22054 214.366555 \nL 163.317179 208.14941 \nL 163.365499 223.039764 \nL 163.413818 216.163641 \nL 163.510457 222.99723 \nL 163.655415 200.049521 \nL 163.703734 216.53261 \nL 163.752053 191.029618 \nL 163.800373 222.530908 \nL 163.848692 211.868984 \nL 163.897011 221.235443 \nL 163.99365 213.308856 \nL 164.04197 199.878713 \nL 164.090289 210.368226 \nL 164.138608 211.146892 \nL 164.186928 222.193927 \nL 164.283566 219.09015 \nL 164.331886 210.730973 \nL 164.380205 221.35891 \nL 164.428524 221.536947 \nL 164.573482 213.704133 \nL 164.621802 198.922239 \nL 164.670121 213.962303 \nL 164.718441 207.67833 \nL 164.76676 218.203598 \nL 164.863399 216.196895 \nL 164.960037 206.392961 \nL 165.104995 220.564785 \nL 165.153315 222.97421 \nL 165.298273 208.389671 \nL 165.346592 220.920393 \nL 165.394912 213.579864 \nL 165.443231 212.863236 \nL 165.49155 217.217376 \nL 165.53987 124.762845 \nL 165.588189 210.24092 \nL 165.684828 209.140324 \nL 165.733147 222.308173 \nL 165.781466 199.685758 \nL 165.829786 223.051348 \nL 165.878105 209.497896 \nL 165.926425 214.446765 \nL 166.023063 214.250057 \nL 166.071383 220.289441 \nL 166.119702 215.030877 \nL 166.168021 220.970563 \nL 166.216341 215.076143 \nL 166.26466 215.64124 \nL 166.312979 221.801025 \nL 166.361299 204.310648 \nL 166.409618 215.078467 \nL 166.506257 218.442569 \nL 166.554576 214.169228 \nL 166.602896 217.673364 \nL 166.651215 222.537896 \nL 166.699534 219.304264 \nL 166.747854 214.905854 \nL 166.796173 220.266683 \nL 166.844492 223.069632 \nL 166.941131 213.046171 \nL 166.98945 218.888079 \nL 167.134408 223.400396 \nL 167.182728 223.421192 \nL 167.231047 222.543562 \nL 167.279367 222.606275 \nL 167.327686 188.853863 \nL 167.376005 222.684257 \nL 167.424325 223.459399 \nL 167.472644 223.336881 \nL 167.520963 220.608913 \nL 167.569283 223.186017 \nL 167.714241 223.519389 \nL 167.76256 223.467596 \nL 167.810879 204.794514 \nL 167.859199 220.524172 \nL 167.955838 207.800037 \nL 168.004157 166.385775 \nL 168.052476 211.101502 \nL 168.197434 196.378655 \nL 168.245754 218.706745 \nL 168.342392 214.277315 \nL 168.390712 217.301287 \nL 168.439031 199.29747 \nL 168.48735 222.797913 \nL 168.53567 214.623056 \nL 168.583989 199.082923 \nL 168.632309 210.209431 \nL 168.680628 210.44057 \nL 168.777267 212.92454 \nL 168.825586 194.091224 \nL 168.873905 218.316189 \nL 168.922225 221.995034 \nL 168.970544 219.567332 \nL 169.018863 207.72284 \nL 169.067183 215.884302 \nL 169.115502 217.151112 \nL 169.163822 75.366094 \nL 169.212141 217.351511 \nL 169.26046 210.963173 \nL 169.357099 211.929317 \nL 169.405418 211.936721 \nL 169.453738 222.477097 \nL 169.550376 219.473598 \nL 169.598696 223.025927 \nL 169.647015 210.951336 \nL 169.695334 220.749111 \nL 169.743654 222.783819 \nL 169.791973 211.006458 \nL 169.840293 213.733958 \nL 169.888612 223.429547 \nL 169.936931 211.642247 \nL 169.985251 221.886283 \nL 170.226847 193.039254 \nL 170.275167 222.43742 \nL 170.323486 119.194881 \nL 170.371805 219.066764 \nL 170.468444 213.434318 \nL 170.565083 220.688312 \nL 170.710041 209.958063 \nL 170.75836 215.955426 \nL 170.854999 215.822904 \nL 170.903318 211.751401 \nL 170.951638 219.479954 \nL 170.999957 215.409913 \nL 171.048276 216.879372 \nL 171.096596 209.679789 \nL 171.193235 211.066051 \nL 171.241554 222.669551 \nL 171.338193 222.473321 \nL 171.386512 203.633293 \nL 171.434831 222.543038 \nL 171.53147 211.936647 \nL 171.579789 222.586706 \nL 171.628109 199.492423 \nL 171.676428 212.742568 \nL 171.773067 217.296176 \nL 171.821386 221.872057 \nL 171.869706 200.202155 \nL 171.918025 222.162033 \nL 171.966344 213.903639 \nL 172.014664 216.512846 \nL 172.159622 221.573873 \nL 172.207941 213.279345 \nL 172.25626 221.718813 \nL 172.30458 216.170054 \nL 172.352899 220.562366 \nL 172.401218 220.907937 \nL 172.497857 217.76026 \nL 172.546177 212.912115 \nL 172.594496 221.003915 \nL 172.642815 212.635044 \nL 172.691135 220.748342 \nL 172.787773 222.981184 \nL 172.836093 214.829031 \nL 172.884412 220.879593 \nL 172.932731 222.573964 \nL 172.981051 221.484279 \nL 173.02937 214.551506 \nL 173.07769 220.090853 \nL 173.222648 223.430813 \nL 173.270967 223.381045 \nL 173.319286 223.089613 \nL 173.367606 221.976496 \nL 173.415925 200.497353 \nL 173.464244 221.069193 \nL 173.512564 223.08737 \nL 173.560883 222.901876 \nL 173.609202 220.321036 \nL 173.657522 222.993018 \nL 173.705841 222.246701 \nL 173.850799 223.486792 \nL 173.899119 189.843173 \nL 173.947438 218.743773 \nL 174.092396 183.510618 \nL 174.140715 212.62009 \nL 174.189035 209.547247 \nL 174.285673 197.564251 \nL 174.333993 215.801684 \nL 174.430632 212.607642 \nL 174.478951 204.890634 \nL 174.52727 212.532617 \nL 174.57559 216.922916 \nL 174.623909 214.054586 \nL 174.672228 212.35139 \nL 174.720548 215.591345 \nL 174.817186 209.127802 \nL 174.865506 217.076086 \nL 174.913825 177.656875 \nL 174.962144 211.28961 \nL 175.058783 218.487338 \nL 175.252061 163.149545 \nL 175.348699 219.909869 \nL 175.397019 214.361602 \nL 175.493657 208.187074 \nL 175.590296 216.921183 \nL 175.638615 201.901669 \nL 175.686935 219.90337 \nL 175.735254 205.733906 \nL 175.783574 220.179627 \nL 175.880212 218.010311 \nL 175.976851 220.414156 \nL 176.02517 202.689635 \nL 176.07349 218.379599 \nL 176.170128 217.232852 \nL 176.218448 221.660632 \nL 176.266767 205.912284 \nL 176.315086 205.964113 \nL 176.363406 222.284995 \nL 176.411725 219.662716 \nL 176.508364 214.985934 \nL 176.605003 222.315107 \nL 176.653322 214.01715 \nL 176.701641 222.178882 \nL 176.846599 205.020598 \nL 176.894919 212.632493 \nL 177.039877 221.940256 \nL 177.088196 214.345457 \nL 177.136516 214.525469 \nL 177.184835 217.622733 \nL 177.233154 209.347331 \nL 177.329793 222.284489 \nL 177.378112 221.763602 \nL 177.426432 221.603498 \nL 177.474751 208.047207 \nL 177.52307 222.362688 \nL 177.57139 223.00696 \nL 177.619709 218.7739 \nL 177.668029 223.134232 \nL 177.716348 196.604933 \nL 177.764667 211.133533 \nL 177.909625 222.754583 \nL 177.957945 207.335109 \nL 178.006264 219.494086 \nL 178.054583 214.686777 \nL 178.102903 217.00839 \nL 178.151222 221.878201 \nL 178.247861 221.259286 \nL 178.29618 210.944183 \nL 178.3445 222.658244 \nL 178.392819 217.262032 \nL 178.441138 221.515452 \nL 178.489458 222.164731 \nL 178.731054 215.195733 \nL 178.827693 222.214329 \nL 178.876012 220.221821 \nL 179.020971 223.177939 \nL 179.117609 213.631267 \nL 179.165929 219.827461 \nL 179.310887 223.412161 \nL 179.359206 223.538667 \nL 179.407525 223.240796 \nL 179.455845 220.609599 \nL 179.504164 200.116065 \nL 179.552483 222.496366 \nL 179.600803 223.572236 \nL 179.649122 223.260339 \nL 179.697442 217.78698 \nL 179.79408 218.983458 \nL 179.8424 216.099338 \nL 179.890719 223.62311 \nL 179.939038 223.534176 \nL 179.987358 195.837192 \nL 180.035677 223.075616 \nL 180.180635 201.062411 \nL 180.228954 210.370696 \nL 180.277274 208.072751 \nL 180.325593 210.860162 \nL 180.373913 213.658783 \nL 180.470551 203.574838 \nL 180.663829 222.396194 \nL 180.712148 222.601275 \nL 180.760467 198.046598 \nL 180.857106 204.128262 \nL 180.953745 218.106886 \nL 181.002064 189.211732 \nL 181.050384 221.522483 \nL 181.195342 212.265591 \nL 181.243661 219.992506 \nL 181.29198 209.815204 \nL 181.3403 121.565606 \nL 181.388619 219.407753 \nL 181.436938 219.329556 \nL 181.581897 214.474409 \nL 181.630216 218.122389 \nL 181.678535 208.165063 \nL 181.726855 214.632685 \nL 181.871813 223.161518 \nL 182.016771 217.102917 \nL 182.06509 222.928781 \nL 182.113409 206.61314 \nL 182.161729 222.152872 \nL 182.258368 216.529186 \nL 182.306687 218.888867 \nL 182.355006 201.460536 \nL 182.403326 216.208662 \nL 182.499964 223.0739 \nL 182.596603 213.745125 \nL 182.644922 218.27537 \nL 182.693242 222.976198 \nL 182.78988 222.748737 \nL 182.8382 222.181682 \nL 182.934839 216.822767 \nL 182.983158 218.241934 \nL 183.128116 223.338344 \nL 183.176435 217.810773 \nL 183.224755 190.073288 \nL 183.273074 221.572876 \nL 183.369713 216.529671 \nL 183.418032 222.841708 \nL 183.514671 222.314874 \nL 183.56299 216.3789 \nL 183.61131 220.640488 \nL 183.659629 220.650261 \nL 183.707948 214.737736 \nL 183.756268 220.863759 \nL 183.804587 128.324268 \nL 183.852906 210.105567 \nL 183.997864 220.268795 \nL 184.046184 210.457357 \nL 184.094503 221.661311 \nL 184.142822 211.764859 \nL 184.191142 219.417482 \nL 184.239461 214.930155 \nL 184.287781 212.807022 \nL 184.432739 223.03312 \nL 184.577697 215.918451 \nL 184.626016 221.133224 \nL 184.674335 216.531929 \nL 184.722655 216.506108 \nL 184.770974 217.762575 \nL 184.819294 216.835137 \nL 184.867613 213.129489 \nL 184.915932 221.135113 \nL 184.964252 207.216556 \nL 185.012571 220.92923 \nL 185.10921 223.220617 \nL 185.205848 210.529678 \nL 185.302487 223.435604 \nL 185.350806 223.368516 \nL 185.399126 223.504485 \nL 185.544084 222.827493 \nL 185.592403 210.532688 \nL 185.640723 221.3343 \nL 185.737361 223.303254 \nL 185.785681 222.678373 \nL 185.834 222.365301 \nL 185.882319 223.519421 \nL 185.930639 218.336851 \nL 185.978958 223.578995 \nL 186.027277 223.469422 \nL 186.075597 205.085484 \nL 186.123916 223.125667 \nL 186.172236 217.835812 \nL 186.220555 197.46148 \nL 186.268874 208.486572 \nL 186.317194 207.438846 \nL 186.462152 212.704219 \nL 186.55879 209.445147 \nL 186.60711 217.320587 \nL 186.655429 211.914028 \nL 186.703748 209.637145 \nL 186.752068 222.133838 \nL 186.800387 221.631389 \nL 186.945345 198.6363 \nL 186.993665 216.79074 \nL 187.041984 216.702479 \nL 187.090303 172.669484 \nL 187.138623 213.023209 \nL 187.235261 221.240188 \nL 187.283581 212.196442 \nL 187.3319 219.525582 \nL 187.380219 217.030983 \nL 187.428539 190.765258 \nL 187.476858 218.629858 \nL 187.670136 212.4806 \nL 187.766774 221.023914 \nL 187.815094 219.115675 \nL 187.863413 222.713189 \nL 187.911732 220.354199 \nL 187.960052 220.836647 \nL 188.008371 203.545872 \nL 188.056691 219.150553 \nL 188.10501 212.367542 \nL 188.153329 222.489574 \nL 188.201649 208.579749 \nL 188.298287 209.901215 \nL 188.394926 220.278184 \nL 188.443245 206.263512 \nL 188.491565 215.759319 \nL 188.539884 223.299793 \nL 188.588203 222.274811 \nL 188.684842 201.079827 \nL 188.8298 222.362244 \nL 189.023078 212.619657 \nL 189.216355 222.655849 \nL 189.361313 200.234308 \nL 189.506271 223.5028 \nL 189.60291 222.120441 \nL 189.651229 212.648138 \nL 189.699549 222.069465 \nL 189.747868 223.36756 \nL 189.844507 223.410815 \nL 189.892826 191.270924 \nL 189.941145 215.946453 \nL 189.989465 213.201294 \nL 190.037784 195.198554 \nL 190.086104 222.897665 \nL 190.182742 220.411676 \nL 190.231062 217.431823 \nL 190.279381 220.486807 \nL 190.3277 221.165156 \nL 190.37602 218.463409 \nL 190.424339 222.883569 \nL 190.472658 215.789873 \nL 190.520978 222.880361 \nL 190.569297 219.094329 \nL 190.617616 222.209921 \nL 190.665936 222.850291 \nL 190.714255 222.240284 \nL 190.762575 221.379567 \nL 190.907533 213.246876 \nL 190.955852 213.743289 \nL 191.052491 222.759277 \nL 191.10081 213.375799 \nL 191.149129 220.909287 \nL 191.197449 223.162541 \nL 191.245768 221.553916 \nL 191.294087 218.084083 \nL 191.342407 221.813326 \nL 191.439046 223.419879 \nL 191.487365 223.362611 \nL 191.584004 222.917905 \nL 191.632323 221.126358 \nL 191.680642 198.802545 \nL 191.728962 219.339308 \nL 191.777281 223.54988 \nL 191.8256 222.199313 \nL 191.87392 220.782095 \nL 191.922239 223.277569 \nL 192.018878 201.453411 \nL 192.067197 223.679488 \nL 192.115517 223.644971 \nL 192.163836 201.055208 \nL 192.212155 222.735955 \nL 192.308794 206.626346 \nL 192.405433 208.593115 \nL 192.453752 211.78698 \nL 192.502071 208.874484 \nL 192.550391 194.392331 \nL 192.59871 221.076119 \nL 192.64703 198.669963 \nL 192.695349 190.042249 \nL 192.840307 219.694037 \nL 192.888626 222.056996 \nL 193.033584 206.539025 \nL 193.130223 216.207786 \nL 193.178542 194.102864 \nL 193.226862 220.510816 \nL 193.275181 219.898607 \nL 193.323501 222.438602 \nL 193.37182 207.52044 \nL 193.420139 221.104659 \nL 193.516778 198.14572 \nL 193.613417 219.667302 \nL 193.661736 215.760377 \nL 193.758375 212.969277 \nL 193.806694 223.337958 \nL 193.855013 199.57179 \nL 193.903333 218.611593 \nL 193.951652 213.470665 \nL 194.048291 223.416326 \nL 194.193249 207.124732 \nL 194.241568 222.49731 \nL 194.338207 221.313332 \nL 194.386526 219.835444 \nL 194.579804 206.470041 \nL 194.676443 222.753085 \nL 194.724762 219.433641 \nL 194.773081 206.361955 \nL 194.821401 219.139158 \nL 194.86972 222.774284 \nL 194.918039 220.103274 \nL 194.966359 220.992235 \nL 195.111317 217.572608 \nL 195.159636 215.921229 \nL 195.256275 222.8944 \nL 195.304594 222.723023 \nL 195.352914 217.723316 \nL 195.401233 198.111531 \nL 195.449552 216.472986 \nL 195.59451 223.005076 \nL 195.691149 222.983976 \nL 195.739468 213.335314 \nL 195.787788 221.846908 \nL 195.836107 222.492801 \nL 195.981065 199.359195 \nL 196.174343 222.404162 \nL 196.222662 209.734611 \nL 196.270981 222.508438 \nL 196.319301 213.380418 \nL 196.512578 223.179799 \nL 196.560898 218.350519 \nL 196.609217 223.195855 \nL 196.657536 218.776018 \nL 196.705856 223.308987 \nL 196.754175 218.504215 \nL 196.802494 222.414135 \nL 196.850814 215.601682 \nL 196.899133 216.125271 \nL 196.947452 220.7897 \nL 196.995772 209.89512 \nL 197.044091 218.42423 \nL 197.09241 223.518618 \nL 197.14073 220.995091 \nL 197.189049 211.599416 \nL 197.237369 222.14956 \nL 197.285688 223.635512 \nL 197.334007 207.106973 \nL 197.382327 214.816291 \nL 197.575604 223.696949 \nL 197.623923 223.581539 \nL 197.672243 223.494416 \nL 197.720562 220.916116 \nL 197.768881 168.933539 \nL 197.817201 221.738593 \nL 197.86552 223.480255 \nL 197.91384 222.658152 \nL 198.107117 217.990447 \nL 198.203756 223.831117 \nL 198.252075 202.571077 \nL 198.300394 219.090462 \nL 198.445352 204.85027 \nL 198.493672 215.866598 \nL 198.541991 210.661386 \nL 198.590311 206.155175 \nL 198.63863 210.996817 \nL 198.686949 210.485754 \nL 198.735269 205.931345 \nL 198.783588 216.406118 \nL 198.880227 215.655978 \nL 198.928546 221.723198 \nL 198.976865 219.466606 \nL 199.121823 211.282577 \nL 199.218462 218.697194 \nL 199.266782 195.992999 \nL 199.315101 213.742428 \nL 199.41174 220.15362 \nL 199.508378 220.561579 \nL 199.605017 181.597451 \nL 199.653336 219.902449 \nL 199.749975 217.57456 \nL 199.846614 205.005986 \nL 199.894933 223.451842 \nL 199.991572 219.74971 \nL 200.039891 223.532031 \nL 200.088211 219.546939 \nL 200.13653 216.021485 \nL 200.184849 222.124885 \nL 200.233169 220.215903 \nL 200.281488 218.953155 \nL 200.329807 223.624875 \nL 200.378127 203.961038 \nL 200.426446 222.63597 \nL 200.523085 215.92901 \nL 200.571404 221.892535 \nL 200.668043 207.801579 \nL 200.716362 223.252065 \nL 200.764682 222.574831 \nL 200.86132 203.546256 \nL 200.957959 223.319308 \nL 201.006278 221.36504 \nL 201.054598 216.297445 \nL 201.102917 222.74275 \nL 201.151237 219.191749 \nL 201.199556 220.912417 \nL 201.247875 220.919865 \nL 201.296195 219.419268 \nL 201.344514 221.360754 \nL 201.392833 220.281923 \nL 201.441153 213.145414 \nL 201.489472 218.773513 \nL 201.537791 222.194141 \nL 201.586111 218.652494 \nL 201.63443 204.034363 \nL 201.682749 223.337525 \nL 201.779388 222.021995 \nL 201.827708 219.826378 \nL 201.876027 222.580101 \nL 201.924346 223.381202 \nL 202.020985 220.160589 \nL 202.069304 203.060518 \nL 202.117624 213.006728 \nL 202.165943 216.526988 \nL 202.214262 206.792226 \nL 202.262582 223.026837 \nL 202.310901 205.649384 \nL 202.35922 220.242794 \nL 202.455859 215.370713 \nL 202.600817 222.886957 \nL 202.649137 211.072576 \nL 202.697456 222.933848 \nL 202.745775 218.4444 \nL 202.794095 222.756553 \nL 202.939053 215.295362 \nL 202.987372 216.358832 \nL 203.035691 220.105853 \nL 203.084011 218.155824 \nL 203.13233 218.734039 \nL 203.228969 222.280838 \nL 203.277288 219.074215 \nL 203.325608 220.620335 \nL 203.373927 223.382875 \nL 203.422246 216.742298 \nL 203.470566 221.239688 \nL 203.518885 219.624591 \nL 203.663843 223.774539 \nL 203.808801 222.868251 \nL 203.857121 206.779398 \nL 203.90544 222.716105 \nL 203.953759 223.747802 \nL 204.002079 223.597523 \nL 204.098717 223.610734 \nL 204.147037 216.628768 \nL 204.243675 223.821509 \nL 204.291995 223.770207 \nL 204.340314 203.748391 \nL 204.388634 223.113279 \nL 204.533592 201.002352 \nL 204.581911 207.755594 \nL 204.726869 210.591872 \nL 204.775188 197.552931 \nL 204.823508 204.051141 \nL 204.871827 217.800975 \nL 204.920146 215.598488 \nL 204.968466 205.789714 \nL 205.016785 222.341297 \nL 205.065105 222.166104 \nL 205.161743 210.990155 \nL 205.210063 221.596237 \nL 205.258382 218.955299 \nL 205.355021 201.457492 \nL 205.451659 222.444226 \nL 205.499979 221.143004 \nL 205.548298 207.494543 \nL 205.596617 221.351068 \nL 205.644937 221.912593 \nL 205.693256 197.564494 \nL 205.741576 218.416399 \nL 205.789895 219.640422 \nL 205.934853 212.568997 \nL 205.983172 223.308581 \nL 206.031492 216.286106 \nL 206.12813 223.524476 \nL 206.224769 223.431764 \nL 206.369727 207.001855 \nL 206.418047 222.407715 \nL 206.514685 222.081313 \nL 206.611324 215.534929 \nL 206.659643 219.520773 \nL 206.707963 194.222425 \nL 206.756282 204.41473 \nL 206.804601 222.699382 \nL 206.90124 218.78484 \nL 206.949559 199.08279 \nL 206.997879 219.838127 \nL 207.142837 216.504661 \nL 207.191156 219.61708 \nL 207.239476 218.753459 \nL 207.336114 196.574974 \nL 207.481072 221.667487 \nL 207.529392 214.930257 \nL 207.626031 216.35253 \nL 207.770989 223.615544 \nL 207.819308 222.584985 \nL 207.867627 222.435449 \nL 207.915947 206.916911 \nL 207.964266 220.871127 \nL 208.012585 220.117525 \nL 208.060905 221.56786 \nL 208.109224 217.661969 \nL 208.157543 151.832531 \nL 208.205863 210.667147 \nL 208.350821 223.145149 \nL 208.44746 223.60495 \nL 208.544098 210.258244 \nL 208.592418 219.066301 \nL 208.640737 204.69566 \nL 208.689056 219.754843 \nL 208.737376 218.591135 \nL 208.785695 221.744965 \nL 208.834014 218.070818 \nL 208.978973 222.512762 \nL 209.027292 220.926545 \nL 209.17225 200.624542 \nL 209.317208 222.528593 \nL 209.365527 212.096206 \nL 209.413847 221.244584 \nL 209.462166 223.320215 \nL 209.510485 222.024908 \nL 209.558805 211.726955 \nL 209.607124 218.900662 \nL 209.752082 223.856033 \nL 209.89704 222.972213 \nL 209.94536 194.202198 \nL 209.993679 223.141592 \nL 210.041998 223.849542 \nL 210.090318 223.677052 \nL 210.138637 221.172741 \nL 210.186956 223.78085 \nL 210.235276 221.6587 \nL 210.331915 223.896658 \nL 210.380234 223.845844 \nL 210.428553 197.318704 \nL 210.476873 219.326714 \nL 210.573511 209.076641 \nL 210.621831 211.405674 \nL 210.67015 216.463879 \nL 210.718469 201.0041 \nL 210.766789 209.900244 \nL 210.863428 208.428776 \nL 210.911747 208.987352 \nL 211.105024 222.803221 \nL 211.153344 222.663175 \nL 211.298302 208.109707 \nL 211.346621 217.463637 \nL 211.39494 211.867932 \nL 211.44326 196.854491 \nL 211.491579 213.212308 \nL 211.588218 221.668715 \nL 211.636537 197.582537 \nL 211.684857 220.666875 \nL 211.781495 196.064556 \nL 211.878134 222.342633 \nL 211.926453 215.285027 \nL 211.974773 207.352266 \nL 212.023092 210.995313 \nL 212.071411 223.571201 \nL 212.119731 218.819383 \nL 212.16805 219.449109 \nL 212.21637 217.281858 \nL 212.361328 221.760676 \nL 212.409647 222.150052 \nL 212.457966 218.468467 \nL 212.506286 223.825272 \nL 212.554605 212.478743 \nL 212.602924 220.742105 \nL 212.796202 211.771638 \nL 212.892841 223.738502 \nL 212.94116 204.999476 \nL 212.989479 211.368925 \nL 213.134437 223.21152 \nL 213.182757 215.277445 \nL 213.279395 215.57394 \nL 213.327715 218.152945 \nL 213.376034 215.495191 \nL 213.424353 213.956348 \nL 213.569312 222.919065 \nL 213.66595 204.624518 \nL 213.762589 221.619012 \nL 213.810908 221.169572 \nL 213.859228 223.516902 \nL 213.955866 223.141631 \nL 214.004186 211.226275 \nL 214.052505 223.409986 \nL 214.100824 223.706294 \nL 214.245783 189.972395 \nL 214.390741 218.978675 \nL 214.43906 222.890055 \nL 214.487379 212.497148 \nL 214.535699 223.328718 \nL 214.584018 214.184713 \nL 214.680657 221.52994 \nL 214.728976 217.961015 \nL 214.777296 221.881379 \nL 214.825615 220.627248 \nL 214.873934 222.406753 \nL 214.922254 216.795703 \nL 214.970573 222.022557 \nL 215.018892 221.065187 \nL 215.067212 222.420585 \nL 215.16385 217.505311 \nL 215.260489 217.976828 \nL 215.308808 216.861153 \nL 215.357128 222.759818 \nL 215.453767 222.628692 \nL 215.502086 221.177726 \nL 215.550405 223.247332 \nL 215.647044 214.006764 \nL 215.743683 223.626031 \nL 215.792002 223.613835 \nL 215.840321 223.862308 \nL 215.888641 223.652418 \nL 215.985279 223.115145 \nL 216.033599 202.840384 \nL 216.081918 223.710972 \nL 216.130238 223.868973 \nL 216.178557 223.822704 \nL 216.226876 220.057451 \nL 216.275196 223.817969 \nL 216.371834 223.828988 \nL 216.420154 222.519981 \nL 216.468473 223.891673 \nL 216.516792 181.220655 \nL 216.565112 221.140101 \nL 216.71007 190.172936 \nL 216.758389 210.975755 \nL 216.806709 206.189158 \nL 216.855028 203.589523 \nL 216.903347 211.067182 \nL 216.951667 205.350484 \nL 216.999986 188.876116 \nL 217.096625 215.83424 \nL 217.144944 205.207114 \nL 217.193263 223.534031 \nL 217.241583 221.942264 \nL 217.386541 211.584055 \nL 217.48318 219.383262 \nL 217.531499 189.664357 \nL 217.579818 210.097036 \nL 217.676457 223.142214 \nL 217.869734 166.695494 \nL 217.966373 222.897541 \nL 218.014692 217.159744 \nL 218.111331 212.846663 \nL 218.159651 223.000952 \nL 218.20797 211.93528 \nL 218.352928 219.829626 \nL 218.401247 223.527958 \nL 218.449567 220.880884 \nL 218.497886 220.030748 \nL 218.546205 202.202758 \nL 218.594525 222.441569 \nL 218.642844 210.077628 \nL 218.691164 222.139951 \nL 218.884441 210.159618 \nL 218.93276 212.631245 \nL 218.98108 222.899285 \nL 219.029399 220.563303 \nL 219.126038 211.627617 \nL 219.222676 220.977269 \nL 219.319315 214.970745 \nL 219.367635 219.701235 \nL 219.415954 215.751673 \nL 219.464273 212.521301 \nL 219.512593 213.766794 \nL 219.657551 221.97337 \nL 219.802509 205.375084 \nL 219.947467 223.443772 \nL 219.995786 219.886293 \nL 220.044106 222.865314 \nL 220.092425 204.181076 \nL 220.140744 222.706614 \nL 220.237383 215.682485 \nL 220.285702 217.783498 \nL 220.334022 164.113052 \nL 220.382341 211.525458 \nL 220.527299 222.039486 \nL 220.575618 206.395955 \nL 220.623938 221.898936 \nL 220.672257 211.958355 \nL 220.720577 214.870361 \nL 220.768896 219.470407 \nL 220.817215 213.483152 \nL 220.962173 222.831448 \nL 221.010493 215.648453 \nL 221.058812 221.673363 \nL 221.107131 221.396913 \nL 221.252089 213.875918 \nL 221.300409 219.819652 \nL 221.348728 214.954323 \nL 221.445367 222.991953 \nL 221.493686 201.557618 \nL 221.542006 223.184375 \nL 221.590325 221.268416 \nL 221.638644 223.172765 \nL 221.783602 221.18242 \nL 221.92856 223.972297 \nL 222.073519 223.642294 \nL 222.121838 216.202702 \nL 222.170157 223.766434 \nL 222.218477 223.916386 \nL 222.266796 223.861905 \nL 222.315115 222.006258 \nL 222.363435 223.813073 \nL 222.411754 223.948705 \nL 222.460073 222.598253 \nL 222.508393 223.958718 \nL 222.556712 223.95121 \nL 222.605032 196.237721 \nL 222.653351 222.878782 \nL 222.798309 210.187163 \nL 222.846628 212.382201 \nL 222.894948 200.918873 \nL 222.943267 211.255955 \nL 223.039906 203.659969 \nL 223.136544 213.210163 \nL 223.184864 209.714116 \nL 223.233183 210.432896 \nL 223.281503 221.410717 \nL 223.329822 220.042541 \nL 223.47478 194.209348 \nL 223.571419 219.573811 \nL 223.619738 197.384587 \nL 223.668057 214.121658 \nL 223.716377 222.711728 \nL 223.764696 222.236471 \nL 223.813015 193.880409 \nL 223.861335 221.924734 \nL 223.909654 218.76385 \nL 223.957974 205.449733 \nL 224.006293 219.693068 \nL 224.102932 216.284203 \nL 224.151251 195.16655 \nL 224.19957 208.616987 \nL 224.24789 223.887612 \nL 224.296209 221.141208 \nL 224.392848 210.606901 \nL 224.489486 222.303763 \nL 224.537806 222.216209 \nL 224.634445 180.400424 \nL 224.682764 223.394082 \nL 224.779403 219.635458 \nL 225.020999 208.942342 \nL 225.117638 219.817443 \nL 225.165957 217.801873 \nL 225.214277 217.142236 \nL 225.262596 213.586417 \nL 225.310916 221.134806 \nL 225.359235 214.98544 \nL 225.407554 216.41489 \nL 225.455874 213.211899 \nL 225.552512 177.863169 \nL 225.69747 215.858136 \nL 225.74579 219.36968 \nL 225.794109 213.443397 \nL 225.842428 213.51744 \nL 226.035706 222.978782 \nL 226.084025 222.682415 \nL 226.132345 223.182304 \nL 226.180664 208.516021 \nL 226.228983 222.861033 \nL 226.325622 223.381066 \nL 226.373941 204.584422 \nL 226.422261 155.134263 \nL 226.47058 197.215287 \nL 226.615538 223.533082 \nL 226.663858 208.279247 \nL 226.712177 215.50053 \nL 226.953774 222.620574 \nL 227.002093 210.135112 \nL 227.050412 222.357995 \nL 227.098732 214.936295 \nL 227.147051 222.861917 \nL 227.436967 207.965679 \nL 227.581925 222.824629 \nL 227.630245 215.89077 \nL 227.678564 221.747997 \nL 227.775203 223.373281 \nL 227.823522 214.957845 \nL 227.871842 216.610868 \nL 228.0168 223.615604 \nL 228.065119 223.785675 \nL 228.113438 222.09574 \nL 228.210077 200.111001 \nL 228.306716 223.77516 \nL 228.355035 222.360438 \nL 228.403354 219.07578 \nL 228.499993 223.50428 \nL 228.548313 222.446208 \nL 228.644951 223.835107 \nL 228.693271 198.057598 \nL 228.74159 218.650444 \nL 228.886548 204.810573 \nL 228.934867 212.083687 \nL 229.031506 210.244538 \nL 229.176464 199.830667 \nL 229.224784 215.187535 \nL 229.321422 213.567224 \nL 229.369742 223.358094 \nL 229.418061 219.789689 \nL 229.5147 209.421932 \nL 229.563019 202.918702 \nL 229.659658 216.261467 \nL 229.707977 195.867001 \nL 229.756296 218.894298 \nL 229.804616 216.937449 \nL 229.852935 221.884163 \nL 229.901255 207.414709 \nL 229.949574 218.006998 \nL 229.997893 218.850281 \nL 230.046213 204.910813 \nL 230.094532 219.142347 \nL 230.23949 215.215372 \nL 230.287809 213.843507 \nL 230.336129 221.81688 \nL 230.384448 200.171981 \nL 230.432768 220.617324 \nL 230.481087 223.210973 \nL 230.577726 223.789576 \nL 230.626045 211.235401 \nL 230.771003 223.904013 \nL 230.819322 215.910886 \nL 230.867642 222.317159 \nL 230.915961 219.333676 \nL 230.96428 202.397196 \nL 231.060919 204.197509 \nL 231.109239 200.784396 \nL 231.205877 223.432684 \nL 231.254197 217.875722 \nL 231.302516 217.822475 \nL 231.350835 218.704179 \nL 231.399155 222.467097 \nL 231.447474 221.483146 \nL 231.592432 218.105383 \nL 231.640751 219.810633 \nL 231.689071 218.451441 \nL 231.73739 217.465965 \nL 231.834029 222.367772 \nL 231.882348 210.861329 \nL 231.930668 221.389382 \nL 231.978987 217.520148 \nL 232.027306 221.8033 \nL 232.075626 220.61087 \nL 232.123945 223.437587 \nL 232.220584 222.743383 \nL 232.268903 218.42895 \nL 232.317222 223.916426 \nL 232.365542 220.912531 \nL 232.413861 221.010363 \nL 232.462181 222.259331 \nL 232.5105 178.587849 \nL 232.558819 210.280028 \nL 232.607139 208.509571 \nL 232.703777 223.205996 \nL 232.752097 203.769635 \nL 232.800416 222.630763 \nL 232.848735 222.685969 \nL 232.945374 223.012727 \nL 232.993693 218.191272 \nL 233.042013 223.246778 \nL 233.090332 215.843225 \nL 233.138652 223.411471 \nL 233.186971 217.638213 \nL 233.23529 222.865211 \nL 233.331929 222.216022 \nL 233.380248 211.87874 \nL 233.428568 217.981267 \nL 233.621845 223.448819 \nL 233.670165 223.130874 \nL 233.718484 215.944818 \nL 233.766803 221.805294 \nL 233.815123 223.767982 \nL 233.863442 217.32113 \nL 233.911761 218.966173 \nL 233.960081 219.78143 \nL 234.105039 224.045433 \nL 234.201677 223.544426 \nL 234.249997 222.218682 \nL 234.298316 197.220592 \nL 234.346636 222.523316 \nL 234.443274 223.769389 \nL 234.539913 221.259483 \nL 234.588232 224.036078 \nL 234.636552 223.927711 \nL 234.684871 222.166303 \nL 234.73319 223.948254 \nL 234.78151 189.560533 \nL 234.829829 221.865922 \nL 234.974787 194.261484 \nL 235.023107 217.44012 \nL 235.119745 213.409087 \nL 235.264703 202.586344 \nL 235.313023 217.597826 \nL 235.361342 211.051046 \nL 235.409661 212.617302 \nL 235.457981 222.573704 \nL 235.5063 216.698089 \nL 235.602939 211.16656 \nL 235.651258 219.494674 \nL 235.747897 219.173714 \nL 235.796216 191.145055 \nL 235.844536 210.061186 \nL 235.941174 221.822796 \nL 236.037813 222.409791 \nL 236.086132 210.949813 \nL 236.134452 114.920588 \nL 236.182771 219.581376 \nL 236.23109 222.794165 \nL 236.376049 212.218112 \nL 236.424368 183.766267 \nL 236.472687 212.34144 \nL 236.665965 222.684214 \nL 236.714284 207.48044 \nL 236.762603 215.939049 \nL 236.810923 216.941913 \nL 236.859242 223.85628 \nL 236.907561 209.057721 \nL 236.955881 222.886939 \nL 237.05252 212.9524 \nL 237.100839 217.770578 \nL 237.149158 171.822862 \nL 237.197478 209.583861 \nL 237.245797 220.900052 \nL 237.294116 193.636143 \nL 237.342436 216.045403 \nL 237.390755 213.850832 \nL 237.487394 221.763498 \nL 237.535713 218.757684 \nL 237.584033 201.710208 \nL 237.632352 215.195367 \nL 237.680671 214.70265 \nL 237.728991 202.747894 \nL 237.77731 211.247903 \nL 237.873949 210.563783 \nL 237.922268 218.823084 \nL 238.018907 208.729376 \nL 238.067226 210.77122 \nL 238.212184 223.036709 \nL 238.260504 220.878342 \nL 238.308823 221.543708 \nL 238.357142 211.355481 \nL 238.405462 223.073453 \nL 238.453781 220.429919 \nL 238.5021 188.735623 \nL 238.55042 221.705322 \nL 238.598739 191.752933 \nL 238.695378 214.767313 \nL 238.743697 207.110084 \nL 238.888655 222.660013 \nL 238.936975 221.510317 \nL 239.081933 214.032458 \nL 239.226891 222.566528 \nL 239.27521 216.918668 \nL 239.323529 220.546204 \nL 239.371849 222.323387 \nL 239.420168 220.587277 \nL 239.613446 210.432983 \nL 239.710084 221.70524 \nL 239.758404 221.346199 \nL 239.855042 221.072464 \nL 239.903362 223.605833 \nL 239.951681 222.515808 \nL 240 216.311001 \nL 240.04832 220.406504 \nL 240.096639 223.785687 \nL 240.193278 223.733828 \nL 240.338236 223.439019 \nL 240.386555 204.765393 \nL 240.434875 223.26822 \nL 240.483194 223.584311 \nL 240.531513 223.409872 \nL 240.579833 219.580222 \nL 240.628152 223.774464 \nL 240.676471 223.951325 \nL 240.724791 223.063238 \nL 240.77311 223.8709 \nL 240.821429 223.771395 \nL 240.869749 199.780235 \nL 240.918068 217.600509 \nL 241.014707 209.524442 \nL 241.063026 211.113107 \nL 241.159665 206.306384 \nL 241.207984 210.249868 \nL 241.256304 203.086307 \nL 241.401262 215.331198 \nL 241.497901 213.737346 \nL 241.54622 222.583707 \nL 241.594539 220.802301 \nL 241.739497 209.663091 \nL 241.836136 220.271376 \nL 241.884455 198.841617 \nL 241.932775 218.292185 \nL 241.981094 222.435542 \nL 242.029413 219.066341 \nL 242.077733 215.366726 \nL 242.126052 219.328891 \nL 242.174372 217.420121 \nL 242.222691 174.577307 \nL 242.27101 220.67151 \nL 242.31933 221.872129 \nL 242.464288 204.182159 \nL 242.512607 223.140436 \nL 242.609246 219.627527 \nL 242.657565 223.952034 \nL 242.705884 221.680859 \nL 242.899162 209.948566 \nL 242.947481 223.808651 \nL 242.995801 208.646873 \nL 243.04412 222.126001 \nL 243.237397 211.089512 \nL 243.382355 220.800981 \nL 243.478994 216.567117 \nL 243.575633 222.89484 \nL 243.672272 222.567157 \nL 243.865549 216.983112 \nL 244.010507 223.647925 \nL 244.107146 202.512439 \nL 244.252104 222.729426 \nL 244.300423 221.686426 \nL 244.348743 222.21062 \nL 244.397062 222.491284 \nL 244.445381 217.86247 \nL 244.493701 222.928298 \nL 244.54202 223.972296 \nL 244.686978 170.677084 \nL 244.831936 221.9081 \nL 244.880256 222.793093 \nL 244.928575 206.285949 \nL 244.976894 222.178193 \nL 245.073533 214.211993 \nL 245.170172 212.760186 \nL 245.218491 223.045186 \nL 245.26681 215.686329 \nL 245.31513 223.079908 \nL 245.363449 218.288269 \nL 245.411769 222.91939 \nL 245.508407 223.238434 \nL 245.605046 207.705341 \nL 245.750004 218.156821 \nL 245.798323 223.214621 \nL 245.846643 220.210064 \nL 245.894962 217.673024 \nL 245.991601 223.368314 \nL 246.03992 217.823325 \nL 246.08824 220.086922 \nL 246.136559 220.585147 \nL 246.281517 223.943695 \nL 246.329836 223.364924 \nL 246.378156 223.824176 \nL 246.426475 223.731088 \nL 246.474794 172.045391 \nL 246.523114 223.720927 \nL 246.571433 223.887613 \nL 246.619752 223.806358 \nL 246.716391 218.557171 \nL 246.764711 222.587807 \nL 246.81303 209.585388 \nL 246.861349 224.040853 \nL 246.909669 224.017595 \nL 246.957988 198.372617 \nL 247.006307 221.707072 \nL 247.199585 206.440368 \nL 247.344543 212.832018 \nL 247.392862 212.488291 \nL 247.441182 196.502145 \nL 247.489501 215.05427 \nL 247.58614 208.833366 \nL 247.634459 223.637444 \nL 247.682778 222.977068 \nL 247.779417 202.908002 \nL 247.827736 206.541261 \nL 247.876056 219.737796 \nL 247.924375 209.22242 \nL 247.972694 192.689842 \nL 248.021014 203.159329 \nL 248.117653 222.707774 \nL 248.165972 207.572476 \nL 248.214291 213.766301 \nL 248.262611 217.651267 \nL 248.31093 185.425273 \nL 248.359249 218.966022 \nL 248.407569 219.014589 \nL 248.552527 210.928976 \nL 248.600846 223.629295 \nL 248.649165 221.478896 \nL 248.697485 219.115707 \nL 248.745804 223.528682 \nL 248.794124 220.986482 \nL 248.890762 212.898267 \nL 248.939082 216.623571 \nL 249.03572 223.669051 \nL 249.08404 211.063575 \nL 249.132359 223.27274 \nL 249.228998 215.820345 \nL 249.277317 223.581706 \nL 249.325637 208.897579 \nL 249.373956 215.491847 \nL 249.470595 223.63414 \nL 249.567233 214.701966 \nL 249.663872 223.476557 \nL 249.712191 222.636994 \nL 249.760511 215.322348 \nL 249.80883 222.719512 \nL 249.953788 219.763399 \nL 250.002108 220.480796 \nL 250.147066 214.124346 \nL 250.195385 219.262485 \nL 250.243704 209.259329 \nL 250.292024 216.789631 \nL 250.388662 223.497229 \nL 250.436982 222.047574 \nL 250.485301 221.299182 \nL 250.53362 209.715037 \nL 250.58194 222.921044 \nL 250.678579 213.924156 \nL 250.726898 223.196507 \nL 250.775217 174.794014 \nL 250.823537 215.157757 \nL 250.968495 223.894253 \nL 251.016814 209.073303 \nL 251.065133 217.661798 \nL 251.113453 216.354208 \nL 251.30673 223.303948 \nL 251.35505 214.288918 \nL 251.403369 223.822168 \nL 251.451688 220.338653 \nL 251.500008 223.129502 \nL 251.548327 223.297328 \nL 251.789924 216.209602 \nL 251.934882 223.300541 \nL 251.983201 214.612854 \nL 252.031521 220.955183 \nL 252.07984 223.584609 \nL 252.128159 220.812751 \nL 252.224798 218.389465 \nL 252.369756 224.046501 \nL 252.466395 223.860448 \nL 252.514714 223.289366 \nL 252.563033 211.262602 \nL 252.611353 222.570199 \nL 252.659672 223.939382 \nL 252.707992 223.596395 \nL 252.85295 219.023336 \nL 252.997908 224.032801 \nL 253.046227 197.004235 \nL 253.094546 221.431559 \nL 253.191185 210.216763 \nL 253.239505 211.486754 \nL 253.287824 215.536974 \nL 253.336143 210.897143 \nL 253.384463 213.543177 \nL 253.481101 208.895241 \nL 253.57774 216.922578 \nL 253.626059 206.538913 \nL 253.674379 215.099725 \nL 253.722698 223.610944 \nL 253.771017 223.528572 \nL 253.819337 201.171827 \nL 253.915976 202.059535 \nL 254.012614 219.904409 \nL 254.060934 205.671537 \nL 254.109253 219.457203 \nL 254.157572 218.271536 \nL 254.205892 218.54055 \nL 254.254211 209.057509 \nL 254.30253 221.470627 \nL 254.35085 220.890772 \nL 254.399169 186.685634 \nL 254.447488 220.895606 \nL 254.495808 223.762434 \nL 254.689085 197.891612 \nL 254.737405 223.926323 \nL 254.834043 223.862581 \nL 254.882363 222.1496 \nL 254.930682 223.881072 \nL 254.979001 222.638496 \nL 255.027321 210.72312 \nL 255.07564 219.082423 \nL 255.123959 223.707039 \nL 255.172279 201.641446 \nL 255.220598 223.680957 \nL 255.268918 221.578297 \nL 255.365556 222.881454 \nL 255.413876 207.540097 \nL 255.462195 210.755533 \nL 255.510514 223.943938 \nL 255.607153 220.224182 \nL 255.655472 201.036922 \nL 255.703792 219.918516 \nL 255.752111 223.195774 \nL 255.80043 219.412071 \nL 255.84875 219.353468 \nL 255.897069 219.464083 \nL 255.945389 212.42025 \nL 255.993708 220.053144 \nL 256.138666 216.462775 \nL 256.186985 222.098167 \nL 256.283624 209.411236 \nL 256.331943 220.45783 \nL 256.428582 217.31648 \nL 256.476902 223.807024 \nL 256.57354 222.988267 \nL 256.62186 218.963732 \nL 256.670179 222.231341 \nL 256.718498 223.860816 \nL 256.766818 223.468377 \nL 256.815137 217.684858 \nL 256.863456 184.231238 \nL 256.911776 215.503397 \nL 256.960095 216.21819 \nL 257.008414 208.383343 \nL 257.056734 223.64577 \nL 257.105053 206.514604 \nL 257.201692 219.177206 \nL 257.250011 218.396931 \nL 257.34665 218.003491 \nL 257.394969 223.4827 \nL 257.443289 212.479119 \nL 257.491608 223.466148 \nL 257.539927 219.422585 \nL 257.588247 223.420011 \nL 257.636566 222.346217 \nL 257.684885 222.445402 \nL 257.781524 211.089237 \nL 257.829844 219.444252 \nL 257.926482 217.337529 \nL 257.974802 223.563206 \nL 258.023121 222.416262 \nL 258.07144 214.797932 \nL 258.11976 221.664987 \nL 258.168079 223.572775 \nL 258.216398 222.261486 \nL 258.264718 219.612027 \nL 258.313037 219.948105 \nL 258.457995 224.083886 \nL 258.602953 223.35327 \nL 258.651273 202.499028 \nL 258.699592 222.375224 \nL 258.796231 223.95274 \nL 258.941189 217.748393 \nL 258.989508 218.536186 \nL 259.086147 224.05315 \nL 259.134466 187.171989 \nL 259.182786 220.701987 \nL 259.327744 211.186882 \nL 259.472702 202.424319 \nL 259.56934 220.788672 \nL 259.61766 196.634302 \nL 259.665979 212.946224 \nL 259.714298 218.823417 \nL 259.762618 202.60739 \nL 259.810937 223.864924 \nL 259.859257 210.596968 \nL 259.955895 217.315052 \nL 260.004215 206.444698 \nL 260.052534 217.396758 \nL 260.100853 220.112904 \nL 260.149173 206.02792 \nL 260.197492 214.314264 \nL 260.294131 222.997327 \nL 260.34245 211.807797 \nL 260.39077 222.133405 \nL 260.439089 222.396657 \nL 260.487408 209.356732 \nL 260.535728 220.186113 \nL 260.680686 216.206759 \nL 260.729005 186.939948 \nL 260.777324 222.628488 \nL 260.873963 202.811556 \nL 260.922282 223.988963 \nL 261.018921 221.413382 \nL 261.163879 212.943475 \nL 261.212199 223.583117 \nL 261.260518 208.902494 \nL 261.308837 222.982722 \nL 261.357157 220.859556 \nL 261.405476 201.87533 \nL 261.453795 219.714604 \nL 261.550434 208.916515 \nL 261.647073 223.907228 \nL 261.695392 220.140208 \nL 261.743712 216.85533 \nL 261.84035 223.626439 \nL 261.88867 223.179671 \nL 261.985308 223.199756 \nL 262.033628 214.769149 \nL 262.081947 223.386981 \nL 262.178586 221.595762 \nL 262.226905 220.413359 \nL 262.275224 224.040528 \nL 262.420183 212.858372 \nL 262.565141 223.546599 \nL 262.661779 223.563497 \nL 262.710099 218.126318 \nL 262.758418 223.875359 \nL 262.806737 222.885242 \nL 262.951695 208.503751 \nL 263.096654 224.010804 \nL 263.144973 223.917664 \nL 263.193292 213.477432 \nL 263.241612 222.634626 \nL 263.289931 218.745938 \nL 263.33825 220.320529 \nL 263.38657 222.743448 \nL 263.434889 217.33625 \nL 263.483208 224.002991 \nL 263.531528 218.334979 \nL 263.579847 223.675674 \nL 263.676486 223.556134 \nL 263.821444 218.398146 \nL 263.869763 218.378905 \nL 263.918083 219.792 \nL 263.966402 210.173622 \nL 264.014721 221.989291 \nL 264.11136 223.635587 \nL 264.159679 219.595055 \nL 264.207999 221.736509 \nL 264.256318 223.80272 \nL 264.304638 213.457151 \nL 264.352957 223.353531 \nL 264.401276 222.117118 \nL 264.546234 224.156388 \nL 264.594554 224.036882 \nL 264.642873 224.121812 \nL 264.691192 222.407146 \nL 264.739512 209.374776 \nL 264.787831 222.689128 \nL 264.83615 224.167774 \nL 264.88447 223.538349 \nL 264.932789 221.46331 \nL 264.981109 222.507588 \nL 265.029428 223.238267 \nL 265.077747 221.030263 \nL 265.126067 224.133385 \nL 265.174386 224.096057 \nL 265.222705 200.640195 \nL 265.271025 222.203575 \nL 265.319344 209.47338 \nL 265.367663 209.920414 \nL 265.415983 219.055408 \nL 265.464302 205.657336 \nL 265.560941 208.471703 \nL 265.60926 205.160986 \nL 265.65758 223.210736 \nL 265.705899 203.232473 \nL 265.754218 219.631978 \nL 265.802538 217.908391 \nL 265.850857 206.222373 \nL 265.899176 223.105664 \nL 265.947496 199.065879 \nL 266.044134 201.848735 \nL 266.189092 220.655461 \nL 266.237412 199.945229 \nL 266.285731 204.075989 \nL 266.38237 219.169679 \nL 266.430689 200.693533 \nL 266.479009 220.773434 \nL 266.527328 218.595427 \nL 266.575647 43.44 \nL 266.623967 220.36001 \nL 266.720605 216.979103 \nL 266.817244 198.69916 \nL 266.865563 223.206476 \nL 266.913883 215.357488 \nL 266.962202 177.114338 \nL 267.010522 220.917856 \nL 267.15548 203.969625 \nL 267.252118 202.4922 \nL 267.300438 218.558737 \nL 267.348757 201.215933 \nL 267.397076 218.854541 \nL 267.445396 203.197567 \nL 267.493715 208.873933 \nL 267.542034 205.260873 \nL 267.590354 200.295558 \nL 267.638673 206.080258 \nL 267.686993 219.754748 \nL 267.783631 217.629393 \nL 267.831951 210.621757 \nL 267.88027 213.28408 \nL 267.928589 221.970848 \nL 267.976909 215.961911 \nL 268.025228 211.081811 \nL 268.073547 215.850413 \nL 268.121867 215.956819 \nL 268.170186 211.93364 \nL 268.266825 219.098979 \nL 268.315144 217.940453 \nL 268.363464 219.653581 \nL 268.508422 216.339685 \nL 268.556741 217.351151 \nL 268.60506 216.891 \nL 268.65338 223.340876 \nL 268.750018 223.193837 \nL 268.798338 219.234525 \nL 268.846657 220.957802 \nL 268.894977 223.710733 \nL 269.039935 167.036554 \nL 269.184893 222.996313 \nL 269.233212 222.982336 \nL 269.281531 208.384098 \nL 269.329851 222.284849 \nL 269.37817 221.523677 \nL 269.426489 217.078432 \nL 269.523128 217.277238 \nL 269.668086 223.551299 \nL 269.716406 216.898193 \nL 269.764725 222.932422 \nL 269.813044 223.066652 \nL 269.861364 222.318228 \nL 270.006322 215.168317 \nL 270.054641 213.436643 \nL 270.15128 222.950258 \nL 270.199599 221.448516 \nL 270.247919 215.806126 \nL 270.296238 222.297988 \nL 270.344557 223.772519 \nL 270.392877 218.389132 \nL 270.441196 219.648062 \nL 270.489515 220.076475 \nL 270.537835 223.732073 \nL 270.634473 223.461755 \nL 270.682793 223.965626 \nL 270.731112 223.674776 \nL 270.779431 220.684857 \nL 270.827751 205.336152 \nL 270.87607 221.525374 \nL 270.92439 223.892243 \nL 270.972709 222.952889 \nL 271.021028 219.415581 \nL 271.069348 223.815704 \nL 271.117667 219.988647 \nL 271.262625 224.09311 \nL 271.310944 202.137517 \nL 271.407583 205.125864 \nL 271.504222 208.591332 \nL 271.552541 215.89599 \nL 271.600861 202.035939 \nL 271.64918 215.1711 \nL 271.794138 207.455414 \nL 271.987415 222.273843 \nL 272.035735 223.232924 \nL 272.180693 198.491507 \nL 272.229012 221.437917 \nL 272.277332 220.2094 \nL 272.325651 193.425266 \nL 272.37397 217.685353 \nL 272.470609 220.175232 \nL 272.518928 212.340117 \nL 272.567248 220.693974 \nL 272.615567 217.118595 \nL 272.663886 202.730335 \nL 272.712206 220.934127 \nL 272.760525 222.459388 \nL 272.905483 209.091634 \nL 272.953803 223.931186 \nL 273.002122 201.678847 \nL 273.050441 219.748585 \nL 273.098761 223.639286 \nL 273.14708 216.085295 \nL 273.195399 221.261544 \nL 273.243719 221.236899 \nL 273.340357 212.285086 \nL 273.388677 224.148507 \nL 273.533635 206.419523 \nL 273.630274 219.613807 \nL 273.726912 206.863771 \nL 273.775232 222.793257 \nL 273.87187 218.701797 \nL 273.92019 209.407434 \nL 273.968509 220.796452 \nL 274.016828 221.363276 \nL 274.210106 209.457237 \nL 274.355064 221.27033 \nL 274.403383 215.811954 \nL 274.451703 223.271051 \nL 274.500022 216.959572 \nL 274.548341 208.621741 \nL 274.596661 213.611747 \nL 274.741619 223.644834 \nL 274.838258 223.060743 \nL 274.886577 217.558815 \nL 274.934896 222.080244 \nL 274.983216 223.854093 \nL 275.128174 198.094698 \nL 275.224812 216.569674 \nL 275.273132 209.683819 \nL 275.321451 223.892812 \nL 275.41809 221.652898 \nL 275.514729 216.788862 \nL 275.563048 220.383536 \nL 275.611367 212.947313 \nL 275.756325 223.337436 \nL 275.804645 218.270088 \nL 275.852964 222.89093 \nL 275.901283 222.034315 \nL 275.949603 222.466818 \nL 276.14288 210.493331 \nL 276.239519 223.6205 \nL 276.287838 220.610095 \nL 276.336158 217.16027 \nL 276.432796 223.407609 \nL 276.529435 214.403268 \nL 276.626074 224.071302 \nL 276.674393 223.870252 \nL 276.722713 224.092044 \nL 276.771032 224.068597 \nL 276.819351 223.86824 \nL 276.867671 222.038163 \nL 276.91599 205.129359 \nL 276.964309 223.75227 \nL 277.012629 223.966609 \nL 277.060948 223.955663 \nL 277.109267 222.486458 \nL 277.157587 224.029485 \nL 277.205906 222.745173 \nL 277.350864 224.104203 \nL 277.399184 199.442832 \nL 277.447503 223.541488 \nL 277.592461 212.205243 \nL 277.64078 217.796298 \nL 277.785738 196.025647 \nL 277.930696 219.328002 \nL 278.027335 214.389208 \nL 278.075655 223.728297 \nL 278.123974 218.335834 \nL 278.172293 219.101466 \nL 278.268932 202.06293 \nL 278.317251 213.711009 \nL 278.365571 219.641409 \nL 278.41389 205.406177 \nL 278.462209 218.54255 \nL 278.558848 221.63762 \nL 278.607167 219.977998 \nL 278.655487 208.119602 \nL 278.703806 208.916902 \nL 278.752126 48.308258 \nL 278.800445 220.848978 \nL 278.848764 222.293153 \nL 279.042042 198.876224 \nL 279.187 222.972226 \nL 279.235319 220.1664 \nL 279.283639 223.497478 \nL 279.428597 214.471419 \nL 279.476916 223.630509 \nL 279.525235 213.492131 \nL 279.573555 221.819697 \nL 279.766832 210.602125 \nL 279.815151 212.29575 \nL 279.863471 223.218305 \nL 279.91179 211.519326 \nL 279.96011 220.077549 \nL 280.008429 207.947106 \nL 280.056748 218.809366 \nL 280.105068 222.578348 \nL 280.153387 218.110555 \nL 280.201706 221.923001 \nL 280.250026 222.880478 \nL 280.346664 213.792773 \nL 280.394984 215.300672 \nL 280.539942 223.844822 \nL 280.588261 214.531619 \nL 280.636581 223.391243 \nL 280.733219 208.232768 \nL 280.878177 223.511785 \nL 280.926497 223.253223 \nL 280.974816 216.463899 \nL 281.023135 223.368923 \nL 281.168093 215.281299 \nL 281.216413 196.265319 \nL 281.264732 213.787935 \nL 281.313052 214.362199 \nL 281.40969 223.900828 \nL 281.45801 209.993345 \nL 281.554648 213.791981 \nL 281.747926 223.992406 \nL 281.796245 217.988328 \nL 281.844564 223.711269 \nL 281.892884 220.021967 \nL 281.941203 223.14261 \nL 282.086161 218.746833 \nL 282.134481 216.270748 \nL 282.1828 221.050172 \nL 282.231119 213.393203 \nL 282.279439 221.124141 \nL 282.327758 222.868037 \nL 282.376077 222.555481 \nL 282.472716 221.652119 \nL 282.521035 223.931275 \nL 282.569355 223.48227 \nL 282.617674 217.922571 \nL 282.665994 218.678481 \nL 282.810952 224.084272 \nL 282.90759 224.034875 \nL 282.95591 223.26578 \nL 283.004229 197.174275 \nL 283.052548 223.705188 \nL 283.100868 224.182764 \nL 283.149187 224.116937 \nL 283.197507 222.238199 \nL 283.245826 222.749723 \nL 283.294145 224.110689 \nL 283.342465 206.803944 \nL 283.390784 224.013779 \nL 283.439103 224.172459 \nL 283.487423 201.268973 \nL 283.535742 223.327385 \nL 283.632381 207.226814 \nL 283.729019 211.675852 \nL 283.825658 217.437183 \nL 283.970616 208.851775 \nL 284.163894 223.76098 \nL 284.260532 213.347203 \nL 284.357171 201.384241 \nL 284.40549 222.601884 \nL 284.45381 219.092791 \nL 284.502129 197.41299 \nL 284.550449 208.172278 \nL 284.647087 224.030196 \nL 284.695407 216.896351 \nL 284.743726 219.914316 \nL 284.792045 217.25047 \nL 284.840365 209.97128 \nL 284.888684 221.777251 \nL 284.937003 220.378081 \nL 285.033642 214.262479 \nL 285.081961 202.608023 \nL 285.130281 204.57683 \nL 285.275239 223.429994 \nL 285.420197 210.09207 \nL 285.516836 211.283788 \nL 285.565155 222.677148 \nL 285.613474 209.014588 \nL 285.661794 222.377206 \nL 285.806752 210.550329 \nL 285.855071 211.203137 \nL 285.903391 208.432613 \nL 286.000029 222.936646 \nL 286.048349 218.635754 \nL 286.096668 212.141846 \nL 286.144987 220.059577 \nL 286.193307 221.165613 \nL 286.241626 214.343237 \nL 286.289945 222.397785 \nL 286.338265 222.348371 \nL 286.386584 216.866892 \nL 286.483223 217.422062 \nL 286.628181 223.210533 \nL 286.773139 209.778012 \nL 286.918097 223.880037 \nL 286.966416 222.809162 \nL 287.014736 223.163179 \nL 287.063055 216.423593 \nL 287.111375 222.09088 \nL 287.159694 221.413956 \nL 287.208013 215.010509 \nL 287.256333 223.516352 \nL 287.304652 175.401551 \nL 287.352971 211.779663 \nL 287.497929 223.68822 \nL 287.546249 206.702289 \nL 287.594568 223.96525 \nL 287.691207 220.150068 \nL 287.739526 223.447945 \nL 287.787846 219.979818 \nL 287.836165 223.363721 \nL 287.884484 218.715416 \nL 287.981123 220.021323 \nL 288.029442 222.923707 \nL 288.126081 222.242219 \nL 288.271039 215.025617 \nL 288.319358 214.933705 \nL 288.464317 223.485287 \nL 288.512636 212.044509 \nL 288.560955 221.196442 \nL 288.609275 223.662352 \nL 288.657594 215.860668 \nL 288.705913 218.346332 \nL 288.802552 224.051252 \nL 288.850871 223.995524 \nL 288.899191 224.143769 \nL 288.94751 224.00959 \nL 288.995829 223.961076 \nL 289.044149 223.349153 \nL 289.092468 214.080316 \nL 289.140788 222.364184 \nL 289.189107 224.110315 \nL 289.237426 223.761816 \nL 289.285746 220.302332 \nL 289.334065 223.519941 \nL 289.382384 224.212191 \nL 289.479023 224.076805 \nL 289.527342 224.019099 \nL 289.575662 195.85552 \nL 289.623981 223.719428 \nL 289.768939 194.768114 \nL 289.817259 214.133927 \nL 289.913897 211.646325 \nL 290.058855 202.300899 \nL 290.107175 219.05201 \nL 290.155494 217.636372 \nL 290.203813 212.896399 \nL 290.300452 222.939015 \nL 290.44541 207.467173 \nL 290.542049 220.110109 \nL 290.590368 200.185737 \nL 290.638688 214.112252 \nL 290.735326 223.720616 \nL 290.783646 222.75062 \nL 290.831965 221.597868 \nL 290.880284 214.122771 \nL 290.928604 82.962298 \nL 290.976923 220.683425 \nL 291.121881 215.924282 \nL 291.170201 197.537712 \nL 291.21852 223.713326 \nL 291.315159 221.137865 \nL 291.363478 223.714744 \nL 291.411797 217.044766 \nL 291.460117 224.053022 \nL 291.508436 221.884122 \nL 291.556755 208.516335 \nL 291.605075 208.643329 \nL 291.653394 223.851543 \nL 291.750033 223.191311 \nL 291.798352 221.912566 \nL 291.94331 197.993389 \nL 292.088268 223.90895 \nL 292.184907 216.150953 \nL 292.281546 223.597132 \nL 292.329865 215.722035 \nL 292.378185 222.415524 \nL 292.426504 221.214093 \nL 292.571462 216.005717 \nL 292.71642 224.151062 \nL 292.861378 213.873546 \nL 293.006336 223.873155 \nL 293.151294 217.674521 \nL 293.199614 222.771633 \nL 293.247933 217.078448 \nL 293.344572 219.578772 \nL 293.392891 202.511143 \nL 293.44121 211.54872 \nL 293.586168 223.248623 \nL 293.634488 216.565422 \nL 293.682807 223.396304 \nL 293.731127 218.153741 \nL 293.827765 221.75838 \nL 293.876085 215.457138 \nL 293.924404 223.515054 \nL 293.972723 219.552834 \nL 294.021043 223.601915 \nL 294.069362 220.575594 \nL 294.21432 223.5119 \nL 294.359278 215.62136 \nL 294.504236 223.86015 \nL 294.552556 223.434221 \nL 294.600875 219.981906 \nL 294.649194 223.233662 \nL 294.697514 223.846354 \nL 294.794152 215.250342 \nL 294.98743 224.237415 \nL 295.132388 224.062408 \nL 295.180707 218.693301 \nL 295.229027 224.159778 \nL 295.277346 224.227852 \nL 295.325665 224.15891 \nL 295.373985 221.458142 \nL 295.422304 224.141607 \nL 295.470623 224.223633 \nL 295.518943 215.557381 \nL 295.567262 224.237527 \nL 295.615582 224.111357 \nL 295.663901 175.614506 \nL 295.71222 221.938322 \nL 295.857178 202.594589 \nL 295.905498 214.50316 \nL 296.002136 213.451607 \nL 296.050456 214.340946 \nL 296.147094 207.527031 \nL 296.195414 221.303349 \nL 296.243733 214.416304 \nL 296.292053 214.102013 \nL 296.388691 223.574798 \nL 296.533649 206.929973 \nL 296.630288 218.467864 \nL 296.678607 192.58714 \nL 296.726927 211.945689 \nL 296.823565 223.332816 \nL 296.871885 204.945661 \nL 296.920204 223.097962 \nL 296.968524 221.925884 \nL 297.016843 176.772721 \nL 297.065162 221.158083 \nL 297.113482 216.192202 \nL 297.161801 220.273585 \nL 297.25844 214.032805 \nL 297.306759 224.079619 \nL 297.355078 205.140409 \nL 297.451717 207.679914 \nL 297.548356 221.241598 \nL 297.596675 218.148445 \nL 297.644995 221.500608 \nL 297.693314 213.329904 \nL 297.789953 215.154158 \nL 297.838272 222.930981 \nL 297.886591 219.52846 \nL 298.079869 209.572894 \nL 298.128188 223.247182 \nL 298.176507 220.664487 \nL 298.273146 214.330039 \nL 298.369785 222.242165 \nL 298.418104 219.491934 \nL 298.466424 223.073768 \nL 298.563062 214.770821 \nL 298.611382 216.459822 \nL 298.659701 215.452937 \nL 298.804659 223.776394 \nL 298.997937 206.170203 \nL 299.094575 224.016237 \nL 299.142895 222.741797 \nL 299.191214 223.616246 \nL 299.239533 219.611239 \nL 299.287853 222.279664 \nL 299.336172 222.760819 \nL 299.384491 221.738788 \nL 299.432811 223.512814 \nL 299.48113 170.150355 \nL 299.52945 211.960638 \nL 299.626088 214.024489 \nL 299.674408 223.029425 \nL 299.819366 201.092087 \nL 299.867685 205.504238 \nL 300.012643 221.976081 \nL 300.060962 220.044266 \nL 300.109282 223.40927 \nL 300.157601 216.386611 \nL 300.205921 222.456885 \nL 300.25424 222.706252 \nL 300.302559 223.584648 \nL 300.544156 197.758917 \nL 300.592475 223.640172 \nL 300.640795 204.70405 \nL 300.785753 224.081796 \nL 300.834072 219.192307 \nL 300.882392 210.333715 \nL 300.930711 214.249357 \nL 301.075669 224.139508 \nL 301.172308 224.101715 \nL 301.220627 223.629938 \nL 301.268946 219.663432 \nL 301.317266 224.052415 \nL 301.413904 224.122962 \nL 301.462224 220.262784 \nL 301.510543 222.046995 \nL 301.655501 224.143364 \nL 301.703821 224.166359 \nL 301.75214 203.04572 \nL 301.800459 223.639924 \nL 301.897098 195.908101 \nL 301.945417 209.643556 \nL 301.993737 217.611436 \nL 302.042056 212.154325 \nL 302.090376 200.122466 \nL 302.138695 206.018693 \nL 302.187014 214.213328 \nL 302.235334 205.338369 \nL 302.428611 223.46062 \nL 302.47693 222.477047 \nL 302.573569 204.562064 \nL 302.621888 209.345102 \nL 302.718527 218.80815 \nL 302.766847 187.821941 \nL 302.815166 220.641616 \nL 302.911805 218.878807 \nL 302.960124 178.871143 \nL 303.008443 221.91151 \nL 303.056763 222.270172 \nL 303.105082 196.927816 \nL 303.153401 219.930697 \nL 303.201721 220.274791 \nL 303.443318 203.40425 \nL 303.588276 221.349326 \nL 303.636595 218.956399 \nL 303.781553 196.174838 \nL 303.829872 223.974554 \nL 303.926511 222.307713 \nL 304.071469 208.424347 \nL 304.216427 219.889645 \nL 304.264747 216.46927 \nL 304.313066 217.379351 \nL 304.361385 214.661632 \nL 304.458024 222.417024 \nL 304.506343 220.117801 \nL 304.554663 220.902744 \nL 304.699621 214.787095 \nL 304.74794 213.21262 \nL 304.844579 221.474781 \nL 304.892898 218.422143 \nL 304.941218 215.60078 \nL 304.989537 222.263235 \nL 305.037856 221.471961 \nL 305.086176 215.965712 \nL 305.134495 218.314572 \nL 305.182814 223.904275 \nL 305.279453 223.689245 \nL 305.327772 211.85353 \nL 305.376092 224.137847 \nL 305.472731 211.957979 \nL 305.52105 217.27077 \nL 305.569369 175.016132 \nL 305.617689 212.705591 \nL 305.714327 221.452123 \nL 305.762647 220.386759 \nL 305.859285 221.740437 \nL 305.907605 201.39794 \nL 305.955924 214.241005 \nL 306.004244 191.823071 \nL 306.052563 211.064079 \nL 306.100882 222.855085 \nL 306.197521 222.371698 \nL 306.24584 217.925245 \nL 306.29416 221.134161 \nL 306.342479 222.537978 \nL 306.390798 221.841157 \nL 306.487437 215.155852 \nL 306.535756 215.66097 \nL 306.584076 216.635482 \nL 306.632395 214.49519 \nL 306.729034 222.956035 \nL 306.777353 218.472928 \nL 306.825673 221.156224 \nL 306.922311 223.837619 \nL 306.970631 216.070495 \nL 307.01895 221.039996 \nL 307.115589 223.971378 \nL 307.163908 221.901159 \nL 307.212227 224.183452 \nL 307.260547 224.115378 \nL 307.308866 222.90802 \nL 307.357186 201.420758 \nL 307.405505 221.490012 \nL 307.502144 224.038907 \nL 307.598782 221.226894 \nL 307.695421 221.200077 \nL 307.74374 224.059506 \nL 307.79206 224.210097 \nL 307.840379 195.765016 \nL 307.888698 223.406935 \nL 308.033657 194.165135 \nL 308.081976 210.540797 \nL 308.178615 209.759103 \nL 308.226934 211.161537 \nL 308.275253 201.991149 \nL 308.323573 210.123423 \nL 308.420211 219.585277 \nL 308.468531 215.817863 \nL 308.51685 223.209492 \nL 308.565169 216.535095 \nL 308.661808 211.569483 \nL 308.710128 197.48988 \nL 308.758447 220.706522 \nL 308.806766 220.369767 \nL 308.855086 206.200172 \nL 308.903405 216.428419 \nL 308.951724 216.811668 \nL 309.000044 223.101508 \nL 309.048363 217.209322 \nL 309.096682 219.683473 \nL 309.145002 219.320808 \nL 309.193321 172.747336 \nL 309.24164 220.620121 \nL 309.28996 220.53098 \nL 309.386599 216.053788 \nL 309.434918 196.109948 \nL 309.483237 222.54811 \nL 309.579876 217.970918 \nL 309.628195 223.962274 \nL 309.724834 223.509163 \nL 309.821473 215.132516 \nL 309.869792 206.002599 \nL 309.918112 223.992952 \nL 310.01475 220.892101 \nL 310.208028 209.737093 \nL 310.256347 196.967829 \nL 310.352986 223.457062 \nL 310.401305 217.083112 \nL 310.449624 214.195568 \nL 310.546263 223.004191 \nL 310.642902 222.885876 \nL 310.739541 213.646663 \nL 310.78786 219.567381 \nL 310.836179 217.385101 \nL 310.884499 213.670358 \nL 310.981137 223.96905 \nL 311.029457 210.916863 \nL 311.077776 219.51326 \nL 311.126095 218.460514 \nL 311.271054 223.977135 \nL 311.367692 222.352652 \nL 311.416012 214.845641 \nL 311.464331 222.575991 \nL 311.51265 217.582962 \nL 311.56097 223.386477 \nL 311.609289 219.858484 \nL 311.657608 202.541958 \nL 311.705928 211.178616 \nL 311.850886 223.725452 \nL 311.899205 206.129602 \nL 311.947525 223.801 \nL 311.995844 223.165114 \nL 312.044163 216.041073 \nL 312.092483 222.183337 \nL 312.140802 221.853805 \nL 312.189121 223.571291 \nL 312.237441 217.37473 \nL 312.28576 223.979173 \nL 312.334079 219.19795 \nL 312.382399 223.063508 \nL 312.479037 222.798621 \nL 312.527357 217.796711 \nL 312.575676 219.276343 \nL 312.623996 219.792945 \nL 312.672315 216.362516 \nL 312.720634 220.650555 \nL 312.817273 223.727361 \nL 312.865592 218.218512 \nL 312.913912 221.801719 \nL 312.962231 224.002029 \nL 313.01055 223.698697 \nL 313.05887 217.752916 \nL 313.107189 218.821622 \nL 313.252147 224.222029 \nL 313.348786 224.137926 \nL 313.397105 223.981126 \nL 313.445425 209.285403 \nL 313.493744 223.893115 \nL 313.542063 224.219902 \nL 313.590383 224.08056 \nL 313.638702 221.554463 \nL 313.687021 222.949274 \nL 313.880299 224.222744 \nL 313.928618 189.356229 \nL 313.976938 222.812073 \nL 314.121896 201.379128 \nL 314.170215 210.556476 \nL 314.218534 210.290074 \nL 314.266854 211.635793 \nL 314.363492 222.910578 \nL 314.411812 206.365959 \nL 314.508451 208.809709 \nL 314.55677 206.324986 \nL 314.653409 224.061353 \nL 314.798367 202.398199 \nL 314.846686 220.190384 \nL 314.895005 219.047173 \nL 314.943325 211.871224 \nL 314.991644 218.170685 \nL 315.088283 222.77915 \nL 315.136602 198.609387 \nL 315.184922 221.669829 \nL 315.233241 222.470177 \nL 315.28156 200.962522 \nL 315.32988 221.102106 \nL 315.523157 204.663685 \nL 315.668115 218.219104 \nL 315.716434 217.498725 \nL 315.764754 214.878968 \nL 315.813073 221.931899 \nL 315.861393 216.796946 \nL 315.909712 217.476797 \nL 315.958031 220.693984 \nL 316.006351 220.37099 \nL 316.05467 215.455184 \nL 316.102989 223.016952 \nL 316.151309 219.07097 \nL 316.199628 214.098164 \nL 316.247947 222.064693 \nL 316.296267 202.649501 \nL 316.344586 212.601887 \nL 316.441225 223.793316 \nL 316.489544 220.992699 \nL 316.537864 213.870754 \nL 316.586183 220.943957 \nL 316.634502 221.683182 \nL 316.682822 216.087522 \nL 316.731141 219.453726 \nL 316.77946 223.867571 \nL 316.924418 212.588046 \nL 317.069376 222.709734 \nL 317.117696 216.055514 \nL 317.214335 217.784163 \nL 317.359293 223.398619 \nL 317.407612 222.808987 \nL 317.455931 223.287532 \nL 317.649209 212.795329 \nL 317.697528 215.36541 \nL 317.745848 204.957886 \nL 317.794167 215.497756 \nL 317.939125 223.388743 \nL 317.987444 213.722482 \nL 318.035764 222.538995 \nL 318.084083 222.113404 \nL 318.132402 218.389209 \nL 318.27736 223.825764 \nL 318.32568 219.169632 \nL 318.373999 223.668879 \nL 318.422319 220.612115 \nL 318.470638 223.956669 \nL 318.712235 214.719702 \nL 318.905512 223.759501 \nL 318.953831 219.69451 \nL 319.002151 221.379634 \nL 319.05047 224.130329 \nL 319.09879 223.075793 \nL 319.147109 219.518098 \nL 319.195428 220.955624 \nL 319.340386 224.259548 \nL 319.485344 224.110456 \nL 319.533664 221.239336 \nL 319.581983 224.16275 \nL 319.630302 224.272098 \nL 319.678622 224.247053 \nL 319.82358 220.362009 \nL 319.920219 224.260711 \nL 319.968538 224.17128 \nL 320.016857 176.558636 \nL 320.065177 222.176157 \nL 320.210135 201.548775 \nL 320.306773 212.60411 \nL 320.355093 199.085071 \nL 320.451732 201.0111 \nL 320.54837 218.840226 \nL 320.59669 218.404249 \nL 320.645009 211.567105 \nL 320.693328 220.580105 \nL 320.741648 215.368828 \nL 320.838286 207.244166 \nL 320.983244 221.117886 \nL 321.031564 207.138229 \nL 321.079883 214.160086 \nL 321.32148 221.642557 \nL 321.369799 187.495828 \nL 321.418119 221.343259 \nL 321.514757 218.269426 \nL 321.659716 202.729217 \nL 321.804674 223.505729 \nL 321.901312 219.454835 \nL 321.949632 208.615545 \nL 321.997951 220.30626 \nL 322.04627 215.821929 \nL 322.09459 223.280323 \nL 322.142909 212.573027 \nL 322.191228 222.76979 \nL 322.239548 220.269383 \nL 322.384506 206.491801 \nL 322.432825 209.663332 \nL 322.481145 223.365867 \nL 322.577783 221.267034 \nL 322.626103 215.644729 \nL 322.674422 222.243662 \nL 322.722741 223.080833 \nL 322.771061 219.097392 \nL 322.81938 223.970831 \nL 322.964338 217.679392 \nL 323.012658 219.568603 \nL 323.060977 221.805041 \nL 323.109296 218.477039 \nL 323.157616 223.631162 \nL 323.254254 215.114796 \nL 323.302574 221.863509 \nL 323.399212 221.594523 \nL 323.447532 223.844304 \nL 323.54417 223.247782 \nL 323.59249 214.909281 \nL 323.640809 222.108725 \nL 323.785767 222.857263 \nL 323.834087 201.457577 \nL 323.882406 214.000969 \nL 323.930725 218.335701 \nL 323.979045 208.246726 \nL 324.124003 224.166655 \nL 324.172322 219.233242 \nL 324.220641 221.970568 \nL 324.268961 223.777235 \nL 324.413919 215.169517 \nL 324.462238 223.638901 \nL 324.558877 223.057526 \nL 324.607196 222.962616 \nL 324.655516 223.40363 \nL 324.752154 215.669751 \nL 324.800474 218.43687 \nL 324.848793 216.22833 \nL 324.897113 218.185119 \nL 324.993751 223.675307 \nL 325.042071 216.614189 \nL 325.09039 221.689031 \nL 325.138709 223.997601 \nL 325.187029 221.176282 \nL 325.235348 218.186583 \nL 325.380306 224.094289 \nL 325.428625 224.280318 \nL 325.476945 224.178098 \nL 325.573584 224.083414 \nL 325.621903 220.646498 \nL 325.670222 223.708275 \nL 325.718542 224.264884 \nL 325.766861 224.184409 \nL 325.81518 220.275461 \nL 325.8635 223.53672 \nL 325.911819 223.295186 \nL 326.008458 224.274908 \nL 326.056777 224.185835 \nL 326.105096 199.707861 \nL 326.153416 219.553384 \nL 326.250055 214.553096 \nL 326.395013 199.170988 \nL 326.443332 201.591225 \nL 326.491651 200.878249 \nL 326.539971 221.276812 \nL 326.58829 197.228741 \nL 326.781567 224.033511 \nL 326.829887 222.38458 \nL 326.926526 210.323037 \nL 326.974845 216.274011 \nL 327.023164 216.760152 \nL 327.071484 221.858044 \nL 327.119803 211.25591 \nL 327.168122 221.206723 \nL 327.216442 219.481833 \nL 327.264761 222.731634 \nL 327.31308 206.761463 \nL 327.3614 222.647964 \nL 327.409719 220.902839 \nL 327.458038 209.523535 \nL 327.506358 222.316422 \nL 327.699635 202.46814 \nL 327.747955 223.154288 \nL 327.844593 219.970175 \nL 327.892913 224.162898 \nL 327.989551 224.004698 \nL 328.134509 209.663005 \nL 328.182829 224.102918 \nL 328.231148 208.11207 \nL 328.279468 223.513941 \nL 328.327787 220.850955 \nL 328.376106 205.436263 \nL 328.472745 206.046551 \nL 328.521064 206.813585 \nL 328.617703 221.692624 \nL 328.666022 216.573718 \nL 328.714342 216.474204 \nL 328.762661 211.910352 \nL 328.810981 221.059531 \nL 328.8593 199.528382 \nL 328.907619 218.413488 \nL 329.004258 200.192087 \nL 329.100897 217.856009 \nL 329.149216 216.866921 \nL 329.197535 215.244665 \nL 329.245855 224.078323 \nL 329.294174 213.862415 \nL 329.535771 223.737744 \nL 329.58409 223.65632 \nL 329.63241 223.698332 \nL 329.680729 214.394357 \nL 329.729048 223.935986 \nL 329.777368 216.860595 \nL 329.825687 222.023864 \nL 329.874006 219.663386 \nL 329.922326 201.325633 \nL 329.970645 214.102789 \nL 330.115603 224.08546 \nL 330.163923 215.076032 \nL 330.212242 222.339513 \nL 330.260561 221.220333 \nL 330.308881 221.651578 \nL 330.3572 224.178912 \nL 330.405519 216.851381 \nL 330.502158 218.219368 \nL 330.647116 223.867794 \nL 330.792074 216.594286 \nL 330.840394 219.905723 \nL 330.888713 220.289873 \nL 330.985352 216.82196 \nL 331.08199 223.895 \nL 331.13031 223.230512 \nL 331.178629 222.047132 \nL 331.226948 223.905241 \nL 331.275268 221.617865 \nL 331.323587 218.431131 \nL 331.371906 220.926811 \nL 331.516865 224.281667 \nL 331.661823 224.241757 \nL 331.710142 218.345199 \nL 331.758461 224.244436 \nL 331.806781 224.210774 \nL 331.8551 224.305569 \nL 331.903419 222.258211 \nL 331.951739 224.240606 \nL 332.000058 224.234186 \nL 332.048377 223.861304 \nL 332.096697 224.292322 \nL 332.145016 224.29869 \nL 332.193336 186.963264 \nL 332.241655 222.877203 \nL 332.338294 211.985251 \nL 332.386613 212.977299 \nL 332.434932 216.405589 \nL 332.483252 214.580531 \nL 332.531571 214.131159 \nL 332.57989 184.154965 \nL 332.62821 216.972723 \nL 332.676529 208.675133 \nL 332.724849 219.126609 \nL 332.773168 219.163866 \nL 332.821487 213.173865 \nL 332.869807 224.023013 \nL 332.918126 219.419868 \nL 332.966445 205.355402 \nL 333.063084 208.739824 \nL 333.111403 221.041512 \nL 333.159723 220.704359 \nL 333.208042 203.716063 \nL 333.256361 209.999664 \nL 333.304681 223.382328 \nL 333.353 223.225876 \nL 333.40132 213.283211 \nL 333.449639 222.121074 \nL 333.497958 221.713013 \nL 333.546278 201.858465 \nL 333.594597 221.727318 \nL 333.642916 223.255594 \nL 333.836194 206.981485 \nL 333.981152 223.969958 \nL 334.12611 213.840179 \nL 334.222749 217.280324 \nL 334.271068 214.652801 \nL 334.319387 214.690924 \nL 334.367707 222.383141 \nL 334.416026 216.326612 \nL 334.464345 215.449437 \nL 334.512665 221.784523 \nL 334.609303 200.189629 \nL 334.705942 224.034246 \nL 334.754262 215.720016 \nL 334.802581 216.088711 \nL 334.89922 223.963647 \nL 334.947539 223.07482 \nL 334.995858 223.119233 \nL 335.044178 222.85658 \nL 335.092497 220.270643 \nL 335.189136 220.355751 \nL 335.237455 219.97718 \nL 335.285774 216.162788 \nL 335.334094 222.834825 \nL 335.430733 212.55206 \nL 335.62401 224.051381 \nL 335.720649 223.319883 \nL 335.768968 217.310297 \nL 335.817287 223.713432 \nL 335.865607 221.631237 \nL 335.962245 223.300691 \nL 336.010565 198.341017 \nL 336.155523 220.846777 \nL 336.203842 223.443587 \nL 336.252162 214.489646 \nL 336.300481 223.552125 \nL 336.39712 220.690614 \nL 336.445439 223.234707 \nL 336.542078 223.537145 \nL 336.590397 217.808942 \nL 336.638717 223.622255 \nL 336.735355 223.521801 \nL 336.831994 223.866941 \nL 336.928633 215.508226 \nL 336.976952 220.757788 \nL 337.073591 220.01612 \nL 337.170229 223.745206 \nL 337.218549 214.488719 \nL 337.266868 222.099247 \nL 337.315188 224.009667 \nL 337.411826 216.678926 \nL 337.508465 224.197395 \nL 337.556784 224.1446 \nL 337.653423 224.270727 \nL 337.750062 224.020243 \nL 337.798381 219.840183 \nL 337.8467 222.398434 \nL 337.89502 224.214347 \nL 337.943339 223.866709 \nL 338.088297 219.195365 \nL 338.233255 224.297596 \nL 338.281575 206.08228 \nL 338.329894 219.276745 \nL 338.474852 213.530137 \nL 338.523171 213.672718 \nL 338.571491 214.194828 \nL 338.716449 202.264169 \nL 339.006365 223.043344 \nL 339.151323 210.080788 \nL 339.247962 221.636545 \nL 339.296281 209.90702 \nL 339.344601 222.63099 \nL 339.441239 223.750447 \nL 339.489559 217.499169 \nL 339.537878 223.184308 \nL 339.586197 211.15998 \nL 339.634517 153.948327 \nL 339.682836 222.220269 \nL 339.827794 217.382949 \nL 339.876113 206.000357 \nL 339.924433 224.079536 \nL 340.021072 220.171816 \nL 340.069391 217.636103 \nL 340.214349 222.974913 \nL 340.310988 210.757698 \nL 340.359307 224.244947 \nL 340.455946 222.626678 \nL 340.552585 219.16929 \nL 340.600904 223.865543 \nL 340.649223 209.370297 \nL 340.697543 209.536149 \nL 340.794181 221.208559 \nL 340.842501 218.703833 \nL 340.939139 218.619612 \nL 341.132417 223.83876 \nL 341.180736 212.743422 \nL 341.229056 223.338783 \nL 341.277375 222.668161 \nL 341.325694 218.852884 \nL 341.374014 221.100536 \nL 341.422333 224.151912 \nL 341.470652 216.397628 \nL 341.518972 217.934691 \nL 341.712249 224.043689 \nL 341.857207 216.364114 \nL 341.953846 223.764681 \nL 342.098804 202.57651 \nL 342.147123 212.248713 \nL 342.292081 224.068246 \nL 342.340401 210.60324 \nL 342.38872 224.172315 \nL 342.533678 217.016185 \nL 342.581998 218.634474 \nL 342.630317 224.167085 \nL 342.678636 217.851903 \nL 342.726956 223.992715 \nL 342.871914 218.18483 \nL 342.920233 223.452393 \nL 342.968552 215.016622 \nL 343.065191 215.086371 \nL 343.11351 215.787122 \nL 343.258469 222.993322 \nL 343.306788 218.187744 \nL 343.355107 221.866304 \nL 343.403427 224.035074 \nL 343.500065 218.947493 \nL 343.548385 220.022294 \nL 343.693343 224.314378 \nL 343.789981 224.240289 \nL 343.838301 224.178645 \nL 343.88662 222.498854 \nL 343.93494 224.114785 \nL 344.031578 224.292828 \nL 344.079898 220.800457 \nL 344.128217 224.200559 \nL 344.224856 215.95979 \nL 344.321494 224.239931 \nL 344.369814 206.591434 \nL 344.418133 224.099341 \nL 344.563091 206.07599 \nL 344.65973 209.559478 \nL 344.804688 212.474994 \nL 344.853007 209.494198 \nL 344.901327 220.249534 \nL 344.997965 219.194767 \nL 345.094604 222.702986 \nL 345.239562 188.952979 \nL 345.336201 221.166709 \nL 345.38452 201.982464 \nL 345.43284 220.458468 \nL 345.481159 223.656114 \nL 345.529478 223.175446 \nL 345.577798 217.645639 \nL 345.626117 220.892721 \nL 345.674436 222.508022 \nL 345.722756 206.749749 \nL 345.771075 220.110007 \nL 345.964353 209.537283 \nL 346.012672 221.506242 \nL 346.060991 218.606746 \nL 346.109311 209.548869 \nL 346.15763 223.99219 \nL 346.254269 220.007857 \nL 346.302588 221.041216 \nL 346.399227 205.523563 \nL 346.447546 223.470502 \nL 346.544185 223.308586 \nL 346.640824 213.583275 \nL 346.737462 214.146959 \nL 346.834101 223.158056 \nL 346.88242 220.604814 \nL 346.93074 213.964924 \nL 346.979059 216.788331 \nL 347.027378 216.991416 \nL 347.075698 223.060212 \nL 347.172337 222.862838 \nL 347.220656 223.619632 \nL 347.365614 217.279794 \nL 347.413933 218.972556 \nL 347.462253 216.538339 \nL 347.510572 224.14383 \nL 347.558891 211.472477 \nL 347.65553 214.243567 \nL 347.800488 224.001763 \nL 347.897127 223.485314 \nL 347.945446 216.451089 \nL 347.993766 223.533962 \nL 348.042085 224.185851 \nL 348.138724 220.795778 \nL 348.235362 181.650467 \nL 348.380321 223.863029 \nL 348.42864 211.769554 \nL 348.476959 221.934231 \nL 348.670237 210.668521 \nL 348.815195 223.859054 \nL 348.863514 215.300892 \nL 348.911833 223.373576 \nL 349.056792 216.23052 \nL 349.105111 206.668441 \nL 349.15343 221.090085 \nL 349.20175 212.441635 \nL 349.298388 223.274198 \nL 349.346708 222.939518 \nL 349.395027 215.111248 \nL 349.443346 222.957449 \nL 349.491666 223.81175 \nL 349.539985 223.618969 \nL 349.588304 214.260497 \nL 349.636624 221.026029 \nL 349.684943 224.047866 \nL 349.684943 224.047866 \n\" style=\"fill:none;stroke:#0000ff;stroke-linecap:square;stroke-width:1.5;\"/>\n   </g>\n   <g id=\"patch_3\">\n    <path d=\"M 30.103125 224.64 \nL 30.103125 7.2 \n\" style=\"fill:none;stroke:#000000;stroke-linecap:square;stroke-linejoin:miter;stroke-width:0.8;\"/>\n   </g>\n   <g id=\"patch_4\">\n    <path d=\"M 364.903125 224.64 \nL 364.903125 7.2 \n\" style=\"fill:none;stroke:#000000;stroke-linecap:square;stroke-linejoin:miter;stroke-width:0.8;\"/>\n   </g>\n   <g id=\"patch_5\">\n    <path d=\"M 30.103125 224.64 \nL 364.903125 224.64 \n\" style=\"fill:none;stroke:#000000;stroke-linecap:square;stroke-linejoin:miter;stroke-width:0.8;\"/>\n   </g>\n   <g id=\"patch_6\">\n    <path d=\"M 30.103125 7.2 \nL 364.903125 7.2 \n\" style=\"fill:none;stroke:#000000;stroke-linecap:square;stroke-linejoin:miter;stroke-width:0.8;\"/>\n   </g>\n  </g>\n </g>\n <defs>\n  <clipPath id=\"pe2a732b016\">\n   <rect height=\"217.44\" width=\"334.8\" x=\"30.103125\" y=\"7.2\"/>\n  </clipPath>\n </defs>\n</svg>\n",
            "image/png": "[encoded data removed]"
          },
          "metadata": {
            "needs_background": "light"
          }
        }
      ],
      "source": [
        "%matplotlib inline\n",
        "import matplotlib.pyplot as plt\n",
        "plt.plot(train_loss_vals, 'b-')\n",
        "plt.ylim([0, max(train_loss_vals)*1.2])\n",
        "plt.show()"
      ]
    },
    {
      "cell_type": "code",
      "execution_count": 15,
      "metadata": {
        "tags": []
      },
      "outputs": [
        {
          "output_type": "display_data",
          "data": {
            "text/plain": "HBox(children=(FloatProgress(value=0.0, max=45.0), HTML(value=&#39;&#39;)))",
            "application/vnd.jupyter.widget-view+json": {
              "version_major": 2,
              "version_minor": 0,
              "model_id": "20bb624a37e44286bb4c7b7b62d7dfa3"
            }
          },
          "metadata": {}
        },
        {
          "output_type": "stream",
          "name": "stdout",
          "text": "\n[  50/  50]|Acc: 96.99% |mIoU: 54.73% |\n"
        }
      ],
      "source": [
        "# paper had result of 40.84 mIoU\n",
        "eval_result = test_model(net, device, test_dataloader, loss_func, experiment, eval_name='Test')"
      ]
    }
  ]
}